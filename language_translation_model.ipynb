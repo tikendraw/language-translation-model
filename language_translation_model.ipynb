{
  "cells": [
    {
      "cell_type": "markdown",
      "metadata": {
        "id": "view-in-github",
        "colab_type": "text"
      },
      "source": [
        "<a href=\"https://colab.research.google.com/github/tikendraw/language-translation-model/blob/main/language_translation_model.ipynb\" target=\"_parent\"><img src=\"https://colab.research.google.com/assets/colab-badge.svg\" alt=\"Open In Colab\"/></a>"
      ]
    },
    {
      "cell_type": "markdown",
      "metadata": {
        "id": "n1hJ48ytxM3b"
      },
      "source": [
        "# Language Translation Model (English to Hindi)\n",
        "\n",
        "\n",
        "---\n",
        "\n",
        "\n"
      ]
    },
    {
      "cell_type": "code",
      "execution_count": 1,
      "metadata": {
        "colab": {
          "base_uri": "https://localhost:8080/"
        },
        "id": "lrmDJdXC9SfD",
        "outputId": "93f36fac-513c-4459-ecc1-ec3417aa337c"
      },
      "outputs": [
        {
          "output_type": "stream",
          "name": "stdout",
          "text": [
            "Cloning into 'language-translation-model'...\n",
            "remote: Enumerating objects: 28, done.\u001b[K\n",
            "remote: Counting objects: 100% (28/28), done.\u001b[K\n",
            "remote: Compressing objects: 100% (23/23), done.\u001b[K\n",
            "remote: Total 28 (delta 11), reused 16 (delta 5), pack-reused 0\u001b[K\n",
            "Unpacking objects: 100% (28/28), 419.85 KiB | 3.59 MiB/s, done.\n",
            "/content/language-translation-model\n"
          ]
        }
      ],
      "source": [
        "import os, sys\n",
        "if 'google.colab' in sys.modules:\n",
        "    \n",
        "    ! git clone https://github.com/tikendraw/language-translation-model.git \n",
        "    os.chdir('language-translation-model') \n",
        "    print(os.getcwd())"
      ]
    },
    {
      "cell_type": "code",
      "execution_count": 2,
      "metadata": {
        "colab": {
          "base_uri": "https://localhost:8080/"
        },
        "id": "1cxy3JvX9Fw4",
        "outputId": "355b7222-6210-4bb9-99c7-569b775308db"
      },
      "outputs": [
        {
          "output_type": "stream",
          "name": "stdout",
          "text": [
            "\u001b[2K     \u001b[90m━━━━━━━━━━━━━━━━━━━━━━━━━━━━━━━━━━━━━━━━\u001b[0m \u001b[32m15.2/15.2 MB\u001b[0m \u001b[31m51.7 MB/s\u001b[0m eta \u001b[36m0:00:00\u001b[0m\n",
            "\u001b[?25hTf version:  2.11.0\n",
            "GPU:  1\n",
            "[PhysicalDevice(name='/physical_device:GPU:0', device_type='GPU')]\n"
          ]
        }
      ],
      "source": [
        "# Dependencies\n",
        "! pip install polars -q\n",
        "import polars as pd\n",
        "from datetime import datetime\n",
        "import numpy as np\n",
        "import tensorflow as tf\n",
        "from tensorflow import keras\n",
        "from tensorflow.keras import layers, Model , optimizers\n",
        "from tensorflow.keras.layers import Attention,GRU, LSTM, Bidirectional, Dense, MaxPooling1D, GlobalAveragePooling1D, GlobalMaxPooling1D, AveragePooling1D, Dropout, concatenate, Concatenate\n",
        "\n",
        "import seaborn as sns\n",
        "import matplotlib.pyplot as plt\n",
        "\n",
        "# !pip install tensorflow_hub -q\n",
        "# import tensorflow_hub as hub\n",
        "import os\n",
        "import re\n",
        "import json\n",
        "from sklearn.model_selection import train_test_split\n",
        "\n",
        "print('Tf version: ',tf.__version__)\n",
        "print('GPU: ', is_gpu:=len(tf.config.list_physical_devices('GPU')))\n",
        "import tensorflow as tf\n",
        "\n",
        "os.environ['TF_CPP_MIN_LOG_LEVEL'] = '3' \n",
        "os.environ[\"TFHUB_CACHE_DIR\"] = './tmp/tfhub'\n",
        "\n",
        "\"\"\"\"\"\"\"\"\"\"\"\"\"\"\"\"\"\"\"\"\"\"\"\"\"\"\"\"\"\"\"\"\"\"\"\"\"\"\"\"\"\"\"\"\"\"\"\"\"\"\"\"\"\"\"\"\"\n",
        "[PhysicalDevice(name='/physical_device:GPU:0', device_type='GPU')]\n",
        "None\n",
        "\"\"\"\"\"\"\"\"\"\"\"\"\"\"\"\"\"\"\"\"\"\"\"\"\"\"\"\"\"\"\"\"\"\"\"\"\"\"\"\"\"\"\"\"\"\"\"\"\"\"\"\"\"\"\"\"\"\n",
        "if is_gpu:\n",
        "    physical_devices = tf.config.experimental.list_physical_devices('GPU')\n",
        "    assert len(physical_devices) > 0, \"Not enough GPU hardware devices available\"\n",
        "    config = tf.config.experimental.set_memory_growth(physical_devices[0], True)\n",
        "    print(physical_devices)\n"
      ]
    },
    {
      "cell_type": "code",
      "execution_count": 3,
      "metadata": {
        "id": "nY49Vs8mxGcD"
      },
      "outputs": [],
      "source": [
        "dataset_url = 'http://www.manythings.org/anki/hin-eng.zip'"
      ]
    },
    {
      "cell_type": "code",
      "execution_count": 4,
      "metadata": {
        "id": "H7P06oG8xiS7"
      },
      "outputs": [],
      "source": [
        "# # # Download the dataset\n",
        "# if 'google.colab' in sys.modules:\n",
        "#     # donwload\n",
        "#     !wget $dataset_url -P dataset\n",
        "\n",
        "#     # # Unzip the downloaded file\n",
        "#     !unzip ./dataset/hin-eng.zip -d ./dataset\n",
        "\n",
        "#     # # Show size\n",
        "#     !du -h  ./dataset"
      ]
    },
    {
      "cell_type": "markdown",
      "metadata": {
        "id": "ITptJktjzLho"
      },
      "source": [
        "# Reading the data"
      ]
    },
    {
      "cell_type": "code",
      "execution_count": 4,
      "metadata": {
        "id": "4XP6M5Eb0t5F"
      },
      "outputs": [],
      "source": []
    },
    {
      "cell_type": "code",
      "execution_count": 5,
      "metadata": {
        "id": "vraPNhwl0t2Z"
      },
      "outputs": [],
      "source": [
        "df = pd.read_csv('./dataset/hin.txt', sep = '\\t', new_columns = ['english', 'hindi', 'somethingelse'])[['english','hindi']]"
      ]
    },
    {
      "cell_type": "code",
      "execution_count": 6,
      "metadata": {
        "colab": {
          "base_uri": "https://localhost:8080/"
        },
        "id": "EsHrOgJX0t0m",
        "outputId": "f15cce60-e935-40ee-cb1e-2ff6cc25194d"
      },
      "outputs": [
        {
          "output_type": "execute_result",
          "data": {
            "text/plain": [
              "(2908, 2)"
            ]
          },
          "metadata": {},
          "execution_count": 6
        }
      ],
      "source": [
        "df.shape"
      ]
    },
    {
      "cell_type": "code",
      "execution_count": 7,
      "metadata": {
        "colab": {
          "base_uri": "https://localhost:8080/",
          "height": 412
        },
        "id": "_iYNVAyD0tyx",
        "outputId": "53f47eb1-48c0-4169-ee1e-801186400578"
      },
      "outputs": [
        {
          "output_type": "execute_result",
          "data": {
            "text/plain": [
              "shape: (10, 2)\n",
              "┌─────────────────────────────────────┬─────────────────────────────────┐\n",
              "│ english                             ┆ hindi                           │\n",
              "│ ---                                 ┆ ---                             │\n",
              "│ str                                 ┆ str                             │\n",
              "╞═════════════════════════════════════╪═════════════════════════════════╡\n",
              "│ Do you believe in God?              ┆ क्या तुम भगवान में विश्वास करते ...   │\n",
              "│ I had my brother repair my bicyc... ┆ मैंने अपने भाई से अपनी साईकल ठीक...  │\n",
              "│ I don't know how, but Tom did it... ┆ पता नहीं कैसे पर टॉम ने कर दिया।    │\n",
              "│ Do you feel any pain in your sto... ┆ क्या आपको पेट में दर्द महसूस हो ...   │\n",
              "│ ...                                 ┆ ...                             │\n",
              "│ According to TV news, there was ... ┆ टीवी समाचार के मुताबिक, भारत में... │\n",
              "│ I will get through with my homew... ┆ मैं उसके आने से पहले अपना होमवर्...    │\n",
              "│ She had a daughter by her first ... ┆ उसकी अपने पहले पति से एक लड़की थ... │\n",
              "│ I am looking for a present for m... ┆ मैं अपनी मम्मी के लिए तोह्फ़ा ढू...    │\n",
              "└─────────────────────────────────────┴─────────────────────────────────┘"
            ],
            "text/html": [
              "<div>\n",
              "<style>\n",
              ".pl-dataframe > thead > tr > th {\n",
              "  text-align: right;\n",
              "}\n",
              "</style>\n",
              "\n",
              "<table border=\"1\" class=\"dataframe pl-dataframe\">\n",
              "<small>shape: (10, 2)</small>\n",
              "<thead>\n",
              "<tr>\n",
              "<th>\n",
              "english\n",
              "</th>\n",
              "<th>\n",
              "hindi\n",
              "</th>\n",
              "</tr>\n",
              "<tr>\n",
              "<td>\n",
              "str\n",
              "</td>\n",
              "<td>\n",
              "str\n",
              "</td>\n",
              "</tr>\n",
              "</thead>\n",
              "<tbody>\n",
              "<tr>\n",
              "<td>\n",
              "&quot;Do you believe...\n",
              "</td>\n",
              "<td>\n",
              "&quot;क्या तुम भगवान...\n",
              "</td>\n",
              "</tr>\n",
              "<tr>\n",
              "<td>\n",
              "&quot;I had my broth...\n",
              "</td>\n",
              "<td>\n",
              "&quot;मैंने अपने भाई...\n",
              "</td>\n",
              "</tr>\n",
              "<tr>\n",
              "<td>\n",
              "&quot;I don&#x27;t know h...\n",
              "</td>\n",
              "<td>\n",
              "&quot;पता नहीं कैसे ...\n",
              "</td>\n",
              "</tr>\n",
              "<tr>\n",
              "<td>\n",
              "&quot;Do you feel an...\n",
              "</td>\n",
              "<td>\n",
              "&quot;क्या आपको पेट ...\n",
              "</td>\n",
              "</tr>\n",
              "<tr>\n",
              "<td>\n",
              "&quot;He doesn&#x27;t hav...\n",
              "</td>\n",
              "<td>\n",
              "&quot;उसके पास जीने ...\n",
              "</td>\n",
              "</tr>\n",
              "<tr>\n",
              "<td>\n",
              "&quot;How is it goin...\n",
              "</td>\n",
              "<td>\n",
              "&quot;मछली बाज़ार मे...\n",
              "</td>\n",
              "</tr>\n",
              "<tr>\n",
              "<td>\n",
              "&quot;According to T...\n",
              "</td>\n",
              "<td>\n",
              "&quot;टीवी समाचार के...\n",
              "</td>\n",
              "</tr>\n",
              "<tr>\n",
              "<td>\n",
              "&quot;I will get thr...\n",
              "</td>\n",
              "<td>\n",
              "&quot;मैं उसके आने स...\n",
              "</td>\n",
              "</tr>\n",
              "<tr>\n",
              "<td>\n",
              "&quot;She had a daug...\n",
              "</td>\n",
              "<td>\n",
              "&quot;उसकी अपने पहले...\n",
              "</td>\n",
              "</tr>\n",
              "<tr>\n",
              "<td>\n",
              "&quot;I am looking f...\n",
              "</td>\n",
              "<td>\n",
              "&quot;मैं अपनी मम्मी...\n",
              "</td>\n",
              "</tr>\n",
              "</tbody>\n",
              "</table>\n",
              "</div>"
            ]
          },
          "metadata": {},
          "execution_count": 7
        }
      ],
      "source": [
        "df.sample(10)"
      ]
    },
    {
      "cell_type": "code",
      "execution_count": 8,
      "metadata": {
        "id": "swlPFpr-0txP"
      },
      "outputs": [],
      "source": [
        "from sklearn.model_selection import train_test_split"
      ]
    },
    {
      "cell_type": "code",
      "execution_count": 9,
      "metadata": {
        "id": "BDxEUwx2jFxB"
      },
      "outputs": [],
      "source": [
        "UNITS = 32\n",
        "EMBEDDING_DIMS = 16\n",
        "BATCH_SIZE = 32"
      ]
    },
    {
      "cell_type": "markdown",
      "metadata": {
        "id": "ceSkRUmM0twM"
      },
      "source": [
        "# Prepare the data `tf.data`"
      ]
    },
    {
      "cell_type": "code",
      "execution_count": 10,
      "metadata": {
        "id": "BCw6ZgqV0tuW"
      },
      "outputs": [],
      "source": [
        "# Split the data for train and val\n",
        "train_df, val_df = train_test_split(df, test_size = .02, random_state = 4 )"
      ]
    },
    {
      "cell_type": "code",
      "execution_count": 11,
      "metadata": {
        "colab": {
          "base_uri": "https://localhost:8080/"
        },
        "id": "kA0bZi7Z0ttP",
        "outputId": "91d3a3bb-f9a6-4322-cdc7-f8983503f0d1"
      },
      "outputs": [
        {
          "output_type": "stream",
          "name": "stdout",
          "text": [
            "train shape:  (2849, 2)\n",
            "val shape:  (59, 2)\n"
          ]
        }
      ],
      "source": [
        "print('train shape: ', train_df.shape)\n",
        "print('val shape: ', val_df.shape)"
      ]
    },
    {
      "cell_type": "code",
      "execution_count": 12,
      "metadata": {
        "id": "z5rNSvh2jFxE"
      },
      "outputs": [],
      "source": [
        "BUFFER_SIZE = 2000"
      ]
    },
    {
      "cell_type": "code",
      "execution_count": 13,
      "metadata": {
        "id": "puSucMUn0tq-"
      },
      "outputs": [],
      "source": [
        "train_ds = tf.data.Dataset.from_tensor_slices((train_df['english'].to_list(), train_df['hindi'].to_list())).shuffle(BUFFER_SIZE).batch(BATCH_SIZE)\n",
        "val_ds = tf.data.Dataset.from_tensor_slices((val_df['english'].to_list(), val_df['hindi'].to_list())).shuffle(BUFFER_SIZE).batch(BATCH_SIZE)"
      ]
    },
    {
      "cell_type": "code",
      "execution_count": 14,
      "metadata": {
        "colab": {
          "base_uri": "https://localhost:8080/"
        },
        "id": "RqH0xQMUjFxG",
        "outputId": "0b56f44b-9a7f-4999-b109-a043161e5d1e"
      },
      "outputs": [
        {
          "output_type": "execute_result",
          "data": {
            "text/plain": [
              "90"
            ]
          },
          "metadata": {},
          "execution_count": 14
        }
      ],
      "source": [
        "len(train_ds)"
      ]
    },
    {
      "cell_type": "code",
      "execution_count": 15,
      "metadata": {
        "id": "_APB0Ah64b26"
      },
      "outputs": [],
      "source": [
        "\n",
        "# preprocessing text\n",
        "def tf_lower_and_split_punct_en(text):\n",
        "    # Split accented characters.\n",
        "    # text = tf.text.normalize_utf8(text, 'NFKD')\n",
        "    text = tf.strings.lower(text)\n",
        "    # Keep space, a to z, and select punctuation.\n",
        "    text = tf.strings.regex_replace(text, '[^ a-z.?!,¿]', '')\n",
        "    # Add spaces around punctuation.\n",
        "    text = tf.strings.regex_replace(text, '[.?!,¿|]', r' \\0 ')\n",
        "    # Strip whitespace.\n",
        "    text = tf.strings.strip(text)\n",
        "\n",
        "    text = tf.strings.join(['[START]', text, '[END]'], separator=' ')\n",
        "\n",
        "    return text\n",
        "\n",
        "\n",
        "\n",
        "# preprocessing text\n",
        "def tf_lower_and_split_punct_hi(text):\n",
        "    text = tf.strings.regex_replace(text, '[.?!,¿|]', r' \\0 ')\n",
        "    text = tf.strings.strip(text)\n",
        "    text = tf.strings.join(['[START]', text, '[END]'], separator=' ')\n",
        "    return text"
      ]
    },
    {
      "cell_type": "code",
      "execution_count": 16,
      "metadata": {
        "colab": {
          "base_uri": "https://localhost:8080/"
        },
        "id": "OfNyTkJ56pPt",
        "outputId": "25d929ff-67b6-4818-fb29-9652e07a138a"
      },
      "outputs": [
        {
          "output_type": "stream",
          "name": "stdout",
          "text": [
            "उन्होंने मेरी का| मज़ाक उड़ाया\n",
            "tf.Tensor(b'[START] \\xe0\\xa4\\x89\\xe0\\xa4\\xa8\\xe0\\xa5\\x8d\\xe0\\xa4\\xb9\\xe0\\xa5\\x8b\\xe0\\xa4\\x82\\xe0\\xa4\\xa8\\xe0\\xa5\\x87 \\xe0\\xa4\\xae\\xe0\\xa5\\x87\\xe0\\xa4\\xb0\\xe0\\xa5\\x80 \\xe0\\xa4\\x95\\xe0\\xa4\\xbe |  \\xe0\\xa4\\xae\\xe0\\xa4\\x9c\\xe0\\xa4\\xbc\\xe0\\xa4\\xbe\\xe0\\xa4\\x95 \\xe0\\xa4\\x89\\xe0\\xa4\\xa1\\xe0\\xa4\\xbc\\xe0\\xa4\\xbe\\xe0\\xa4\\xaf\\xe0\\xa4\\xbe [END]', shape=(), dtype=string)\n",
            "[START] उन्होंने मेरी का |  मज़ाक उड़ाया [END]\n"
          ]
        }
      ],
      "source": [
        "some_hindi_text = 'उन्होंने मेरी का| मज़ाक उड़ाया'\n",
        "print(some_hindi_text)\n",
        "b= tf_lower_and_split_punct_hi(some_hindi_text)\n",
        "print(b)\n",
        "print(b.numpy().decode())\n",
        "del(b)"
      ]
    },
    {
      "cell_type": "code",
      "execution_count": 17,
      "metadata": {
        "colab": {
          "base_uri": "https://localhost:8080/"
        },
        "id": "cRZEds9s0tpU",
        "outputId": "22dbaf32-4740-4528-c9c2-40caf9716889"
      },
      "outputs": [
        {
          "output_type": "stream",
          "name": "stdout",
          "text": [
            "i:  tf.Tensor(\n",
            "[b'He was destined never to meet her again.' b'I meant it as a joke.'\n",
            " b\"I don't know if I'll have time to do it.\" b'I know his address.'\n",
            " b'She reminds me very much of her mother.' b'What is this?'\n",
            " b'We enjoyed skating.' b\"I'd just like to ask Tom one question.\"\n",
            " b'She likes her school a lot.'\n",
            " b'There is no point in studying if you are feeling tired.'\n",
            " b'How do you feel today?' b'They went on talking for hours.'\n",
            " b'He looked back and smiled at me.' b'You made me lose my mind.'\n",
            " b'A rubber ball bounces because it is elastic.'\n",
            " b\"You can't buy that kind of loyalty.\" b\"We're all going to die someday.\"\n",
            " b'Are you the owner of this house?' b'Water is very important.'\n",
            " b'Do you think he will be elected president again?'\n",
            " b'This medicine will take the pain away.'\n",
            " b'Perhaps he will never be famous.'\n",
            " b\"They'll fall in love with each other.\" b\"She isn't married.\"\n",
            " b'Shall I clean the room?' b'The water is not drinkable.'\n",
            " b'These questions are easy to answer.' b'Is your father a teacher?'\n",
            " b\"We're here to protect you.\"\n",
            " b'I brush my teeth at least three times a day.'\n",
            " b'Is it about ten million yen?' b'This lion is very tame.'], shape=(32,), dtype=string)\n",
            "j:  tf.Tensor(\n",
            "[b'\\xe0\\xa4\\x89\\xe0\\xa4\\xb8\\xe0\\xa4\\x95\\xe0\\xa5\\x87 \\xe0\\xa4\\xa8\\xe0\\xa4\\xb8\\xe0\\xa5\\x80\\xe0\\xa4\\xac \\xe0\\xa4\\xae\\xe0\\xa5\\x87\\xe0\\xa4\\x82 \\xe0\\xa4\\x89\\xe0\\xa4\\xb8\\xe0\\xa4\\xb8\\xe0\\xa5\\x87 \\xe0\\xa4\\xab\\xe0\\xa4\\xbf\\xe0\\xa4\\xb0\\xe0\\xa4\\xb8\\xe0\\xa5\\x87 \\xe0\\xa4\\xae\\xe0\\xa4\\xbf\\xe0\\xa4\\xb2\\xe0\\xa4\\xa8\\xe0\\xa4\\xbe \\xe0\\xa4\\xa8\\xe0\\xa4\\xb9\\xe0\\xa5\\x80\\xe0\\xa4\\x82 \\xe0\\xa4\\xb2\\xe0\\xa4\\xbf\\xe0\\xa4\\x96\\xe0\\xa4\\xbe \\xe0\\xa4\\xb9\\xe0\\xa5\\x81\\xe0\\xa4\\x86 \\xe0\\xa4\\xa5\\xe0\\xa4\\xbe\\xe0\\xa5\\xa4'\n",
            " b'\\xe0\\xa4\\xae\\xe0\\xa5\\x88\\xe0\\xa4\\x82\\xe0\\xa4\\xa8\\xe0\\xa5\\x87 \\xe0\\xa4\\xa4\\xe0\\xa5\\x8b \\xe0\\xa4\\xae\\xe0\\xa4\\x9c\\xe0\\xa4\\xbc\\xe0\\xa4\\xbe\\xe0\\xa4\\x95 \\xe0\\xa4\\x95\\xe0\\xa5\\x87 \\xe0\\xa4\\xa4\\xe0\\xa5\\x8c\\xe0\\xa4\\xb0 \\xe0\\xa4\\xaa\\xe0\\xa4\\xb0 \\xe0\\xa4\\x95\\xe0\\xa4\\xb9\\xe0\\xa4\\xbe \\xe0\\xa4\\xa5\\xe0\\xa4\\xbe\\xe0\\xa5\\xa4'\n",
            " b'\\xe0\\xa4\\xae\\xe0\\xa5\\x81\\xe0\\xa4\\x9d\\xe0\\xa5\\x87 \\xe0\\xa4\\xa8\\xe0\\xa4\\xb9\\xe0\\xa5\\x80\\xe0\\xa4\\x82 \\xe0\\xa4\\xaa\\xe0\\xa4\\xa4\\xe0\\xa4\\xbe \\xe0\\xa4\\xae\\xe0\\xa5\\x87\\xe0\\xa4\\xb0\\xe0\\xa5\\x87 \\xe0\\xa4\\xaa\\xe0\\xa4\\xbe\\xe0\\xa4\\xb8 \\xe0\\xa4\\xaf\\xe0\\xa4\\xb9 \\xe0\\xa4\\x95\\xe0\\xa4\\xb0\\xe0\\xa4\\xa8\\xe0\\xa5\\x87 \\xe0\\xa4\\x95\\xe0\\xa5\\x87 \\xe0\\xa4\\xb2\\xe0\\xa4\\xbf\\xe0\\xa4\\x8f \\xe0\\xa4\\xb8\\xe0\\xa4\\xae\\xe0\\xa4\\xaf \\xe0\\xa4\\xb9\\xe0\\xa5\\x8b\\xe0\\xa4\\x97\\xe0\\xa4\\xbe \\xe0\\xa4\\x95\\xe0\\xa4\\xbf \\xe0\\xa4\\xa8\\xe0\\xa4\\xb9\\xe0\\xa5\\x80\\xe0\\xa4\\x82\\xe0\\xa5\\xa4'\n",
            " b'\\xe0\\xa4\\xae\\xe0\\xa5\\x81\\xe0\\xa4\\x9d\\xe0\\xa5\\x87 \\xe0\\xa4\\x89\\xe0\\xa4\\xb8\\xe0\\xa4\\x95\\xe0\\xa4\\xbe \\xe0\\xa4\\xaa\\xe0\\xa4\\xa4\\xe0\\xa4\\xbe \\xe0\\xa4\\xaa\\xe0\\xa4\\xa4\\xe0\\xa4\\xbe \\xe0\\xa4\\xb9\\xe0\\xa5\\x88\\xe0\\xa5\\xa4'\n",
            " b'\\xe0\\xa4\\xb5\\xe0\\xa4\\xb9 \\xe0\\xa4\\xae\\xe0\\xa5\\x81\\xe0\\xa4\\x9d\\xe0\\xa5\\x87 \\xe0\\xa4\\x89\\xe0\\xa4\\xb8\\xe0\\xa4\\x95\\xe0\\xa5\\x80 \\xe0\\xa4\\xae\\xe0\\xa4\\xbe\\xe0\\xa4\\x81 \\xe0\\xa4\\x95\\xe0\\xa5\\x80 \\xe0\\xa4\\xaf\\xe0\\xa4\\xbe\\xe0\\xa4\\xa6 \\xe0\\xa4\\xa6\\xe0\\xa4\\xbf\\xe0\\xa4\\xb2\\xe0\\xa4\\xbe\\xe0\\xa4\\xa4\\xe0\\xa5\\x80 \\xe0\\xa4\\xb9\\xe0\\xa5\\x88\\xe0\\xa5\\xa4'\n",
            " b'\\xe0\\xa4\\xaf\\xe0\\xa4\\xb9 \\xe0\\xa4\\x95\\xe0\\xa5\\x8d\\xe0\\xa4\\xaf\\xe0\\xa4\\xbe \\xe0\\xa4\\xb9\\xe0\\xa5\\x88?'\n",
            " b'\\xe0\\xa4\\xb9\\xe0\\xa4\\xae\\xe0\\xa5\\x87 \\xe0\\xa4\\xb8\\xe0\\xa5\\x8d\\xe0\\xa4\\x95\\xe0\\xa5\\x87\\xe0\\xa4\\x9f\\xe0\\xa4\\xbf\\xe0\\xa4\\x82\\xe0\\xa4\\x97 \\xe0\\xa4\\x95\\xe0\\xa4\\xb0\\xe0\\xa4\\x95\\xe0\\xa5\\x87 \\xe0\\xa4\\xae\\xe0\\xa4\\x9c\\xe0\\xa4\\xbc\\xe0\\xa4\\xbe \\xe0\\xa4\\x86\\xe0\\xa4\\xaf\\xe0\\xa4\\xbe\\xe0\\xa5\\xa4'\n",
            " b'\\xe0\\xa4\\xae\\xe0\\xa5\\x88\\xe0\\xa4\\x82 \\xe0\\xa4\\x9f\\xe0\\xa5\\x89\\xe0\\xa4\\xae \\xe0\\xa4\\xb8\\xe0\\xa5\\x87 \\xe0\\xa4\\x8f\\xe0\\xa4\\x95 \\xe0\\xa4\\xb8\\xe0\\xa4\\xb5\\xe0\\xa4\\xbe\\xe0\\xa4\\xb2 \\xe0\\xa4\\xaa\\xe0\\xa5\\x82\\xe0\\xa4\\x9b\\xe0\\xa4\\xa8\\xe0\\xa4\\xbe \\xe0\\xa4\\x9a\\xe0\\xa4\\xbe\\xe0\\xa4\\xb9\\xe0\\xa5\\x82\\xe0\\xa4\\x81\\xe0\\xa4\\x97\\xe0\\xa5\\x80\\xe0\\xa5\\xa4'\n",
            " b'\\xe0\\xa4\\x89\\xe0\\xa4\\xb8\\xe0\\xa5\\x87 \\xe0\\xa4\\x85\\xe0\\xa4\\xaa\\xe0\\xa4\\xa8\\xe0\\xa4\\xbe \\xe0\\xa4\\xb8\\xe0\\xa5\\x8d\\xe0\\xa4\\x95\\xe0\\xa5\\x82\\xe0\\xa4\\xb2 \\xe0\\xa4\\xac\\xe0\\xa4\\xb9\\xe0\\xa5\\x81\\xe0\\xa4\\xa4 \\xe0\\xa4\\xaa\\xe0\\xa4\\xb8\\xe0\\xa4\\x82\\xe0\\xa4\\xa6 \\xe0\\xa4\\xb9\\xe0\\xa5\\x88\\xe0\\xa5\\xa4'\n",
            " b'\\xe0\\xa4\\x85\\xe0\\xa4\\x97\\xe0\\xa4\\xb0 \\xe0\\xa4\\xa5\\xe0\\xa4\\x95 \\xe0\\xa4\\x97\\xe0\\xa4\\x8f \\xe0\\xa4\\xb9\\xe0\\xa5\\x8b \\xe0\\xa4\\xa4\\xe0\\xa5\\x8b \\xe0\\xa4\\xaa\\xe0\\xa4\\xa2\\xe0\\xa4\\xbc\\xe0\\xa4\\xbe\\xe0\\xa4\\x88 \\xe0\\xa4\\x95\\xe0\\xa4\\xb0\\xe0\\xa4\\xa8\\xe0\\xa5\\x87 \\xe0\\xa4\\xb8\\xe0\\xa5\\x87 \\xe0\\xa4\\x95\\xe0\\xa5\\x8b\\xe0\\xa4\\x88 \\xe0\\xa4\\xab\\xe0\\xa4\\xbc\\xe0\\xa4\\xbe\\xe0\\xa4\\xaf\\xe0\\xa4\\xa6\\xe0\\xa4\\xbe \\xe0\\xa4\\xa8\\xe0\\xa4\\xb9\\xe0\\xa5\\x80\\xe0\\xa4\\x82 \\xe0\\xa4\\xb9\\xe0\\xa5\\x88\\xe0\\xa5\\xa4'\n",
            " b'\\xe0\\xa4\\xa4\\xe0\\xa5\\x81\\xe0\\xa4\\xae\\xe0\\xa5\\x8d\\xe0\\xa4\\xb9\\xe0\\xa5\\x87\\xe0\\xa4\\x82 \\xe0\\xa4\\x86\\xe0\\xa4\\x9c \\xe0\\xa4\\x95\\xe0\\xa5\\x88\\xe0\\xa4\\xb8\\xe0\\xa4\\xbe \\xe0\\xa4\\xb2\\xe0\\xa4\\x97 \\xe0\\xa4\\xb0\\xe0\\xa4\\xb9\\xe0\\xa4\\xbe \\xe0\\xa4\\xb9\\xe0\\xa5\\x88?'\n",
            " b'\\xe0\\xa4\\x89\\xe0\\xa4\\xa8\\xe0\\xa5\\x8d\\xe0\\xa4\\xb9\\xe0\\xa5\\x8b\\xe0\\xa4\\x82\\xe0\\xa4\\xa8\\xe0\\xa5\\x87 \\xe0\\xa4\\x94\\xe0\\xa4\\xb0 \\xe0\\xa4\\x95\\xe0\\xa5\\x81\\xe0\\xa4\\x9b \\xe0\\xa4\\x98\\xe0\\xa4\\x82\\xe0\\xa4\\x9f\\xe0\\xa5\\x8b\\xe0\\xa4\\x82 \\xe0\\xa4\\x95\\xe0\\xa5\\x87 \\xe0\\xa4\\xb2\\xe0\\xa4\\xbf\\xe0\\xa4\\x8f \\xe0\\xa4\\xac\\xe0\\xa4\\xbe\\xe0\\xa4\\xa4\\xe0\\xa4\\x9a\\xe0\\xa5\\x80\\xe0\\xa4\\xa4 \\xe0\\xa4\\x95\\xe0\\xa4\\xb0\\xe0\\xa5\\x80\\xe0\\xa5\\xa4'\n",
            " b'\\xe0\\xa4\\x89\\xe0\\xa4\\xb8\\xe0\\xa4\\xa8\\xe0\\xa5\\x87 \\xe0\\xa4\\xaa\\xe0\\xa5\\x80\\xe0\\xa4\\x9b\\xe0\\xa5\\x87 \\xe0\\xa4\\xae\\xe0\\xa5\\x81\\xe0\\xa4\\xa1\\xe0\\xa4\\xbc\\xe0\\xa4\\x95\\xe0\\xa4\\xb0 \\xe0\\xa4\\xae\\xe0\\xa5\\x81\\xe0\\xa4\\x9d\\xe0\\xa4\\xaa\\xe0\\xa4\\xb0 \\xe0\\xa4\\xae\\xe0\\xa5\\x81\\xe0\\xa4\\xb8\\xe0\\xa5\\x8d\\xe0\\xa4\\x95\\xe0\\xa5\\x81\\xe0\\xa4\\xb0\\xe0\\xa4\\xbe\\xe0\\xa4\\xaf\\xe0\\xa4\\xbe\\xe0\\xa5\\xa4'\n",
            " b'\\xe0\\xa4\\xa4\\xe0\\xa5\\x81\\xe0\\xa4\\xae\\xe0\\xa4\\xa8\\xe0\\xa5\\x87 \\xe0\\xa4\\xae\\xe0\\xa5\\x81\\xe0\\xa4\\x9d\\xe0\\xa5\\x87 \\xe0\\xa4\\xaa\\xe0\\xa4\\xbe\\xe0\\xa4\\x97\\xe0\\xa4\\xb2 \\xe0\\xa4\\x95\\xe0\\xa4\\xb0 \\xe0\\xa4\\xa6\\xe0\\xa4\\xbf\\xe0\\xa4\\xaf\\xe0\\xa4\\xbe\\xe0\\xa5\\xa4'\n",
            " b'\\xe0\\xa4\\xb0\\xe0\\xa4\\xac\\xe0\\xa4\\xa1\\xe0\\xa4\\xbc \\xe0\\xa4\\x95\\xe0\\xa5\\x80 \\xe0\\xa4\\x97\\xe0\\xa5\\x87\\xe0\\xa4\\x82\\xe0\\xa4\\xa6 \\xe0\\xa4\\x89\\xe0\\xa4\\x9b\\xe0\\xa4\\xb2\\xe0\\xa4\\xa4\\xe0\\xa5\\x80 \\xe0\\xa4\\xb9\\xe0\\xa5\\x88 \\xe0\\xa4\\x95\\xe0\\xa5\\x8d\\xe0\\xa4\\xaf\\xe0\\xa5\\x8b\\xe0\\xa4\\x82\\xe0\\xa4\\x95\\xe0\\xa4\\xbf \\xe0\\xa4\\xb5\\xe0\\xa4\\xb9 \\xe0\\xa4\\xb2\\xe0\\xa4\\x9a\\xe0\\xa5\\x80\\xe0\\xa4\\xb2\\xe0\\xa5\\x80 \\xe0\\xa4\\xb9\\xe0\\xa5\\x8b\\xe0\\xa4\\xa4\\xe0\\xa5\\x80 \\xe0\\xa4\\xb9\\xe0\\xa5\\x88\\xe0\\xa5\\xa4'\n",
            " b'\\xe0\\xa4\\x90\\xe0\\xa4\\xb8\\xe0\\xa5\\x80 \\xe0\\xa4\\xb5\\xe0\\xa4\\xab\\xe0\\xa4\\xbc\\xe0\\xa4\\xbe\\xe0\\xa4\\xa6\\xe0\\xa4\\xbe\\xe0\\xa4\\xb0\\xe0\\xa5\\x80 \\xe0\\xa4\\x96\\xe0\\xa4\\xb0\\xe0\\xa5\\x80\\xe0\\xa4\\xa6\\xe0\\xa5\\x80 \\xe0\\xa4\\xa8\\xe0\\xa4\\xb9\\xe0\\xa5\\x80\\xe0\\xa4\\x82 \\xe0\\xa4\\x9c\\xe0\\xa4\\xbe \\xe0\\xa4\\xb8\\xe0\\xa4\\x95\\xe0\\xa4\\xa4\\xe0\\xa5\\x80\\xe0\\xa5\\xa4'\n",
            " b'\\xe0\\xa4\\xb9\\xe0\\xa4\\xae \\xe0\\xa4\\xb8\\xe0\\xa4\\xac \\xe0\\xa4\\x95\\xe0\\xa4\\xbf\\xe0\\xa4\\xb8\\xe0\\xa5\\x80 \\xe0\\xa4\\xa6\\xe0\\xa4\\xbf\\xe0\\xa4\\xa8 \\xe0\\xa4\\xae\\xe0\\xa4\\xb0\\xe0\\xa4\\xa8\\xe0\\xa5\\x87 \\xe0\\xa4\\xb5\\xe0\\xa4\\xbe\\xe0\\xa4\\xb2\\xe0\\xa5\\x87 \\xe0\\xa4\\xb9\\xe0\\xa5\\x88\\xe0\\xa4\\x82\\xe0\\xa5\\xa4'\n",
            " b'\\xe0\\xa4\\x86\\xe0\\xa4\\xaa \\xe0\\xa4\\x87\\xe0\\xa4\\xb8 \\xe0\\xa4\\x98\\xe0\\xa4\\xb0 \\xe0\\xa4\\x95\\xe0\\xa5\\x87 \\xe0\\xa4\\xae\\xe0\\xa4\\xbe\\xe0\\xa4\\xb2\\xe0\\xa4\\xbf\\xe0\\xa4\\x95 \\xe0\\xa4\\xb9\\xe0\\xa5\\x88\\xe0\\xa4\\x82 \\xe0\\xa4\\x95\\xe0\\xa5\\x8d\\xe0\\xa4\\xaf\\xe0\\xa4\\xbe?'\n",
            " b'\\xe0\\xa4\\xaa\\xe0\\xa4\\xbe\\xe0\\xa4\\xa8\\xe0\\xa5\\x80 \\xe0\\xa4\\xac\\xe0\\xa4\\xb9\\xe0\\xa5\\x81\\xe0\\xa4\\xa4 \\xe0\\xa4\\x9c\\xe0\\xa4\\xb0\\xe0\\xa5\\x82\\xe0\\xa4\\xb0\\xe0\\xa5\\x80 \\xe0\\xa4\\xb9\\xe0\\xa5\\x88\\xe0\\xa5\\xa4'\n",
            " b'\\xe0\\xa4\\x95\\xe0\\xa5\\x8d\\xe0\\xa4\\xaf\\xe0\\xa4\\xbe \\xe0\\xa4\\xa4\\xe0\\xa5\\x81\\xe0\\xa4\\xae\\xe0\\xa5\\x8d\\xe0\\xa4\\xb9\\xe0\\xa5\\x87\\xe0\\xa4\\x82 \\xe0\\xa4\\xb2\\xe0\\xa4\\x97\\xe0\\xa4\\xa4\\xe0\\xa4\\xbe \\xe0\\xa4\\xb9\\xe0\\xa5\\x88 \\xe0\\xa4\\xb5\\xe0\\xa4\\xb9 \\xe0\\xa4\\xab\\xe0\\xa4\\xbf\\xe0\\xa4\\xb0\\xe0\\xa4\\xb8\\xe0\\xa5\\x87 \\xe0\\xa4\\xaa\\xe0\\xa5\\x8d\\xe0\\xa4\\xb0\\xe0\\xa5\\x87\\xe0\\xa4\\xb8\\xe0\\xa5\\x80\\xe0\\xa4\\xa1\\xe0\\xa5\\x87\\xe0\\xa4\\x82\\xe0\\xa4\\x9f \\xe0\\xa4\\x9a\\xe0\\xa5\\x81\\xe0\\xa4\\xa8\\xe0\\xa4\\xbe \\xe0\\xa4\\x9c\\xe0\\xa4\\xbe\\xe0\\xa4\\x8f\\xe0\\xa4\\x97\\xe0\\xa4\\xbe?'\n",
            " b'\\xe0\\xa4\\xaf\\xe0\\xa4\\xb9 \\xe0\\xa4\\xa6\\xe0\\xa4\\xb5\\xe0\\xa4\\xbe\\xe0\\xa4\\x88 \\xe0\\xa4\\xa6\\xe0\\xa4\\xb0\\xe0\\xa5\\x8d\\xe0\\xa4\\xa6 \\xe0\\xa4\\x95\\xe0\\xa5\\x8b \\xe0\\xa4\\xa6\\xe0\\xa5\\x82\\xe0\\xa4\\xb0 \\xe0\\xa4\\x95\\xe0\\xa4\\xb0 \\xe0\\xa4\\xa6\\xe0\\xa5\\x87\\xe0\\xa4\\x97\\xe0\\xa5\\x80\\xe0\\xa5\\xa4'\n",
            " b'\\xe0\\xa4\\xb8\\xe0\\xa4\\x82\\xe0\\xa4\\xad\\xe0\\xa4\\xb5\\xe0\\xa4\\xa4\\xe0\\xa4\\x83 \\xe0\\xa4\\xb5\\xe0\\xa4\\xb9 \\xe0\\xa4\\xb5\\xe0\\xa4\\xbf\\xe0\\xa4\\x96\\xe0\\xa5\\x8d\\xe0\\xa4\\xaf\\xe0\\xa4\\xbe\\xe0\\xa4\\xa4 \\xe0\\xa4\\x95\\xe0\\xa4\\xad\\xe0\\xa5\\x80 \\xe0\\xa4\\xa8\\xe0\\xa4\\xb9\\xe0\\xa5\\x80\\xe0\\xa4\\x81 \\xe0\\xa4\\xb9\\xe0\\xa5\\x8b \\xe0\\xa4\\xaa\\xe0\\xa4\\xbe\\xe0\\xa4\\x8f\\xe0\\xa4\\x97\\xe0\\xa4\\xbe\\xe0\\xa5\\xa4'\n",
            " b'\\xe0\\xa4\\x89\\xe0\\xa4\\xa8\\xe0\\xa5\\x8d\\xe0\\xa4\\xb9\\xe0\\xa5\\x87\\xe0\\xa4\\x82 \\xe0\\xa4\\x8f\\xe0\\xa4\\x95-\\xe0\\xa4\\xa6\\xe0\\xa5\\x82\\xe0\\xa4\\xb8\\xe0\\xa4\\xb0\\xe0\\xa5\\x87 \\xe0\\xa4\\xb8\\xe0\\xa5\\x87 \\xe0\\xa4\\xaa\\xe0\\xa5\\x8d\\xe0\\xa4\\xaf\\xe0\\xa4\\xbe\\xe0\\xa4\\xb0 \\xe0\\xa4\\xb9\\xe0\\xa5\\x8b \\xe0\\xa4\\x9c\\xe0\\xa4\\xbe\\xe0\\xa4\\x8f\\xe0\\xa4\\x97\\xe0\\xa4\\xbe\\xe0\\xa5\\xa4'\n",
            " b'\\xe0\\xa4\\xb5\\xe0\\xa4\\xb9 \\xe0\\xa4\\xb6\\xe0\\xa4\\xbe\\xe0\\xa4\\xa6\\xe0\\xa5\\x80\\xe0\\xa4\\xb6\\xe0\\xa5\\x81\\xe0\\xa4\\xa6\\xe0\\xa4\\xbe \\xe0\\xa4\\xa8\\xe0\\xa4\\xb9\\xe0\\xa5\\x80\\xe0\\xa4\\x82 \\xe0\\xa4\\xb9\\xe0\\xa5\\x88\\xe0\\xa5\\xa4'\n",
            " b'\\xe0\\xa4\\xae\\xe0\\xa5\\x88\\xe0\\xa4\\x82 \\xe0\\xa4\\x95\\xe0\\xa4\\xae\\xe0\\xa4\\xb0\\xe0\\xa5\\x87 \\xe0\\xa4\\x95\\xe0\\xa5\\x80 \\xe0\\xa4\\xb8\\xe0\\xa4\\xab\\xe0\\xa4\\xbc\\xe0\\xa4\\xbe\\xe0\\xa4\\x88 \\xe0\\xa4\\x95\\xe0\\xa4\\xb0\\xe0\\xa5\\x82\\xe0\\xa4\\x81 \\xe0\\xa4\\x95\\xe0\\xa5\\x8d\\xe0\\xa4\\xaf\\xe0\\xa4\\xbe?'\n",
            " b'\\xe0\\xa4\\xaf\\xe0\\xa4\\xb9 \\xe0\\xa4\\xaa\\xe0\\xa4\\xbe\\xe0\\xa4\\xa8\\xe0\\xa5\\x80 \\xe0\\xa4\\xaa\\xe0\\xa4\\xbf\\xe0\\xa4\\xaf\\xe0\\xa4\\xbe \\xe0\\xa4\\xa8\\xe0\\xa4\\xb9\\xe0\\xa5\\x80\\xe0\\xa4\\x82 \\xe0\\xa4\\x9c\\xe0\\xa4\\xbe \\xe0\\xa4\\xb8\\xe0\\xa4\\x95\\xe0\\xa4\\xa4\\xe0\\xa4\\xbe \\xe0\\xa4\\xb9\\xe0\\xa5\\x88\\xe0\\xa5\\xa4'\n",
            " b'\\xe0\\xa4\\x87\\xe0\\xa4\\xa8 \\xe0\\xa4\\xb8\\xe0\\xa4\\xb5\\xe0\\xa4\\xbe\\xe0\\xa4\\xb2\\xe0\\xa5\\x8b\\xe0\\xa4\\x82 \\xe0\\xa4\\x95\\xe0\\xa4\\xbe \\xe0\\xa4\\x9c\\xe0\\xa4\\xb5\\xe0\\xa4\\xbe\\xe0\\xa4\\xac \\xe0\\xa4\\xa6\\xe0\\xa5\\x87\\xe0\\xa4\\xa8\\xe0\\xa4\\xbe \\xe0\\xa4\\x86\\xe0\\xa4\\xb8\\xe0\\xa4\\xbe\\xe0\\xa4\\xa8 \\xe0\\xa4\\xb9\\xe0\\xa5\\x88\\xe0\\xa5\\xa4'\n",
            " b'\\xe0\\xa4\\x95\\xe0\\xa5\\x8d\\xe0\\xa4\\xaf\\xe0\\xa4\\xbe \\xe0\\xa4\\x86\\xe0\\xa4\\xaa\\xe0\\xa4\\x95\\xe0\\xa5\\x87 \\xe0\\xa4\\xaa\\xe0\\xa4\\xbe\\xe0\\xa4\\xaa\\xe0\\xa4\\xbe \\xe0\\xa4\\x85\\xe0\\xa4\\xa7\\xe0\\xa5\\x8d\\xe0\\xa4\\xaf\\xe0\\xa4\\xbe\\xe0\\xa4\\xaa\\xe0\\xa4\\x95 \\xe0\\xa4\\xb9\\xe0\\xa5\\x88\\xe0\\xa4\\x82?'\n",
            " b'\\xe0\\xa4\\xb9\\xe0\\xa4\\xae \\xe0\\xa4\\x86\\xe0\\xa4\\xaa\\xe0\\xa4\\x95\\xe0\\xa5\\x80 \\xe0\\xa4\\xb0\\xe0\\xa4\\x95\\xe0\\xa5\\x8d\\xe0\\xa4\\xb7\\xe0\\xa4\\xbe \\xe0\\xa4\\x95\\xe0\\xa4\\xb0\\xe0\\xa4\\xa8\\xe0\\xa5\\x87 \\xe0\\xa4\\x95\\xe0\\xa5\\x87 \\xe0\\xa4\\xb2\\xe0\\xa4\\xbf\\xe0\\xa4\\x8f \\xe0\\xa4\\xaf\\xe0\\xa4\\xb9\\xe0\\xa4\\xbe\\xe0\\xa4\\x81 \\xe0\\xa4\\x86\\xe0\\xa4\\x8f \\xe0\\xa4\\xb9\\xe0\\xa5\\x88\\xe0\\xa4\\x82\\xe0\\xa5\\xa4'\n",
            " b'\\xe0\\xa4\\xae\\xe0\\xa5\\x88\\xe0\\xa4\\x82 \\xe0\\xa4\\xb0\\xe0\\xa5\\x8b\\xe0\\xa4\\x9c\\xe0\\xa4\\xbc\\xe0\\xa4\\xbe\\xe0\\xa4\\xa8\\xe0\\xa4\\xbe \\xe0\\xa4\\x95\\xe0\\xa4\\xae \\xe0\\xa4\\xb8\\xe0\\xa5\\x87 \\xe0\\xa4\\x95\\xe0\\xa4\\xae \\xe0\\xa4\\xa4\\xe0\\xa5\\x80\\xe0\\xa4\\xa8 \\xe0\\xa4\\xac\\xe0\\xa4\\xbe\\xe0\\xa4\\xb0 \\xe0\\xa4\\xae\\xe0\\xa4\\x82\\xe0\\xa4\\x9c\\xe0\\xa4\\xa8 \\xe0\\xa4\\x95\\xe0\\xa4\\xb0\\xe0\\xa4\\xa4\\xe0\\xa5\\x80 \\xe0\\xa4\\xb9\\xe0\\xa5\\x82\\xe0\\xa4\\x81 \\xe0\\xa5\\xa4'\n",
            " b'\\xe0\\xa4\\xa4\\xe0\\xa4\\x95\\xe0\\xa4\\xb0\\xe0\\xa5\\x80\\xe0\\xa4\\xac\\xe0\\xa4\\xa8 \\xe0\\xa4\\xa6\\xe0\\xa4\\xb8 \\xe0\\xa4\\x8f\\xe0\\xa4\\x95 \\xe0\\xa4\\x85\\xe0\\xa4\\xb0\\xe0\\xa4\\xac \\xe0\\xa4\\xaf\\xe0\\xa5\\x87\\xe0\\xa4\\xa8 \\xe0\\xa4\\xb9\\xe0\\xa5\\x8b\\xe0\\xa4\\x82\\xe0\\xa4\\x97\\xe0\\xa5\\x87?'\n",
            " b'\\xe0\\xa4\\xaf\\xe0\\xa4\\xb9 \\xe0\\xa4\\xb6\\xe0\\xa5\\x87\\xe0\\xa4\\xb0 \\xe0\\xa4\\xac\\xe0\\xa4\\xb9\\xe0\\xa5\\x81\\xe0\\xa4\\xa4 \\xe0\\xa4\\xaa\\xe0\\xa4\\xbe\\xe0\\xa4\\xb2\\xe0\\xa4\\xa4\\xe0\\xa5\\x82 \\xe0\\xa4\\xb9\\xe0\\xa5\\x88\\xe0\\xa5\\xa4'], shape=(32,), dtype=string)\n"
          ]
        }
      ],
      "source": [
        "for i, j in train_ds.take(1):\n",
        "    print('i: ',i)\n",
        "    print('j: ', j)\n",
        "    # print('j decoded: ',j.numpy().decode())"
      ]
    },
    {
      "cell_type": "markdown",
      "metadata": {
        "id": "N3DdjsaS4aqs"
      },
      "source": [
        "# Text Vectorization\n"
      ]
    },
    {
      "cell_type": "code",
      "execution_count": 18,
      "metadata": {
        "id": "ZoplDkntjFxL"
      },
      "outputs": [],
      "source": [
        "output_sequence_length = 200"
      ]
    },
    {
      "cell_type": "code",
      "execution_count": 19,
      "metadata": {
        "id": "yZj0w70q0tne"
      },
      "outputs": [],
      "source": [
        "eng_vectorizer = tf.keras.layers.TextVectorization(standardize = tf_lower_and_split_punct_en, output_sequence_length= output_sequence_length)\n",
        "hin_vectorizer = tf.keras.layers.TextVectorization(standardize = tf_lower_and_split_punct_hi, output_sequence_length= output_sequence_length+1 )"
      ]
    },
    {
      "cell_type": "code",
      "execution_count": 20,
      "metadata": {
        "colab": {
          "base_uri": "https://localhost:8080/"
        },
        "id": "lj-Y5ei_0tmG",
        "outputId": "efa9aabb-55df-4c1b-afde-86812b0a3170"
      },
      "outputs": [
        {
          "output_type": "stream",
          "name": "stderr",
          "text": [
            "WARNING:tensorflow:From /usr/local/lib/python3.8/dist-packages/tensorflow/python/autograph/pyct/static_analysis/liveness.py:83: Analyzer.lamba_check (from tensorflow.python.autograph.pyct.static_analysis.liveness) is deprecated and will be removed after 2023-09-23.\n",
            "Instructions for updating:\n",
            "Lambda fuctions will be no more assumed to be used in the statement where they are used, or at least in the same block. https://github.com/tensorflow/tensorflow/issues/56089\n"
          ]
        }
      ],
      "source": [
        "# Adapting to textvectorizer\n",
        "eng_vectorizer.adapt(train_ds.map(lambda x, y: x))\n",
        "hin_vectorizer.adapt(train_ds.map(lambda x, y: y))"
      ]
    },
    {
      "cell_type": "code",
      "execution_count": 21,
      "metadata": {
        "colab": {
          "base_uri": "https://localhost:8080/"
        },
        "id": "msq7v_jN0tkT",
        "outputId": "19dc6f95-89b6-4f87-ad75-99dc27c9d734"
      },
      "outputs": [
        {
          "output_type": "stream",
          "name": "stdout",
          "text": [
            "Maxtokens:\n",
            "English :  2359\n",
            "Hindi:  3016\n"
          ]
        }
      ],
      "source": [
        "max_token_english = len(eng_vectorizer.get_vocabulary())\n",
        "max_token_hindi = len(hin_vectorizer.get_vocabulary())\n",
        "\n",
        "print('Maxtokens:')\n",
        "print( 'English : ', max_token_english)\n",
        "print('Hindi: ', max_token_hindi)"
      ]
    },
    {
      "cell_type": "code",
      "execution_count": 22,
      "metadata": {
        "colab": {
          "base_uri": "https://localhost:8080/"
        },
        "id": "rBovvXnn0tjF",
        "outputId": "91811dad-1d98-41b3-9791-8b6d97e63e13"
      },
      "outputs": [
        {
          "output_type": "stream",
          "name": "stdout",
          "text": [
            "Text:  उन्होंने मेरी का| मज़ाक उड़ाया\n",
            "\n",
            "Encoded text: ,\n"
          ]
        },
        {
          "output_type": "execute_result",
          "data": {
            "text/plain": [
              "<tf.Tensor: shape=(201,), dtype=int64, numpy=\n",
              "array([   2,  173,   40,   20, 1446,  369,    1,    3,    0,    0,    0,\n",
              "          0,    0,    0,    0,    0,    0,    0,    0,    0,    0,    0,\n",
              "          0,    0,    0,    0,    0,    0,    0,    0,    0,    0,    0,\n",
              "          0,    0,    0,    0,    0,    0,    0,    0,    0,    0,    0,\n",
              "          0,    0,    0,    0,    0,    0,    0,    0,    0,    0,    0,\n",
              "          0,    0,    0,    0,    0,    0,    0,    0,    0,    0,    0,\n",
              "          0,    0,    0,    0,    0,    0,    0,    0,    0,    0,    0,\n",
              "          0,    0,    0,    0,    0,    0,    0,    0,    0,    0,    0,\n",
              "          0,    0,    0,    0,    0,    0,    0,    0,    0,    0,    0,\n",
              "          0,    0,    0,    0,    0,    0,    0,    0,    0,    0,    0,\n",
              "          0,    0,    0,    0,    0,    0,    0,    0,    0,    0,    0,\n",
              "          0,    0,    0,    0,    0,    0,    0,    0,    0,    0,    0,\n",
              "          0,    0,    0,    0,    0,    0,    0,    0,    0,    0,    0,\n",
              "          0,    0,    0,    0,    0,    0,    0,    0,    0,    0,    0,\n",
              "          0,    0,    0,    0,    0,    0,    0,    0,    0,    0,    0,\n",
              "          0,    0,    0,    0,    0,    0,    0,    0,    0,    0,    0,\n",
              "          0,    0,    0,    0,    0,    0,    0,    0,    0,    0,    0,\n",
              "          0,    0,    0,    0,    0,    0,    0,    0,    0,    0,    0,\n",
              "          0,    0,    0])>"
            ]
          },
          "metadata": {},
          "execution_count": 22
        }
      ],
      "source": [
        "print('Text: ',some_hindi_text)\n",
        "print('\\nEncoded text: ,')\n",
        "hin_vectorizer(some_hindi_text)"
      ]
    },
    {
      "cell_type": "markdown",
      "metadata": {
        "id": "FM2zCVr60tgA"
      },
      "source": [
        "## Mapping Vectorizer to dataset"
      ]
    },
    {
      "cell_type": "code",
      "execution_count": 23,
      "metadata": {
        "id": "fTsnsCVwjFxP"
      },
      "outputs": [],
      "source": [
        "BATCH_SIZE = 32"
      ]
    },
    {
      "cell_type": "code",
      "execution_count": 24,
      "metadata": {
        "id": "5UvErrnz0teP"
      },
      "outputs": [],
      "source": [
        "def make_vec(x, y ):\n",
        "    x, y = eng_vectorizer(x), hin_vectorizer(y)\n",
        "\n",
        "    y_in = y[:,:-1]\n",
        "    y_out = y[:,1:]\n",
        "    return (x,y_in), y_out"
      ]
    },
    {
      "cell_type": "code",
      "execution_count": 25,
      "metadata": {
        "id": "2TtoPhnZ0tc7"
      },
      "outputs": [],
      "source": [
        "train_ds = train_ds.map(make_vec) #.batch(BATCH_SIZE).prefetch(tf.data.AUTOTUNE)\n",
        "val_ds = val_ds.map(make_vec) # .batch(BATCH_SIZE).prefetch(tf.data.AUTOTUNE)"
      ]
    },
    {
      "cell_type": "code",
      "execution_count": 25,
      "metadata": {
        "id": "6qd2-dCQjFxR"
      },
      "outputs": [],
      "source": []
    },
    {
      "cell_type": "code",
      "execution_count": 26,
      "metadata": {
        "colab": {
          "base_uri": "https://localhost:8080/"
        },
        "id": "6BTOBm3i0tbL",
        "outputId": "5f3b8aa4-b349-4da7-b2f1-91948069ede7"
      },
      "outputs": [
        {
          "output_type": "stream",
          "name": "stdout",
          "text": [
            "tf.Tensor(\n",
            "[[   2    9    1 ...    0    0    0]\n",
            " [   2   52  122 ...    0    0    0]\n",
            " [   2  591  155 ...    0    0    0]\n",
            " ...\n",
            " [   2    9    1 ...    0    0    0]\n",
            " [   2   12 1406 ...    0    0    0]\n",
            " [   2   12    1 ...    0    0    0]], shape=(32, 200), dtype=int64)\n",
            "\n",
            "tf.Tensor(\n",
            "[[   9    1   22 ...    0    0    0]\n",
            " [  52  122  127 ...    0    0    0]\n",
            " [ 591  155  443 ...    0    0    0]\n",
            " ...\n",
            " [   9    1   42 ...    0    0    0]\n",
            " [  12 1406   89 ...    0    0    0]\n",
            " [  12    1    1 ...    0    0    0]], shape=(32, 200), dtype=int64)\n"
          ]
        }
      ],
      "source": [
        "for i,j in val_ds.take(1):\n",
        "    print(i[1])\n",
        "    print()\n",
        "    print(j)\n",
        "    break"
      ]
    },
    {
      "cell_type": "markdown",
      "metadata": {
        "id": "JkUCiddP0tRf"
      },
      "source": [
        "# Model"
      ]
    },
    {
      "cell_type": "markdown",
      "metadata": {
        "id": "dYUlG5J1jFxT"
      },
      "source": [
        "## Encoder"
      ]
    },
    {
      "cell_type": "code",
      "execution_count": 27,
      "metadata": {
        "id": "Tt4J-fOx0tP5",
        "tags": []
      },
      "outputs": [],
      "source": [
        "class Encoder(tf.keras.layers.Layer):\n",
        "    def __init__(self, text_processor, units, embedding_dims = 32):\n",
        "        super(Encoder, self).__init__()\n",
        "        self.text_processor = text_processor\n",
        "        self.vocab_size = text_processor.vocabulary_size()\n",
        "        self.units = units\n",
        "        # self.return_state = return_state\n",
        "        # The embedding layer converts tokens to vectors\n",
        "        self.embedding = tf.keras.layers.Embedding(self.vocab_size, units, mask_zero=True)\n",
        "\n",
        "        # The RNN layer processes those vectors sequentially.\n",
        "        self.rnn = tf.keras.layers.Bidirectional(\n",
        "            merge_mode='sum',\n",
        "            layer=tf.keras.layers.LSTM(units, \n",
        "                                       return_sequences = True, \n",
        "                                       return_state = True,\n",
        "                                       recurrent_initializer='glorot_uniform'))\n",
        "\n",
        "    def call(self, x):\n",
        "\n",
        "        # 2. The embedding layer looks up the embedding vector for each token.\n",
        "        x = self.embedding(x)\n",
        "\n",
        "        # 3. The GRU processes the sequence of embeddings.\n",
        "        *x, state_h, state_c = self.rnn(x)\n",
        "        tf.print('after encoder return sequence true: ',len(x) )\n",
        "        state = [state_h, state_c]\n",
        "    \n",
        "        return x, state\n",
        "\n",
        "    def convert_input(self, texts):\n",
        "        texts = tf.convert_to_tensor(texts)\n",
        "        if len(texts.shape) == 0:\n",
        "            texts = tf.convert_to_tensor(texts)[tf.newaxis]\n",
        "        context = self.text_processor(texts)\n",
        "        context = self(context)\n",
        "        return context"
      ]
    },
    {
      "cell_type": "markdown",
      "metadata": {
        "id": "f_LCPt7qjFxU"
      },
      "source": [
        "## Attention"
      ]
    },
    {
      "cell_type": "code",
      "execution_count": 28,
      "metadata": {
        "id": "BsaIPmwK0tOQ"
      },
      "outputs": [],
      "source": [
        "class CrossAttention(tf.keras.layers.Layer):\n",
        "    def __init__(self, units, **kwargs):\n",
        "        super().__init__()\n",
        "        self.mha = tf.keras.layers.MultiHeadAttention(key_dim=units, num_heads=1, **kwargs)\n",
        "        self.layernorm = tf.keras.layers.LayerNormalization()\n",
        "        self.add = tf.keras.layers.Add()\n",
        "\n",
        "    def call(self, x, context):\n",
        "\n",
        "        attn_output, attn_scores = self.mha(\n",
        "            query=x,\n",
        "            value=context,\n",
        "            return_attention_scores=True)\n",
        "\n",
        "        # Cache the attention scores for plotting later.\n",
        "        attn_scores = tf.reduce_mean(attn_scores, axis=1)\n",
        "        self.last_attention_weights = attn_scores\n",
        "\n",
        "        x = self.add([x, attn_output])\n",
        "        x = self.layernorm(x)\n",
        "\n",
        "        return x"
      ]
    },
    {
      "cell_type": "markdown",
      "metadata": {
        "id": "0PM0TckqjFxV"
      },
      "source": [
        "## Decoder"
      ]
    },
    {
      "cell_type": "code",
      "execution_count": 29,
      "metadata": {
        "id": "9mOtgmJw0tMk"
      },
      "outputs": [],
      "source": [
        "class Decoder(tf.keras.layers.Layer):\n",
        "    @classmethod\n",
        "    def add_method(cls, fun):\n",
        "        setattr(cls, fun.__name__, fun)\n",
        "        return fun\n",
        "\n",
        "    def __init__(self, text_processor, units, embedding_dims = 32):\n",
        "        super(Decoder, self).__init__()\n",
        "        self.text_processor = text_processor\n",
        "        self.vocab_size = text_processor.vocabulary_size()\n",
        "        self.word_to_id = tf.keras.layers.StringLookup(vocabulary=text_processor.get_vocabulary(), mask_token='', oov_token='[UNK]')\n",
        "        self.id_to_word = tf.keras.layers.StringLookup(vocabulary=text_processor.get_vocabulary(), mask_token='', oov_token='[UNK]', invert=True)\n",
        "        self.start_token = self.word_to_id('[START]')\n",
        "        self.end_token = self.word_to_id('[END]')\n",
        "\n",
        "        self.units = units\n",
        "\n",
        "\n",
        "        # 1. The embedding layer converts token IDs to vectors\n",
        "        self.embedding = tf.keras.layers.Embedding(self.vocab_size, units, mask_zero=True)\n",
        "\n",
        "        # 2. The RNN keeps track of what's been generated so far.\n",
        "        self.rnn = tf.keras.layers.LSTM(units,\n",
        "                                       return_sequences=True,\n",
        "                                       return_state=True,\n",
        "                                       recurrent_initializer='glorot_uniform')\n",
        "\n",
        "        # 3. The RNN output will be the query for the attention layer.\n",
        "        self.attention = CrossAttention(units)\n",
        "\n",
        "        # 4. This fully connected layer produces the logits for each\n",
        "        # output token.\n",
        "        self.output_layer = tf.keras.layers.Dense(self.vocab_size)"
      ]
    },
    {
      "cell_type": "markdown",
      "metadata": {
        "id": "x7Rix8TVjFxX"
      },
      "source": [
        "### Decoder call"
      ]
    },
    {
      "cell_type": "code",
      "execution_count": 30,
      "metadata": {
        "id": "7vLwbSZi0tK3"
      },
      "outputs": [],
      "source": [
        "@Decoder.add_method\n",
        "def call(self,\n",
        "         context, x,\n",
        "         state=None,\n",
        "         return_state=False):  \n",
        "\n",
        "    # 1. Lookup the embeddings\n",
        "    x = self.embedding(x)\n",
        "\n",
        "    # 2. Process the target sequence.\n",
        "    x = self.rnn(x, initial_state=state)\n",
        "    tf.print('decoder output: ', len(x))\n",
        "    # 3. Use the RNN output as the query for the attention over the context.\n",
        "    x = self.attention(x, context)\n",
        "    self.last_attention_weights = self.attention.last_attention_weights\n",
        "\n",
        "\n",
        "    # Step 4. Generate logit predictions for the next token.\n",
        "    logits = self.output_layer(x)\n",
        "\n",
        "    if return_state:\n",
        "        return logits, state\n",
        "    else:\n",
        "        return logits"
      ]
    },
    {
      "cell_type": "code",
      "execution_count": 31,
      "metadata": {
        "id": "6rWI_DmA0tJB"
      },
      "outputs": [],
      "source": [
        "@Decoder.add_method\n",
        "def get_initial_state(self, context):\n",
        "    batch_size = tf.shape(context)[0]\n",
        "    start_tokens = tf.fill([batch_size, 1], self.start_token)\n",
        "    done = tf.zeros([batch_size, 1], dtype=tf.bool)\n",
        "    embedded = self.embedding(start_tokens)\n",
        "    return start_tokens, done, self.rnn.get_initial_state(embedded)[0]"
      ]
    },
    {
      "cell_type": "code",
      "execution_count": 32,
      "metadata": {
        "id": "CmQFKqTV0tHT"
      },
      "outputs": [],
      "source": [
        "@Decoder.add_method\n",
        "def tokens_to_text(self, tokens):\n",
        "    words = self.id_to_word(tokens)\n",
        "    result = tf.strings.reduce_join(words, axis=-1, separator=' ')\n",
        "    result = tf.strings.regex_replace(result, '^ *\\[START\\] *', '')\n",
        "    result = tf.strings.regex_replace(result, ' *\\[END\\] *$', '')\n",
        "    return result"
      ]
    },
    {
      "cell_type": "code",
      "execution_count": 33,
      "metadata": {
        "id": "VtcX4VA00tFx"
      },
      "outputs": [],
      "source": [
        "@Decoder.add_method\n",
        "def get_next_token(self, context, next_token, done, state, temperature = 0.0):\n",
        "    logits, state = self(context, next_token, state = state, return_state=True) \n",
        "\n",
        "    if temperature == 0.0:\n",
        "        next_token = tf.argmax(logits, axis=-1)\n",
        "    else:\n",
        "        logits = logits[:, -1, :]/temperature\n",
        "        next_token = tf.random.categorical(logits, num_samples=1)\n",
        "\n",
        "    # If a sequence produces an `end_token`, set it `done`\n",
        "    done = done | (next_token == self.end_token)\n",
        "    # Once a sequence is done it only produces 0-padding.\n",
        "    next_token = tf.where(done, tf.constant(0, dtype=tf.int64), next_token)\n",
        "\n",
        "    return next_token, done, state"
      ]
    },
    {
      "cell_type": "code",
      "execution_count": 34,
      "metadata": {
        "id": "QbTvfGlI0tCK",
        "jupyter": {
          "source_hidden": true
        },
        "tags": []
      },
      "outputs": [],
      "source": [
        "# class Translator(tf.keras.Model):\n",
        "#     @classmethod\n",
        "#     def add_method(cls, fun):\n",
        "#         setattr(cls, fun.__name__, fun)\n",
        "#         return fun\n",
        "\n",
        "#     def __init__(self, units, context_text_processor, target_text_processor):\n",
        "#         super().__init__()\n",
        "#         # Build the encoder and decoder\n",
        "#         encoder = Encoder(context_text_processor, units)\n",
        "#         decoder = Decoder(target_text_processor, units)\n",
        "\n",
        "#         self.encoder = encoder\n",
        "#         self.decoder = decoder\n",
        "        \n",
        "\n",
        "#     def call(self, inputs):\n",
        "#         context, x = inputs\n",
        "#         tf.print('Before encoder-decoder')\n",
        "#         # tf.print('inputs : ',inputs.shape)\n",
        "#         tf.print('context: ',context.shape)\n",
        "#         tf.print('x      : ',x.shape)\n",
        "#         context = self.encoder(context)\n",
        "#         tf.print()\n",
        "#         logits = self.decoder(context, x)\n",
        "#         tf.print('--'*20)\n",
        "#         tf.print('After encoder-decoder')\n",
        "#         tf.print('context: ',context.shape)\n",
        "#         tf.print('logits : ',logits.shape)\n",
        "#     #TODO(b/250038731): remove this\n",
        "#         try:\n",
        "#           # Delete the keras mask, so keras doesn't scale the loss+accuracy. \n",
        "#             del logits._keras_mask\n",
        "#         except AttributeError:\n",
        "#             pass\n",
        "\n",
        "#         return logits"
      ]
    },
    {
      "cell_type": "code",
      "execution_count": 172,
      "metadata": {
        "id": "w0JH_eH3jFxc"
      },
      "outputs": [],
      "source": [
        "class Translator2(tf.keras.Model):\n",
        "    @classmethod\n",
        "    def add_method(cls, fun):\n",
        "        setattr(cls, fun.__name__, fun)\n",
        "        return fun\n",
        "\n",
        "    def __init__(self, units, context_text_processor, target_text_processor):\n",
        "        super().__init__()\n",
        "        \n",
        "        self.context_text_processor = context_text_processor\n",
        "        self.target_text_processor = target_text_processor\n",
        "\n",
        "        self.context_vocab_size = context_text_processor.vocabulary_size()\n",
        "        self.target_vocab_size = target_text_processor.vocabulary_size()\n",
        "        \n",
        "        self.word_to_id = tf.keras.layers.StringLookup(vocabulary=target_text_processor.get_vocabulary(), mask_token='', oov_token='[UNK]')\n",
        "        self.id_to_word = tf.keras.layers.StringLookup(vocabulary=target_text_processor.get_vocabulary(), mask_token='', oov_token='[UNK]', invert=True)\n",
        "    \n",
        "        self.units = units\n",
        "\n",
        "        # The embedding layer converts tokens to vectors\n",
        "        self.embedding1 = tf.keras.layers.Embedding(self.context_vocab_size, units, mask_zero=True)\n",
        "        self.embedding2 = tf.keras.layers.Embedding(self.target_vocab_size, units, mask_zero=True)\n",
        "\n",
        "        # The RNN layer processes those vectors sequentially.\n",
        "        self.encoder = tf.keras.layers.Bidirectional(\n",
        "            merge_mode='concat',\n",
        "            layer=tf.keras.layers.GRU(units, \n",
        "                                       return_sequences = True, \n",
        "                                       return_state = True,\n",
        "                                       recurrent_initializer='glorot_uniform'))\n",
        "        \n",
        "        self.decoder = GRU(units, \n",
        "                                       return_sequences = True, \n",
        "                                       return_state = True,\n",
        "                                       recurrent_initializer='glorot_uniform')\n",
        "        \n",
        "        \n",
        "        self.start_token = self.word_to_id('[START]')\n",
        "        self.end_token = self.word_to_id('[END]')\n",
        "\n",
        "        # 3. The RNN output will be the query for the attention layer.\n",
        "        self.attention = CrossAttention(units)\n",
        "        self.last_attention_weights = None\n",
        "        # 4. This fully connected layer produces the logits for each\n",
        "        # output token.\n",
        "        self.output_layer = tf.keras.layers.Dense(self.target_vocab_size)\n",
        "        \n",
        "        self.encoder_state = None\n",
        "    def call(self, X, y=None):\n",
        "        context, que = X\n",
        "        \n",
        "        #Encoding\n",
        "        # 1. embedding\n",
        "        x = self.embedding1(context)\n",
        "        # tf.print('after embedding: x shape: ',x.shape )\n",
        "        encoder_context, enc_h, enc_c = self.encoder(x)\n",
        "        self.encoder_state = [enc_h, enc_c]\n",
        "        # tf.print('after encodeing: x shape: ',len(x) )\n",
        "\n",
        "        # encoder_context, encoder_state = x\n",
        "        #Decoding\n",
        "        x = self.embedding2(que)\n",
        "        decoder_context, decoder_state_h, decoder_state_c = self.decoder(x, initial_state=self.encoder_state)\n",
        "        \n",
        "        x = self.attention(decoder_context, encoder_context)\n",
        "        # self.last_attention_weights = self.attention.last_attention_weights\n",
        "        # tf.print('decoder context shape: ', len(decoder_context))\n",
        "        # logits\n",
        "        logits = self.output_layer(x)\n",
        "            # tf.print('\\n')\n",
        "        #TODO(b/250038731): remove this\n",
        "        try:\n",
        "          # Delete the keras mask, so keras doesn't scale the loss+accuracy. \n",
        "            del logits._keras_mask\n",
        "        except AttributeError:\n",
        "            pass\n",
        "\n",
        "        return logits"
      ]
    },
    {
      "cell_type": "code",
      "source": [],
      "metadata": {
        "id": "jbbU_9FJyUtj"
      },
      "execution_count": 172,
      "outputs": []
    },
    {
      "cell_type": "code",
      "execution_count": 173,
      "metadata": {
        "id": "lhj-jdpS0tAI",
        "tags": []
      },
      "outputs": [],
      "source": [
        "model = Translator2(UNITS, eng_vectorizer, hin_vectorizer)"
      ]
    },
    {
      "cell_type": "code",
      "execution_count": 174,
      "metadata": {
        "cellView": "form",
        "id": "dSxxNTtT0s2z",
        "jupyter": {
          "source_hidden": true
        },
        "tags": []
      },
      "outputs": [],
      "source": [
        "#@title\n",
        "# sample = train_df.sample(5)\n",
        "# some_hindi_text = sample['hindi'].to_numpy()\n",
        "# some_eng_text = sample['english'].to_numpy()\n",
        "\n",
        "# print(some_hindi_text)\n",
        "# print(some_eng_text)\n",
        "\n",
        "# vectorized_eng_text = eng_vectorizer(some_eng_text)\n",
        "# vectorized_eng_text[:,:10]\n",
        "\n",
        "# vectorized_hindi_text = hin_vectorizer(some_hindi_text)\n",
        "# vectorized_hindi_text[:,:10]\n",
        "\n",
        "# vec_hindi_in = vectorized_hindi_text[:,:-1]\n",
        "# vec_hindi_out = vectorized_hindi_text[:,1:]\n",
        "# print(vec_hindi_in[:,:10])\n",
        "# print()\n",
        "# print(vec_hindi_out[:,:10])\n",
        "\n",
        "# encoder = Encoder(eng_vectorizer, UNITS)\n",
        "# # context_eng = encoder((vectorized_eng_text))\n",
        "\n",
        "# new_tx = encoder.convert_input(['hey man'])\n",
        "\n",
        "# # context_eng\n",
        "\n",
        "# # decoder = Decoder(hin_vectorizer, UNITS)\n",
        "# # logits = decoder(context_eng, vec_hindi_in)\n",
        "# # logits.shape"
      ]
    },
    {
      "cell_type": "code",
      "execution_count": 174,
      "metadata": {
        "id": "5DMM5XHX0syX"
      },
      "outputs": [],
      "source": []
    },
    {
      "cell_type": "code",
      "execution_count": 175,
      "metadata": {
        "id": "wrQnQhGM0stC",
        "tags": []
      },
      "outputs": [],
      "source": [
        "def masked_loss(y_true, y_pred):\n",
        "    # Calculate the loss for each item in the batch.\n",
        "    loss_fn = tf.keras.losses.SparseCategoricalCrossentropy(\n",
        "        from_logits=True, reduction='none')\n",
        "    loss = loss_fn(y_true, y_pred)\n",
        "\n",
        "    # Mask off the losses on padding.\n",
        "    mask = tf.cast(y_true != 0, loss.dtype)\n",
        "    loss *= mask\n",
        "\n",
        "    # Return the total.\n",
        "    return tf.reduce_sum(loss)/tf.reduce_sum(mask)"
      ]
    },
    {
      "cell_type": "code",
      "execution_count": 176,
      "metadata": {
        "id": "IGw3VSmG0sqa"
      },
      "outputs": [],
      "source": [
        "def masked_acc(y_true, y_pred):\n",
        "    # Calculate the loss for each item in the batch.\n",
        "    y_pred = tf.argmax(y_pred, axis=-1)\n",
        "    y_pred = tf.cast(y_pred, y_true.dtype)\n",
        "\n",
        "    match = tf.cast(y_true == y_pred, tf.float32)\n",
        "    mask = tf.cast(y_true != 0, tf.float32)\n",
        "\n",
        "    return tf.reduce_sum(match)/tf.reduce_sum(mask)"
      ]
    },
    {
      "cell_type": "code",
      "execution_count": 177,
      "metadata": {
        "id": "YacbS2vjjFxg"
      },
      "outputs": [],
      "source": [
        "model.compile(optimizer='adam',\n",
        "              loss=masked_loss, \n",
        "              metrics=[masked_acc, masked_loss])"
      ]
    },
    {
      "cell_type": "code",
      "execution_count": 178,
      "metadata": {
        "id": "-i_XW14UjFxg"
      },
      "outputs": [],
      "source": [
        "# model.summary()"
      ]
    },
    {
      "cell_type": "code",
      "execution_count": 179,
      "metadata": {
        "id": "nQ5eDngHjFxh"
      },
      "outputs": [],
      "source": [
        "EPOCHS = 50\n",
        "CKPT_DIR = './model_checkpoint'"
      ]
    },
    {
      "cell_type": "code",
      "execution_count": 180,
      "metadata": {
        "id": "mw84m4ZTjFxh"
      },
      "outputs": [],
      "source": [
        "model_ckpt = tf.keras.callbacks.ModelCheckpoint(\n",
        "    os.path.join(CKPT_DIR,  f\"{datetime.now().strftime('%m:%d:%Y, %H:%M:%S')}\"),\n",
        "    monitor= 'loss',\n",
        "    verbose= 0,\n",
        "    save_best_only = True,\n",
        "    save_weights_only = True,\n",
        "    mode= 'auto',\n",
        "    save_freq='epoch'\n",
        ")"
      ]
    },
    {
      "cell_type": "code",
      "execution_count": 181,
      "metadata": {
        "id": "tqtKPvmAjFxi"
      },
      "outputs": [],
      "source": [
        "data_amount = 20"
      ]
    },
    {
      "cell_type": "code",
      "execution_count": 182,
      "metadata": {
        "colab": {
          "base_uri": "https://localhost:8080/",
          "height": 1000
        },
        "id": "rg1ZWQV90sn9",
        "outputId": "af17735a-b2df-4f30-db1b-a3ff403d2ae2"
      },
      "outputs": [
        {
          "output_type": "stream",
          "name": "stdout",
          "text": [
            "Epoch 1/50\n"
          ]
        },
        {
          "output_type": "error",
          "ename": "ValueError",
          "evalue": "ignored",
          "traceback": [
            "\u001b[0;31m---------------------------------------------------------------------------\u001b[0m",
            "\u001b[0;31mValueError\u001b[0m                                Traceback (most recent call last)",
            "\u001b[0;32m<ipython-input-182-35b2fec93ddc>\u001b[0m in \u001b[0;36m<module>\u001b[0;34m\u001b[0m\n\u001b[1;32m      1\u001b[0m \u001b[0;31m# tf.executing_eagerly(False)\u001b[0m\u001b[0;34m\u001b[0m\u001b[0;34m\u001b[0m\u001b[0;34m\u001b[0m\u001b[0m\n\u001b[1;32m      2\u001b[0m \u001b[0;34m\u001b[0m\u001b[0m\n\u001b[0;32m----> 3\u001b[0;31m history = model.fit(\n\u001b[0m\u001b[1;32m      4\u001b[0m     \u001b[0mtrain_ds\u001b[0m\u001b[0;34m.\u001b[0m\u001b[0mrepeat\u001b[0m\u001b[0;34m(\u001b[0m\u001b[0;34m)\u001b[0m\u001b[0;34m,\u001b[0m\u001b[0;34m\u001b[0m\u001b[0;34m\u001b[0m\u001b[0m\n\u001b[1;32m      5\u001b[0m     \u001b[0mepochs\u001b[0m\u001b[0;34m=\u001b[0m\u001b[0mEPOCHS\u001b[0m\u001b[0;34m,\u001b[0m\u001b[0;34m\u001b[0m\u001b[0;34m\u001b[0m\u001b[0m\n",
            "\u001b[0;32m/usr/local/lib/python3.8/dist-packages/keras/utils/traceback_utils.py\u001b[0m in \u001b[0;36merror_handler\u001b[0;34m(*args, **kwargs)\u001b[0m\n\u001b[1;32m     68\u001b[0m             \u001b[0;31m# To get the full stack trace, call:\u001b[0m\u001b[0;34m\u001b[0m\u001b[0;34m\u001b[0m\u001b[0;34m\u001b[0m\u001b[0m\n\u001b[1;32m     69\u001b[0m             \u001b[0;31m# `tf.debugging.disable_traceback_filtering()`\u001b[0m\u001b[0;34m\u001b[0m\u001b[0;34m\u001b[0m\u001b[0;34m\u001b[0m\u001b[0m\n\u001b[0;32m---> 70\u001b[0;31m             \u001b[0;32mraise\u001b[0m \u001b[0me\u001b[0m\u001b[0;34m.\u001b[0m\u001b[0mwith_traceback\u001b[0m\u001b[0;34m(\u001b[0m\u001b[0mfiltered_tb\u001b[0m\u001b[0;34m)\u001b[0m \u001b[0;32mfrom\u001b[0m \u001b[0;32mNone\u001b[0m\u001b[0;34m\u001b[0m\u001b[0;34m\u001b[0m\u001b[0m\n\u001b[0m\u001b[1;32m     71\u001b[0m         \u001b[0;32mfinally\u001b[0m\u001b[0;34m:\u001b[0m\u001b[0;34m\u001b[0m\u001b[0;34m\u001b[0m\u001b[0m\n\u001b[1;32m     72\u001b[0m             \u001b[0;32mdel\u001b[0m \u001b[0mfiltered_tb\u001b[0m\u001b[0;34m\u001b[0m\u001b[0;34m\u001b[0m\u001b[0m\n",
            "\u001b[0;32m/usr/local/lib/python3.8/dist-packages/keras/engine/training.py\u001b[0m in \u001b[0;36mtf__train_function\u001b[0;34m(iterator)\u001b[0m\n\u001b[1;32m     13\u001b[0m                 \u001b[0;32mtry\u001b[0m\u001b[0;34m:\u001b[0m\u001b[0;34m\u001b[0m\u001b[0;34m\u001b[0m\u001b[0m\n\u001b[1;32m     14\u001b[0m                     \u001b[0mdo_return\u001b[0m \u001b[0;34m=\u001b[0m \u001b[0;32mTrue\u001b[0m\u001b[0;34m\u001b[0m\u001b[0;34m\u001b[0m\u001b[0m\n\u001b[0;32m---> 15\u001b[0;31m                     \u001b[0mretval_\u001b[0m \u001b[0;34m=\u001b[0m \u001b[0mag__\u001b[0m\u001b[0;34m.\u001b[0m\u001b[0mconverted_call\u001b[0m\u001b[0;34m(\u001b[0m\u001b[0mag__\u001b[0m\u001b[0;34m.\u001b[0m\u001b[0mld\u001b[0m\u001b[0;34m(\u001b[0m\u001b[0mstep_function\u001b[0m\u001b[0;34m)\u001b[0m\u001b[0;34m,\u001b[0m \u001b[0;34m(\u001b[0m\u001b[0mag__\u001b[0m\u001b[0;34m.\u001b[0m\u001b[0mld\u001b[0m\u001b[0;34m(\u001b[0m\u001b[0mself\u001b[0m\u001b[0;34m)\u001b[0m\u001b[0;34m,\u001b[0m \u001b[0mag__\u001b[0m\u001b[0;34m.\u001b[0m\u001b[0mld\u001b[0m\u001b[0;34m(\u001b[0m\u001b[0miterator\u001b[0m\u001b[0;34m)\u001b[0m\u001b[0;34m)\u001b[0m\u001b[0;34m,\u001b[0m \u001b[0;32mNone\u001b[0m\u001b[0;34m,\u001b[0m \u001b[0mfscope\u001b[0m\u001b[0;34m)\u001b[0m\u001b[0;34m\u001b[0m\u001b[0;34m\u001b[0m\u001b[0m\n\u001b[0m\u001b[1;32m     16\u001b[0m                 \u001b[0;32mexcept\u001b[0m\u001b[0;34m:\u001b[0m\u001b[0;34m\u001b[0m\u001b[0;34m\u001b[0m\u001b[0m\n\u001b[1;32m     17\u001b[0m                     \u001b[0mdo_return\u001b[0m \u001b[0;34m=\u001b[0m \u001b[0;32mFalse\u001b[0m\u001b[0;34m\u001b[0m\u001b[0;34m\u001b[0m\u001b[0m\n",
            "\u001b[0;32m/tmp/__autograph_generated_file73z5x_l6.py\u001b[0m in \u001b[0;36mtf__call\u001b[0;34m(self, X, y)\u001b[0m\n\u001b[1;32m     13\u001b[0m                 \u001b[0mag__\u001b[0m\u001b[0;34m.\u001b[0m\u001b[0mld\u001b[0m\u001b[0;34m(\u001b[0m\u001b[0mself\u001b[0m\u001b[0;34m)\u001b[0m\u001b[0;34m.\u001b[0m\u001b[0mencoder_state\u001b[0m \u001b[0;34m=\u001b[0m \u001b[0;34m[\u001b[0m\u001b[0mag__\u001b[0m\u001b[0;34m.\u001b[0m\u001b[0mld\u001b[0m\u001b[0;34m(\u001b[0m\u001b[0menc_h\u001b[0m\u001b[0;34m)\u001b[0m\u001b[0;34m,\u001b[0m \u001b[0mag__\u001b[0m\u001b[0;34m.\u001b[0m\u001b[0mld\u001b[0m\u001b[0;34m(\u001b[0m\u001b[0menc_c\u001b[0m\u001b[0;34m)\u001b[0m\u001b[0;34m]\u001b[0m\u001b[0;34m\u001b[0m\u001b[0;34m\u001b[0m\u001b[0m\n\u001b[1;32m     14\u001b[0m                 \u001b[0mx\u001b[0m \u001b[0;34m=\u001b[0m \u001b[0mag__\u001b[0m\u001b[0;34m.\u001b[0m\u001b[0mconverted_call\u001b[0m\u001b[0;34m(\u001b[0m\u001b[0mag__\u001b[0m\u001b[0;34m.\u001b[0m\u001b[0mld\u001b[0m\u001b[0;34m(\u001b[0m\u001b[0mself\u001b[0m\u001b[0;34m)\u001b[0m\u001b[0;34m.\u001b[0m\u001b[0membedding2\u001b[0m\u001b[0;34m,\u001b[0m \u001b[0;34m(\u001b[0m\u001b[0mag__\u001b[0m\u001b[0;34m.\u001b[0m\u001b[0mld\u001b[0m\u001b[0;34m(\u001b[0m\u001b[0mque\u001b[0m\u001b[0;34m)\u001b[0m\u001b[0;34m,\u001b[0m\u001b[0;34m)\u001b[0m\u001b[0;34m,\u001b[0m \u001b[0;32mNone\u001b[0m\u001b[0;34m,\u001b[0m \u001b[0mfscope\u001b[0m\u001b[0;34m)\u001b[0m\u001b[0;34m\u001b[0m\u001b[0;34m\u001b[0m\u001b[0m\n\u001b[0;32m---> 15\u001b[0;31m                 \u001b[0;34m(\u001b[0m\u001b[0mdecoder_context\u001b[0m\u001b[0;34m,\u001b[0m \u001b[0mdecoder_state_h\u001b[0m\u001b[0;34m,\u001b[0m \u001b[0mdecoder_state_c\u001b[0m\u001b[0;34m)\u001b[0m \u001b[0;34m=\u001b[0m \u001b[0mag__\u001b[0m\u001b[0;34m.\u001b[0m\u001b[0mconverted_call\u001b[0m\u001b[0;34m(\u001b[0m\u001b[0mag__\u001b[0m\u001b[0;34m.\u001b[0m\u001b[0mld\u001b[0m\u001b[0;34m(\u001b[0m\u001b[0mself\u001b[0m\u001b[0;34m)\u001b[0m\u001b[0;34m.\u001b[0m\u001b[0mdecoder\u001b[0m\u001b[0;34m,\u001b[0m \u001b[0;34m(\u001b[0m\u001b[0mag__\u001b[0m\u001b[0;34m.\u001b[0m\u001b[0mld\u001b[0m\u001b[0;34m(\u001b[0m\u001b[0mx\u001b[0m\u001b[0;34m)\u001b[0m\u001b[0;34m,\u001b[0m\u001b[0;34m)\u001b[0m\u001b[0;34m,\u001b[0m \u001b[0mdict\u001b[0m\u001b[0;34m(\u001b[0m\u001b[0minitial_state\u001b[0m\u001b[0;34m=\u001b[0m\u001b[0mag__\u001b[0m\u001b[0;34m.\u001b[0m\u001b[0mld\u001b[0m\u001b[0;34m(\u001b[0m\u001b[0mself\u001b[0m\u001b[0;34m)\u001b[0m\u001b[0;34m.\u001b[0m\u001b[0mencoder_state\u001b[0m\u001b[0;34m)\u001b[0m\u001b[0;34m,\u001b[0m \u001b[0mfscope\u001b[0m\u001b[0;34m)\u001b[0m\u001b[0;34m\u001b[0m\u001b[0;34m\u001b[0m\u001b[0m\n\u001b[0m\u001b[1;32m     16\u001b[0m                 \u001b[0mx\u001b[0m \u001b[0;34m=\u001b[0m \u001b[0mag__\u001b[0m\u001b[0;34m.\u001b[0m\u001b[0mconverted_call\u001b[0m\u001b[0;34m(\u001b[0m\u001b[0mag__\u001b[0m\u001b[0;34m.\u001b[0m\u001b[0mld\u001b[0m\u001b[0;34m(\u001b[0m\u001b[0mself\u001b[0m\u001b[0;34m)\u001b[0m\u001b[0;34m.\u001b[0m\u001b[0mattention\u001b[0m\u001b[0;34m,\u001b[0m \u001b[0;34m(\u001b[0m\u001b[0mag__\u001b[0m\u001b[0;34m.\u001b[0m\u001b[0mld\u001b[0m\u001b[0;34m(\u001b[0m\u001b[0mdecoder_context\u001b[0m\u001b[0;34m)\u001b[0m\u001b[0;34m,\u001b[0m \u001b[0mag__\u001b[0m\u001b[0;34m.\u001b[0m\u001b[0mld\u001b[0m\u001b[0;34m(\u001b[0m\u001b[0mencoder_context\u001b[0m\u001b[0;34m)\u001b[0m\u001b[0;34m)\u001b[0m\u001b[0;34m,\u001b[0m \u001b[0;32mNone\u001b[0m\u001b[0;34m,\u001b[0m \u001b[0mfscope\u001b[0m\u001b[0;34m)\u001b[0m\u001b[0;34m\u001b[0m\u001b[0;34m\u001b[0m\u001b[0m\n\u001b[1;32m     17\u001b[0m                 \u001b[0mlogits\u001b[0m \u001b[0;34m=\u001b[0m \u001b[0mag__\u001b[0m\u001b[0;34m.\u001b[0m\u001b[0mconverted_call\u001b[0m\u001b[0;34m(\u001b[0m\u001b[0mag__\u001b[0m\u001b[0;34m.\u001b[0m\u001b[0mld\u001b[0m\u001b[0;34m(\u001b[0m\u001b[0mself\u001b[0m\u001b[0;34m)\u001b[0m\u001b[0;34m.\u001b[0m\u001b[0moutput_layer\u001b[0m\u001b[0;34m,\u001b[0m \u001b[0;34m(\u001b[0m\u001b[0mag__\u001b[0m\u001b[0;34m.\u001b[0m\u001b[0mld\u001b[0m\u001b[0;34m(\u001b[0m\u001b[0mx\u001b[0m\u001b[0;34m)\u001b[0m\u001b[0;34m,\u001b[0m\u001b[0;34m)\u001b[0m\u001b[0;34m,\u001b[0m \u001b[0;32mNone\u001b[0m\u001b[0;34m,\u001b[0m \u001b[0mfscope\u001b[0m\u001b[0;34m)\u001b[0m\u001b[0;34m\u001b[0m\u001b[0;34m\u001b[0m\u001b[0m\n",
            "\u001b[0;31mValueError\u001b[0m: in user code:\n\n    File \"/usr/local/lib/python3.8/dist-packages/keras/engine/training.py\", line 1249, in train_function  *\n        return step_function(self, iterator)\n    File \"/usr/local/lib/python3.8/dist-packages/keras/engine/training.py\", line 1233, in step_function  **\n        outputs = model.distribute_strategy.run(run_step, args=(data,))\n    File \"/usr/local/lib/python3.8/dist-packages/keras/engine/training.py\", line 1222, in run_step  **\n        outputs = model.train_step(data)\n    File \"/usr/local/lib/python3.8/dist-packages/keras/engine/training.py\", line 1023, in train_step\n        y_pred = self(x, training=True)\n    File \"/usr/local/lib/python3.8/dist-packages/keras/utils/traceback_utils.py\", line 70, in error_handler\n        raise e.with_traceback(filtered_tb) from None\n    File \"/tmp/__autograph_generated_file73z5x_l6.py\", line 15, in tf__call\n        (decoder_context, decoder_state_h, decoder_state_c) = ag__.converted_call(ag__.ld(self).decoder, (ag__.ld(x),), dict(initial_state=ag__.ld(self).encoder_state), fscope)\n\n    ValueError: Exception encountered when calling layer 'translator2_1' (type Translator2).\n    \n    in user code:\n    \n        File \"<ipython-input-172-2537c20740c6>\", line 64, in call  *\n            decoder_context, decoder_state_h, decoder_state_c = self.decoder(x, initial_state=self.encoder_state)\n        File \"/usr/local/lib/python3.8/dist-packages/keras/layers/rnn/base_rnn.py\", line 626, in __call__  **\n            return super().__call__(inputs, **kwargs)\n        File \"/usr/local/lib/python3.8/dist-packages/keras/utils/traceback_utils.py\", line 70, in error_handler\n            raise e.with_traceback(filtered_tb) from None\n        File \"/usr/local/lib/python3.8/dist-packages/keras/layers/rnn/base_rnn.py\", line 512, in _validate_state_spec\n            raise validation_error\n    \n        ValueError: An `initial_state` was passed that is not compatible with `cell.state_size`. Received `state_spec`=ListWrapper([InputSpec(shape=(None, 32), ndim=2), InputSpec(shape=(None, 32), ndim=2)]); however `cell.state_size` is [32]\n    \n    \n    Call arguments received by layer 'translator2_1' (type Translator2):\n      • X=('tf.Tensor(shape=(None, 200), dtype=int64)', 'tf.Tensor(shape=(None, 200), dtype=int64)')\n      • y=None\n"
          ]
        }
      ],
      "source": [
        "# tf.executing_eagerly(False)\n",
        "\n",
        "history = model.fit(\n",
        "    train_ds.repeat(), \n",
        "    epochs=EPOCHS,\n",
        "    steps_per_epoch = int(data_amount*(len(train_ds)/EPOCHS)),\n",
        "\n",
        "    validation_data=val_ds.repeat(),\n",
        "    validation_steps = 5,\n",
        "    callbacks=[\n",
        "        tf.keras.callbacks.EarlyStopping(monitor = 'masked_loss', patience=3),\n",
        "    model_ckpt])"
      ]
    },
    {
      "cell_type": "code",
      "execution_count": null,
      "metadata": {
        "id": "0oAu_jN60slV"
      },
      "outputs": [],
      "source": [
        "plt.plot(history.history['loss'], label='loss')\n",
        "# plt.plot(history.history['val_loss'], label='val_loss')\n",
        "plt.ylim([0, max(plt.ylim())])\n",
        "plt.xlabel('Epoch #')\n",
        "plt.ylabel('CE/token')\n",
        "plt.legend()"
      ]
    },
    {
      "cell_type": "code",
      "execution_count": 183,
      "metadata": {
        "id": "IXzwfGpMpU3G"
      },
      "outputs": [],
      "source": [
        "class Inference():\n",
        "\n",
        "    def __init__(self,model ):\n",
        "        self.model = model\n",
        "\n",
        "    def convert_input(self, texts):\n",
        "        texts = tf.convert_to_tensor(texts)\n",
        "        if len(texts.shape) == 0:\n",
        "            texts = tf.convert_to_tensor(texts)[tf.newaxis]\n",
        "        context = self.model.context_text_processor(texts)\n",
        "        context = self.model.embedding1(context)\n",
        "        context, enc_h, enc_c = self.model.encoder(context)\n",
        "        # state = [enc_h, enc_c]\n",
        "        return context\n",
        "\n",
        "    def get_initial_state(self, context):\n",
        "        batch_size = tf.shape(context)[0]\n",
        "        start_tokens = tf.fill([batch_size, 1], self.model.start_token)\n",
        "        done = tf.zeros([batch_size, 1], dtype=tf.bool)\n",
        "        embedded = self.model.embedding2(start_tokens)\n",
        "        # context = tf.zeros([batch_size, self.model.units], tf.float32)\n",
        "        context = self.model.decoder.get_initial_state(embedded)[0]\n",
        "        return start_tokens, done, context \n",
        "\n",
        "\n",
        "    def tokens_to_text(self, tokens):\n",
        "        words = self.model.id_to_word(tokens)\n",
        "        result = tf.strings.reduce_join(words, axis=-1, separator=' ')\n",
        "        result = tf.strings.regex_replace(result, '^ *\\[START\\] *', '')\n",
        "        result = tf.strings.regex_replace(result, ' *\\[END\\] *$', '')\n",
        "        return result\n",
        "\n",
        "\n",
        "    def get_next_token(self, context, next_token, done, state, temperature = 0.0):\n",
        "        logits, state = self.model.decoder(\n",
        "        context, next_token,\n",
        "        state = state,\n",
        "        return_state=True) \n",
        "    \n",
        "        if temperature == 0.0:\n",
        "            next_token = tf.argmax(logits, axis=-1)\n",
        "        else:\n",
        "            logits = logits[:, -1, :]/temperature\n",
        "            next_token = tf.random.categorical(logits, num_samples=1)\n",
        "\n",
        "        # If a sequence produces an `end_token`, set it `done`\n",
        "        done = done | (next_token == self.model.end_token)\n",
        "        # Once a sequence is done it only produces 0-padding.\n",
        "        next_token = tf.where(done, tf.constant(0, dtype=tf.int64), next_token)\n",
        "\n",
        "        return next_token, done, state\n",
        "\n",
        "\n",
        "    def translate(self,\n",
        "              texts,\n",
        "              max_length=50,\n",
        "              temperature=0.0):\n",
        "    # Process the input texts\n",
        "        \n",
        "        context = self.convert_input(texts)\n",
        "        print('first: ',context.shape)\n",
        "        batch_size = tf.shape(texts)[0]\n",
        "\n",
        "    # Setup the loop inputs\n",
        "        tokens = []\n",
        "        # attention_weights = []\n",
        "        next_token, done, state = self.get_initial_state(context)\n",
        "\n",
        "        for _ in range(max_length):\n",
        "            # Generate the next token\n",
        "            next_token, done, state = self.get_next_token(context, next_token, done,  state, temperature)\n",
        "\n",
        "            # Collect the generated tokens\n",
        "            tokens.append(next_token)\n",
        "            # attention_weights.append(self.last_attention_weights)\n",
        "\n",
        "            if tf.executing_eagerly() and tf.reduce_all(done):\n",
        "                break\n",
        "\n",
        "        # Stack the lists of tokens and attention weights.\n",
        "        tokens = tf.concat(tokens, axis=-1)   # t*[(batch 1)] -> (batch, t)\n",
        "        # self.last_attention_weights = tf.concat(attention_weights, axis=1)  # t*[(batch 1 s)] -> (batch, t s)\n",
        "\n",
        "        result = self.tokens_to_text(tokens)\n",
        "        return result"
      ]
    },
    {
      "cell_type": "code",
      "execution_count": 184,
      "metadata": {
        "id": "E-FOjbqi6aDM"
      },
      "outputs": [],
      "source": [
        "inf = Inference(model)"
      ]
    },
    {
      "cell_type": "code",
      "execution_count": 185,
      "metadata": {
        "id": "XYldFggti6nm",
        "colab": {
          "base_uri": "https://localhost:8080/",
          "height": 345
        },
        "outputId": "9529d4a6-3ef3-43d4-e8c6-c660b0e78dd7"
      },
      "outputs": [
        {
          "output_type": "stream",
          "name": "stdout",
          "text": [
            "first:  (1, 200, 64)\n"
          ]
        },
        {
          "output_type": "error",
          "ename": "ValueError",
          "evalue": "ignored",
          "traceback": [
            "\u001b[0;31m---------------------------------------------------------------------------\u001b[0m",
            "\u001b[0;31mValueError\u001b[0m                                Traceback (most recent call last)",
            "\u001b[0;32m<ipython-input-185-26ef9f41aa75>\u001b[0m in \u001b[0;36m<module>\u001b[0;34m\u001b[0m\n\u001b[0;32m----> 1\u001b[0;31m \u001b[0mss\u001b[0m \u001b[0;34m=\u001b[0m \u001b[0minf\u001b[0m\u001b[0;34m.\u001b[0m\u001b[0mtranslate\u001b[0m\u001b[0;34m(\u001b[0m\u001b[0;34m[\u001b[0m\u001b[0;34m'She loves me'\u001b[0m\u001b[0;34m]\u001b[0m\u001b[0;34m)\u001b[0m\u001b[0;34m\u001b[0m\u001b[0;34m\u001b[0m\u001b[0m\n\u001b[0m\u001b[1;32m      2\u001b[0m \u001b[0mss\u001b[0m\u001b[0;34m\u001b[0m\u001b[0;34m\u001b[0m\u001b[0m\n",
            "\u001b[0;32m<ipython-input-183-a7f016b56817>\u001b[0m in \u001b[0;36mtranslate\u001b[0;34m(self, texts, max_length, temperature)\u001b[0m\n\u001b[1;32m     69\u001b[0m         \u001b[0;32mfor\u001b[0m \u001b[0m_\u001b[0m \u001b[0;32min\u001b[0m \u001b[0mrange\u001b[0m\u001b[0;34m(\u001b[0m\u001b[0mmax_length\u001b[0m\u001b[0;34m)\u001b[0m\u001b[0;34m:\u001b[0m\u001b[0;34m\u001b[0m\u001b[0;34m\u001b[0m\u001b[0m\n\u001b[1;32m     70\u001b[0m             \u001b[0;31m# Generate the next token\u001b[0m\u001b[0;34m\u001b[0m\u001b[0;34m\u001b[0m\u001b[0;34m\u001b[0m\u001b[0m\n\u001b[0;32m---> 71\u001b[0;31m             \u001b[0mnext_token\u001b[0m\u001b[0;34m,\u001b[0m \u001b[0mdone\u001b[0m\u001b[0;34m,\u001b[0m \u001b[0mstate\u001b[0m \u001b[0;34m=\u001b[0m \u001b[0mself\u001b[0m\u001b[0;34m.\u001b[0m\u001b[0mget_next_token\u001b[0m\u001b[0;34m(\u001b[0m\u001b[0mcontext\u001b[0m\u001b[0;34m,\u001b[0m \u001b[0mnext_token\u001b[0m\u001b[0;34m,\u001b[0m \u001b[0mdone\u001b[0m\u001b[0;34m,\u001b[0m  \u001b[0mstate\u001b[0m\u001b[0;34m,\u001b[0m \u001b[0mtemperature\u001b[0m\u001b[0;34m)\u001b[0m\u001b[0;34m\u001b[0m\u001b[0;34m\u001b[0m\u001b[0m\n\u001b[0m\u001b[1;32m     72\u001b[0m \u001b[0;34m\u001b[0m\u001b[0m\n\u001b[1;32m     73\u001b[0m             \u001b[0;31m# Collect the generated tokens\u001b[0m\u001b[0;34m\u001b[0m\u001b[0;34m\u001b[0m\u001b[0;34m\u001b[0m\u001b[0m\n",
            "\u001b[0;32m<ipython-input-183-a7f016b56817>\u001b[0m in \u001b[0;36mget_next_token\u001b[0;34m(self, context, next_token, done, state, temperature)\u001b[0m\n\u001b[1;32m     33\u001b[0m \u001b[0;34m\u001b[0m\u001b[0m\n\u001b[1;32m     34\u001b[0m     \u001b[0;32mdef\u001b[0m \u001b[0mget_next_token\u001b[0m\u001b[0;34m(\u001b[0m\u001b[0mself\u001b[0m\u001b[0;34m,\u001b[0m \u001b[0mcontext\u001b[0m\u001b[0;34m,\u001b[0m \u001b[0mnext_token\u001b[0m\u001b[0;34m,\u001b[0m \u001b[0mdone\u001b[0m\u001b[0;34m,\u001b[0m \u001b[0mstate\u001b[0m\u001b[0;34m,\u001b[0m \u001b[0mtemperature\u001b[0m \u001b[0;34m=\u001b[0m \u001b[0;36m0.0\u001b[0m\u001b[0;34m)\u001b[0m\u001b[0;34m:\u001b[0m\u001b[0;34m\u001b[0m\u001b[0;34m\u001b[0m\u001b[0m\n\u001b[0;32m---> 35\u001b[0;31m         logits, state = self.model.decoder(\n\u001b[0m\u001b[1;32m     36\u001b[0m         \u001b[0mcontext\u001b[0m\u001b[0;34m,\u001b[0m \u001b[0mnext_token\u001b[0m\u001b[0;34m,\u001b[0m\u001b[0;34m\u001b[0m\u001b[0;34m\u001b[0m\u001b[0m\n\u001b[1;32m     37\u001b[0m         \u001b[0mstate\u001b[0m \u001b[0;34m=\u001b[0m \u001b[0mstate\u001b[0m\u001b[0;34m,\u001b[0m\u001b[0;34m\u001b[0m\u001b[0;34m\u001b[0m\u001b[0m\n",
            "\u001b[0;32m/usr/local/lib/python3.8/dist-packages/keras/layers/rnn/base_rnn.py\u001b[0m in \u001b[0;36m__call__\u001b[0;34m(self, inputs, initial_state, constants, **kwargs)\u001b[0m\n\u001b[1;32m    624\u001b[0m             \u001b[0;32mif\u001b[0m \u001b[0mconstants\u001b[0m \u001b[0;32mis\u001b[0m \u001b[0;32mnot\u001b[0m \u001b[0;32mNone\u001b[0m\u001b[0;34m:\u001b[0m\u001b[0;34m\u001b[0m\u001b[0;34m\u001b[0m\u001b[0m\n\u001b[1;32m    625\u001b[0m                 \u001b[0mkwargs\u001b[0m\u001b[0;34m[\u001b[0m\u001b[0;34m\"constants\"\u001b[0m\u001b[0;34m]\u001b[0m \u001b[0;34m=\u001b[0m \u001b[0mconstants\u001b[0m\u001b[0;34m\u001b[0m\u001b[0;34m\u001b[0m\u001b[0m\n\u001b[0;32m--> 626\u001b[0;31m             \u001b[0;32mreturn\u001b[0m \u001b[0msuper\u001b[0m\u001b[0;34m(\u001b[0m\u001b[0;34m)\u001b[0m\u001b[0;34m.\u001b[0m\u001b[0m__call__\u001b[0m\u001b[0;34m(\u001b[0m\u001b[0minputs\u001b[0m\u001b[0;34m,\u001b[0m \u001b[0;34m**\u001b[0m\u001b[0mkwargs\u001b[0m\u001b[0;34m)\u001b[0m\u001b[0;34m\u001b[0m\u001b[0;34m\u001b[0m\u001b[0m\n\u001b[0m\u001b[1;32m    627\u001b[0m \u001b[0;34m\u001b[0m\u001b[0m\n\u001b[1;32m    628\u001b[0m     def call(\n",
            "\u001b[0;32m/usr/local/lib/python3.8/dist-packages/keras/utils/traceback_utils.py\u001b[0m in \u001b[0;36merror_handler\u001b[0;34m(*args, **kwargs)\u001b[0m\n\u001b[1;32m     68\u001b[0m             \u001b[0;31m# To get the full stack trace, call:\u001b[0m\u001b[0;34m\u001b[0m\u001b[0;34m\u001b[0m\u001b[0;34m\u001b[0m\u001b[0m\n\u001b[1;32m     69\u001b[0m             \u001b[0;31m# `tf.debugging.disable_traceback_filtering()`\u001b[0m\u001b[0;34m\u001b[0m\u001b[0;34m\u001b[0m\u001b[0;34m\u001b[0m\u001b[0m\n\u001b[0;32m---> 70\u001b[0;31m             \u001b[0;32mraise\u001b[0m \u001b[0me\u001b[0m\u001b[0;34m.\u001b[0m\u001b[0mwith_traceback\u001b[0m\u001b[0;34m(\u001b[0m\u001b[0mfiltered_tb\u001b[0m\u001b[0;34m)\u001b[0m \u001b[0;32mfrom\u001b[0m \u001b[0;32mNone\u001b[0m\u001b[0;34m\u001b[0m\u001b[0;34m\u001b[0m\u001b[0m\n\u001b[0m\u001b[1;32m     71\u001b[0m         \u001b[0;32mfinally\u001b[0m\u001b[0;34m:\u001b[0m\u001b[0;34m\u001b[0m\u001b[0;34m\u001b[0m\u001b[0m\n\u001b[1;32m     72\u001b[0m             \u001b[0;32mdel\u001b[0m \u001b[0mfiltered_tb\u001b[0m\u001b[0;34m\u001b[0m\u001b[0;34m\u001b[0m\u001b[0m\n",
            "\u001b[0;32m/usr/local/lib/python3.8/dist-packages/keras/engine/input_spec.py\u001b[0m in \u001b[0;36massert_input_compatibility\u001b[0;34m(input_spec, inputs, layer_name)\u001b[0m\n\u001b[1;32m    293\u001b[0m                 \u001b[0;32mif\u001b[0m \u001b[0mspec_dim\u001b[0m \u001b[0;32mis\u001b[0m \u001b[0;32mnot\u001b[0m \u001b[0;32mNone\u001b[0m \u001b[0;32mand\u001b[0m \u001b[0mdim\u001b[0m \u001b[0;32mis\u001b[0m \u001b[0;32mnot\u001b[0m \u001b[0;32mNone\u001b[0m\u001b[0;34m:\u001b[0m\u001b[0;34m\u001b[0m\u001b[0;34m\u001b[0m\u001b[0m\n\u001b[1;32m    294\u001b[0m                     \u001b[0;32mif\u001b[0m \u001b[0mspec_dim\u001b[0m \u001b[0;34m!=\u001b[0m \u001b[0mdim\u001b[0m\u001b[0;34m:\u001b[0m\u001b[0;34m\u001b[0m\u001b[0;34m\u001b[0m\u001b[0m\n\u001b[0;32m--> 295\u001b[0;31m                         raise ValueError(\n\u001b[0m\u001b[1;32m    296\u001b[0m                             \u001b[0;34mf'Input {input_index} of layer \"{layer_name}\" is '\u001b[0m\u001b[0;34m\u001b[0m\u001b[0;34m\u001b[0m\u001b[0m\n\u001b[1;32m    297\u001b[0m                             \u001b[0;34m\"incompatible with the layer: \"\u001b[0m\u001b[0;34m\u001b[0m\u001b[0;34m\u001b[0m\u001b[0m\n",
            "\u001b[0;31mValueError\u001b[0m: Input 0 of layer \"gru_3\" is incompatible with the layer: expected shape=(None, None, 32), found shape=(1, 200, 64)"
          ]
        }
      ],
      "source": [
        "ss = inf.translate(['She loves me'])\n",
        "ss"
      ]
    },
    {
      "cell_type": "code",
      "execution_count": 132,
      "metadata": {
        "id": "Utdr6bkrk8Vb"
      },
      "outputs": [],
      "source": []
    },
    {
      "cell_type": "code",
      "execution_count": 134,
      "metadata": {
        "id": "Di7FvIMLpEVZ",
        "colab": {
          "base_uri": "https://localhost:8080/"
        },
        "outputId": "27d1f8b1-fc1a-4614-e8a1-a0bf2add1cc5"
      },
      "outputs": [
        {
          "output_type": "stream",
          "name": "stdout",
          "text": [
            "(2, 200, 64)\n",
            "(2, 32)\n",
            "(2, 32)\n"
          ]
        }
      ],
      "source": [
        "ss = convert_input([['hello'], ['hwy']])\n",
        "for i in ss:\n",
        "    print(i.shape)"
      ]
    },
    {
      "cell_type": "code",
      "execution_count": 117,
      "metadata": {
        "colab": {
          "base_uri": "https://localhost:8080/"
        },
        "id": "fNCLmMr_sfW-",
        "outputId": "58ec1352-fa3a-4136-8e7b-c7da9cd4bde5"
      },
      "outputs": [
        {
          "output_type": "execute_result",
          "data": {
            "text/plain": [
              "<tf.Tensor: shape=(3, 1), dtype=string, numpy=\n",
              "array([[b'hello how  are you'],\n",
              "       [b'hey'],\n",
              "       [b'who are you']], dtype=object)>"
            ]
          },
          "metadata": {},
          "execution_count": 117
        }
      ],
      "source": [
        "a = [['hello how  are you'],['hey'],[ 'who are you']]\n",
        "aa = tf.convert_to_tensor(a)\n",
        "aa"
      ]
    },
    {
      "cell_type": "code",
      "execution_count": null,
      "metadata": {
        "colab": {
          "base_uri": "https://localhost:8080/",
          "height": 296
        },
        "id": "XUF3LXpN0sjC",
        "outputId": "037fe6a6-81d6-4aef-a74f-939a8a9ccb81"
      },
      "outputs": [
        {
          "data": {
            "text/plain": [
              "<matplotlib.legend.Legend at 0x7fa03fadde80>"
            ]
          },
          "execution_count": 53,
          "metadata": {},
          "output_type": "execute_result"
        },
        {
          "data": {
            "image/png": "[encoded data removed]",
            "text/plain": [
              "<Figure size 432x288 with 1 Axes>"
            ]
          },
          "metadata": {
            "needs_background": "light"
          },
          "output_type": "display_data"
        }
      ],
      "source": [
        "plt.plot(history.history['masked_acc'], label='accuracy')\n",
        "# plt.plot(history.history['val_masked_acc'], label='val_accuracy')\n",
        "plt.ylim([0, max(plt.ylim())])\n",
        "plt.xlabel('Epoch #')\n",
        "plt.ylabel('CE/token')\n",
        "plt.legend()"
      ]
    },
    {
      "cell_type": "code",
      "execution_count": null,
      "metadata": {
        "id": "nbmAh9W70sgO"
      },
      "outputs": [],
      "source": []
    },
    {
      "cell_type": "code",
      "execution_count": null,
      "metadata": {
        "id": "sDETfmnw0sdp"
      },
      "outputs": [],
      "source": [
        "result = model.translate(['She loves me']) \n",
        "result[0].numpy().decode()"
      ]
    },
    {
      "cell_type": "code",
      "execution_count": null,
      "metadata": {
        "id": "Ty6op_uUjFxl"
      },
      "outputs": [],
      "source": [
        "plt.plot(history.history['masked_acc'], label='accuracy')\n",
        "plt.ylim([0, max(plt.ylim())])\n",
        "plt.title('accuracy vs epochs')\n",
        "plt.legend()"
      ]
    },
    {
      "cell_type": "code",
      "execution_count": null,
      "metadata": {
        "id": "EfnUjWD_jFxl"
      },
      "outputs": [],
      "source": []
    }
  ],
  "metadata": {
    "accelerator": "GPU",
    "colab": {
      "provenance": [],
      "toc_visible": true,
      "include_colab_link": true
    },
    "gpuClass": "standard",
    "kernelspec": {
      "display_name": "Python 3 (ipykernel)",
      "language": "python",
      "name": "python3"
    },
    "language_info": {
      "codemirror_mode": {
        "name": "ipython",
        "version": 3
      },
      "file_extension": ".py",
      "mimetype": "text/x-python",
      "name": "python",
      "nbconvert_exporter": "python",
      "pygments_lexer": "ipython3",
      "version": "3.9.16"
    }
  },
  "nbformat": 4,
  "nbformat_minor": 0
}