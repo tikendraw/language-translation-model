{
 "cells": [
  {
   "cell_type": "markdown",
   "metadata": {
    "colab_type": "text",
    "id": "view-in-github"
   },
   "source": [
    "<a href=\"https://colab.research.google.com/github/tikendraw/language-translation-model/blob/main/language_translation_model.ipynb\" target=\"_parent\"><img src=\"https://colab.research.google.com/assets/colab-badge.svg\" alt=\"Open In Colab\"/></a>"
   ]
  },
  {
   "cell_type": "markdown",
   "metadata": {
    "id": "n1hJ48ytxM3b"
   },
   "source": [
    "# Language Translation Model (English to Hindi)\n",
    "\n",
    "\n",
    "---\n",
    "\n",
    "\n"
   ]
  },
  {
   "cell_type": "code",
   "execution_count": 1,
   "metadata": {
    "colab": {
     "base_uri": "https://localhost:8080/"
    },
    "id": "lrmDJdXC9SfD",
    "outputId": "3f4f9508-79e0-4a16-e63c-31240521c12f"
   },
   "outputs": [],
   "source": [
    "import os, sys\n",
    "if 'google.colab' in sys.modules:\n",
    "    \n",
    "    ! git clone https://github.com/tikendraw/language-translation-model.git \n",
    "    os.chdir('language-translation-model') \n",
    "    print(os.getcwd())"
   ]
  },
  {
   "cell_type": "code",
   "execution_count": 2,
   "metadata": {
    "colab": {
     "base_uri": "https://localhost:8080/"
    },
    "id": "1cxy3JvX9Fw4",
    "outputId": "ba911dec-56ea-4f65-f457-5ef48e944fe9"
   },
   "outputs": [
    {
     "name": "stderr",
     "output_type": "stream",
     "text": [
      "2023-02-15 15:50:22.130965: I tensorflow/core/platform/cpu_feature_guard.cc:193] This TensorFlow binary is optimized with oneAPI Deep Neural Network Library (oneDNN) to use the following CPU instructions in performance-critical operations:  AVX2 FMA\n",
      "To enable them in other operations, rebuild TensorFlow with the appropriate compiler flags.\n",
      "2023-02-15 15:50:22.670051: W tensorflow/compiler/xla/stream_executor/platform/default/dso_loader.cc:64] Could not load dynamic library 'libcudart.so.11.0'; dlerror: libcudart.so.11.0: cannot open shared object file: No such file or directory\n",
      "2023-02-15 15:50:22.670107: I tensorflow/compiler/xla/stream_executor/cuda/cudart_stub.cc:29] Ignore above cudart dlerror if you do not have a GPU set up on your machine.\n",
      "2023-02-15 15:50:24.072637: W tensorflow/compiler/xla/stream_executor/platform/default/dso_loader.cc:64] Could not load dynamic library 'libnvinfer.so.7'; dlerror: libnvinfer.so.7: cannot open shared object file: No such file or directory\n",
      "2023-02-15 15:50:24.072748: W tensorflow/compiler/xla/stream_executor/platform/default/dso_loader.cc:64] Could not load dynamic library 'libnvinfer_plugin.so.7'; dlerror: libnvinfer_plugin.so.7: cannot open shared object file: No such file or directory\n",
      "2023-02-15 15:50:24.072756: W tensorflow/compiler/tf2tensorrt/utils/py_utils.cc:38] TF-TRT Warning: Cannot dlopen some TensorRT libraries. If you would like to use Nvidia GPU with TensorRT, please make sure the missing libraries mentioned above are installed properly.\n"
     ]
    },
    {
     "name": "stdout",
     "output_type": "stream",
     "text": [
      "Tf version:  2.11.0\n",
      "GPU:  0\n"
     ]
    },
    {
     "name": "stderr",
     "output_type": "stream",
     "text": [
      "2023-02-15 15:50:26.437219: I tensorflow/compiler/xla/stream_executor/cuda/cuda_gpu_executor.cc:981] successful NUMA node read from SysFS had negative value (-1), but there must be at least one NUMA node, so returning NUMA node zero\n",
      "2023-02-15 15:50:26.437445: W tensorflow/compiler/xla/stream_executor/platform/default/dso_loader.cc:64] Could not load dynamic library 'libcudart.so.11.0'; dlerror: libcudart.so.11.0: cannot open shared object file: No such file or directory\n",
      "2023-02-15 15:50:26.437521: W tensorflow/compiler/xla/stream_executor/platform/default/dso_loader.cc:64] Could not load dynamic library 'libcublas.so.11'; dlerror: libcublas.so.11: cannot open shared object file: No such file or directory\n",
      "2023-02-15 15:50:26.437584: W tensorflow/compiler/xla/stream_executor/platform/default/dso_loader.cc:64] Could not load dynamic library 'libcublasLt.so.11'; dlerror: libcublasLt.so.11: cannot open shared object file: No such file or directory\n",
      "2023-02-15 15:50:26.437643: W tensorflow/compiler/xla/stream_executor/platform/default/dso_loader.cc:64] Could not load dynamic library 'libcufft.so.10'; dlerror: libcufft.so.10: cannot open shared object file: No such file or directory\n",
      "2023-02-15 15:50:26.437699: W tensorflow/compiler/xla/stream_executor/platform/default/dso_loader.cc:64] Could not load dynamic library 'libcurand.so.10'; dlerror: libcurand.so.10: cannot open shared object file: No such file or directory\n",
      "2023-02-15 15:50:26.437756: W tensorflow/compiler/xla/stream_executor/platform/default/dso_loader.cc:64] Could not load dynamic library 'libcusolver.so.11'; dlerror: libcusolver.so.11: cannot open shared object file: No such file or directory\n",
      "2023-02-15 15:50:26.437813: W tensorflow/compiler/xla/stream_executor/platform/default/dso_loader.cc:64] Could not load dynamic library 'libcusparse.so.11'; dlerror: libcusparse.so.11: cannot open shared object file: No such file or directory\n",
      "2023-02-15 15:50:26.437880: W tensorflow/compiler/xla/stream_executor/platform/default/dso_loader.cc:64] Could not load dynamic library 'libcudnn.so.8'; dlerror: libcudnn.so.8: cannot open shared object file: No such file or directory\n",
      "2023-02-15 15:50:26.437890: W tensorflow/core/common_runtime/gpu/gpu_device.cc:1934] Cannot dlopen some GPU libraries. Please make sure the missing libraries mentioned above are installed properly if you would like to use GPU. Follow the guide at https://www.tensorflow.org/install/gpu for how to download and setup the required libraries for your platform.\n",
      "Skipping registering GPU devices...\n"
     ]
    }
   ],
   "source": [
    "# Dependencies\n",
    "import pandas as pd\n",
    "# ! pip install polars -q\n",
    "import polars as pl\n",
    "import numpy as np\n",
    "import tensorflow as tf\n",
    "from tensorflow import keras\n",
    "from tensorflow.keras import layers, Model , optimizers\n",
    "from tensorflow.keras.layers import Attention, LSTM, Bidirectional, Dense, MaxPooling1D, GlobalAveragePooling1D, GlobalMaxPooling1D, AveragePooling1D, Dropout, concatenate, Concatenate\n",
    "\n",
    "import seaborn as sns\n",
    "import matplotlib.pyplot as plt\n",
    "\n",
    "# !pip install tensorflow_hub\n",
    "# import tensorflow_hub as hub\n",
    "import os\n",
    "import re\n",
    "import json\n",
    "from sklearn.model_selection import train_test_split\n",
    "\n",
    "print('Tf version: ',tf.__version__)\n",
    "print('GPU: ', is_gpu:=len(tf.config.list_physical_devices('GPU')))\n",
    "import tensorflow as tf\n",
    "\n",
    "os.environ['TF_CPP_MIN_LOG_LEVEL'] = '3' \n",
    "os.environ[\"TFHUB_CACHE_DIR\"] = './tmp/tfhub'\n",
    "\n",
    "\"\"\"\"\"\"\"\"\"\"\"\"\"\"\"\"\"\"\"\"\"\"\"\"\"\"\"\"\"\"\"\"\"\"\"\"\"\"\"\"\"\"\"\"\"\"\"\"\"\"\"\"\"\"\"\"\"\n",
    "[PhysicalDevice(name='/physical_device:GPU:0', device_type='GPU')]\n",
    "None\n",
    "\"\"\"\"\"\"\"\"\"\"\"\"\"\"\"\"\"\"\"\"\"\"\"\"\"\"\"\"\"\"\"\"\"\"\"\"\"\"\"\"\"\"\"\"\"\"\"\"\"\"\"\"\"\"\"\"\"\n",
    "if is_gpu:\n",
    "    physical_devices = tf.config.experimental.list_physical_devices('GPU')\n",
    "    assert len(physical_devices) > 0, \"Not enough GPU hardware devices available\"\n",
    "    config = tf.config.experimental.set_memory_growth(physical_devices[0], True)\n",
    "    print(physical_devices)\n"
   ]
  },
  {
   "cell_type": "code",
   "execution_count": 3,
   "metadata": {
    "id": "nY49Vs8mxGcD"
   },
   "outputs": [],
   "source": [
    "dataset_url = 'http://www.manythings.org/anki/hin-eng.zip'"
   ]
  },
  {
   "cell_type": "code",
   "execution_count": 4,
   "metadata": {
    "colab": {
     "base_uri": "https://localhost:8080/"
    },
    "id": "H7P06oG8xiS7",
    "outputId": "e30407c7-7313-45f6-ab97-1f3f2e45156d"
   },
   "outputs": [],
   "source": [
    "# # Download the dataset\n",
    "if 'google.colab' in sys.modules:\n",
    "    # donwload\n",
    "    !wget $dataset_url -P dataset\n",
    "\n",
    "    # # Unzip the downloaded file\n",
    "    !unzip ./dataset/hin-eng.zip -d ./dataset\n",
    "\n",
    "    # # Show size\n",
    "    !du -h  ./dataset"
   ]
  },
  {
   "cell_type": "markdown",
   "metadata": {
    "id": "ITptJktjzLho"
   },
   "source": [
    "# Reading the data"
   ]
  },
  {
   "cell_type": "code",
   "execution_count": 5,
   "metadata": {
    "id": "4XP6M5Eb0t5F"
   },
   "outputs": [],
   "source": [
    "# !pip install polars -q\n",
    "import polars as pd"
   ]
  },
  {
   "cell_type": "code",
   "execution_count": 6,
   "metadata": {
    "id": "vraPNhwl0t2Z"
   },
   "outputs": [],
   "source": [
    "df = pd.read_csv('./dataset/hin.txt', sep = '\\t', new_columns = ['english', 'hindi', 'somethingelse'])[['english','hindi']]"
   ]
  },
  {
   "cell_type": "code",
   "execution_count": 7,
   "metadata": {
    "colab": {
     "base_uri": "https://localhost:8080/"
    },
    "id": "EsHrOgJX0t0m",
    "outputId": "fd37ee3b-6231-4771-c8a2-62eb3d3e58b2"
   },
   "outputs": [
    {
     "data": {
      "text/plain": [
       "(2908, 2)"
      ]
     },
     "execution_count": 7,
     "metadata": {},
     "output_type": "execute_result"
    }
   ],
   "source": [
    "df.shape"
   ]
  },
  {
   "cell_type": "code",
   "execution_count": 8,
   "metadata": {
    "colab": {
     "base_uri": "https://localhost:8080/",
     "height": 367
    },
    "id": "_iYNVAyD0tyx",
    "outputId": "67110dfe-9123-4b0a-b481-6f169a1a2493"
   },
   "outputs": [
    {
     "data": {
      "text/html": [
       "<div>\n",
       "<style scoped>\n",
       "    .dataframe tbody tr th:only-of-type {\n",
       "        vertical-align: middle;\n",
       "    }\n",
       "\n",
       "    .dataframe tbody tr th {\n",
       "        vertical-align: top;\n",
       "    }\n",
       "\n",
       "    .dataframe thead th {\n",
       "        text-align: right;\n",
       "    }\n",
       "\n",
       "    .dataframe td {\n",
       "        white-space: pre;\n",
       "    }\n",
       "\n",
       "    .dataframe td {\n",
       "        padding-top: 0;\n",
       "    }\n",
       "\n",
       "    .dataframe td {\n",
       "        padding-bottom: 0;\n",
       "    }\n",
       "\n",
       "    .dataframe td {\n",
       "        line-height: 95%;\n",
       "    }\n",
       "</style>\n",
       "<table border=\"1\" class=\"dataframe\">\n",
       "<small>shape: (10, 2)</small>\n",
       "<thead>\n",
       "<tr>\n",
       "<th>\n",
       "english\n",
       "</th>\n",
       "<th>\n",
       "hindi\n",
       "</th>\n",
       "</tr>\n",
       "<tr>\n",
       "<td>\n",
       "str\n",
       "</td>\n",
       "<td>\n",
       "str\n",
       "</td>\n",
       "</tr>\n",
       "</thead>\n",
       "<tbody>\n",
       "<tr>\n",
       "<td>\n",
       "&quot;It may not be ...\n",
       "</td>\n",
       "<td>\n",
       "&quot;शायद हमें उस म...\n",
       "</td>\n",
       "</tr>\n",
       "<tr>\n",
       "<td>\n",
       "&quot;Tom doesn&#x27;t kn...\n",
       "</td>\n",
       "<td>\n",
       "&quot;टॉम अभी तक नही...\n",
       "</td>\n",
       "</tr>\n",
       "<tr>\n",
       "<td>\n",
       "&quot;This medicine ...\n",
       "</td>\n",
       "<td>\n",
       "&quot;यह दवाई दर्द क...\n",
       "</td>\n",
       "</tr>\n",
       "<tr>\n",
       "<td>\n",
       "&quot;Please turn on...\n",
       "</td>\n",
       "<td>\n",
       "&quot;टीवी चालू कीजि...\n",
       "</td>\n",
       "</tr>\n",
       "<tr>\n",
       "<td>\n",
       "&quot;I had met her ...\n",
       "</td>\n",
       "<td>\n",
       "&quot;मैं उससे पहले ...\n",
       "</td>\n",
       "</tr>\n",
       "<tr>\n",
       "<td>\n",
       "&quot;The government...\n",
       "</td>\n",
       "<td>\n",
       "&quot;सरकार शिक्षा क...\n",
       "</td>\n",
       "</tr>\n",
       "<tr>\n",
       "<td>\n",
       "&quot;Can I give you...\n",
       "</td>\n",
       "<td>\n",
       "&quot;क्या मैं तुम्ह...\n",
       "</td>\n",
       "</tr>\n",
       "<tr>\n",
       "<td>\n",
       "&quot;We&#x27;re against ...\n",
       "</td>\n",
       "<td>\n",
       "&quot;हम जंग के ख़िल...\n",
       "</td>\n",
       "</tr>\n",
       "<tr>\n",
       "<td>\n",
       "&quot;He was buried ...\n",
       "</td>\n",
       "<td>\n",
       "&quot;उसको इस कब्रिस...\n",
       "</td>\n",
       "</tr>\n",
       "<tr>\n",
       "<td>\n",
       "&quot;My uncle is an...\n",
       "</td>\n",
       "<td>\n",
       "&quot;मेरे ताऊजी क्र...\n",
       "</td>\n",
       "</tr>\n",
       "</tbody>\n",
       "</table>\n",
       "</div>"
      ],
      "text/plain": [
       "shape: (10, 2)\n",
       "┌─────────────────────────────────────┬──────────────────────────────────┐\n",
       "│ english                             ┆ hindi                            │\n",
       "│ ---                                 ┆ ---                              │\n",
       "│ str                                 ┆ str                              │\n",
       "╞═════════════════════════════════════╪══════════════════════════════════╡\n",
       "│ It may not be necessary for us t... ┆ शायद हमें उस मीटिंग में जाने की ...    │\n",
       "│ Tom doesn't know how to do that ... ┆ टॉम अभी तक नहीं जानता कि यह कैसे... │\n",
       "│ This medicine will take the pain... ┆ यह दवाई दर्द को दूर कर देगी।        │\n",
       "│ Please turn on the television.      ┆ टीवी चालू कीजिए।                  │\n",
       "│ ...                                 ┆ ...                              │\n",
       "│ Can I give you a hand?              ┆ क्या मैं तुम्हारी मदद कर सकता हू...    │\n",
       "│ We're against war.                  ┆ हम जंग के ख़िलाफ़ हैं।                 │\n",
       "│ He was buried in this graveyard.    ┆ उसको इस कब्रिस्तान में बरी किया ...  │\n",
       "│ My uncle is an amateur cricket p... ┆ मेरे ताऊजी क्रिकेट के शौकिया खिल...   │\n",
       "└─────────────────────────────────────┴──────────────────────────────────┘"
      ]
     },
     "execution_count": 8,
     "metadata": {},
     "output_type": "execute_result"
    }
   ],
   "source": [
    "df.sample(10)"
   ]
  },
  {
   "cell_type": "code",
   "execution_count": 9,
   "metadata": {
    "id": "swlPFpr-0txP"
   },
   "outputs": [],
   "source": [
    "from sklearn.model_selection import train_test_split"
   ]
  },
  {
   "cell_type": "code",
   "execution_count": 10,
   "metadata": {},
   "outputs": [],
   "source": [
    "UNITS = 32\n",
    "EMBEDDING_DIMS = 16\n",
    "BATCH_SIZE = 32"
   ]
  },
  {
   "cell_type": "markdown",
   "metadata": {
    "id": "ceSkRUmM0twM"
   },
   "source": [
    "# Prepare the data `tf.data`"
   ]
  },
  {
   "cell_type": "code",
   "execution_count": 11,
   "metadata": {
    "id": "BCw6ZgqV0tuW"
   },
   "outputs": [],
   "source": [
    "# Split the data for train and val\n",
    "train_df, val_df = train_test_split(df, test_size = .02, random_state = 4 )"
   ]
  },
  {
   "cell_type": "code",
   "execution_count": 12,
   "metadata": {
    "colab": {
     "base_uri": "https://localhost:8080/"
    },
    "id": "kA0bZi7Z0ttP",
    "outputId": "a8d5a1a7-22b7-4d5f-e981-d24d92cacb10"
   },
   "outputs": [
    {
     "name": "stdout",
     "output_type": "stream",
     "text": [
      "train shape:  (2849, 2)\n",
      "val shape:  (59, 2)\n"
     ]
    }
   ],
   "source": [
    "print('train shape: ', train_df.shape)\n",
    "print('val shape: ', val_df.shape)"
   ]
  },
  {
   "cell_type": "code",
   "execution_count": 13,
   "metadata": {},
   "outputs": [],
   "source": [
    "BUFFER_SIZE = 2000"
   ]
  },
  {
   "cell_type": "code",
   "execution_count": 14,
   "metadata": {
    "id": "puSucMUn0tq-"
   },
   "outputs": [
    {
     "name": "stderr",
     "output_type": "stream",
     "text": [
      "2023-02-15 15:50:26.571642: I tensorflow/core/platform/cpu_feature_guard.cc:193] This TensorFlow binary is optimized with oneAPI Deep Neural Network Library (oneDNN) to use the following CPU instructions in performance-critical operations:  AVX2 FMA\n",
      "To enable them in other operations, rebuild TensorFlow with the appropriate compiler flags.\n"
     ]
    }
   ],
   "source": [
    "train_ds = tf.data.Dataset.from_tensor_slices((train_df['english'].to_list(), train_df['hindi'].to_list())).shuffle(BUFFER_SIZE).batch(BATCH_SIZE)\n",
    "val_ds = tf.data.Dataset.from_tensor_slices((val_df['english'].to_list(), val_df['hindi'].to_list())).shuffle(BUFFER_SIZE).batch(BATCH_SIZE)"
   ]
  },
  {
   "cell_type": "code",
   "execution_count": 15,
   "metadata": {
    "id": "_APB0Ah64b26"
   },
   "outputs": [],
   "source": [
    "\n",
    "# preprocessing text\n",
    "def tf_lower_and_split_punct_en(text):\n",
    "    # Split accented characters.\n",
    "    # text = tf.text.normalize_utf8(text, 'NFKD')\n",
    "    text = tf.strings.lower(text)\n",
    "    # Keep space, a to z, and select punctuation.\n",
    "    text = tf.strings.regex_replace(text, '[^ a-z.?!,¿]', '')\n",
    "    # Add spaces around punctuation.\n",
    "    text = tf.strings.regex_replace(text, '[.?!,¿|]', r' \\0 ')\n",
    "    # Strip whitespace.\n",
    "    text = tf.strings.strip(text)\n",
    "\n",
    "    text = tf.strings.join(['[START]', text, '[END]'], separator=' ')\n",
    "\n",
    "    return text\n",
    "\n",
    "\n",
    "\n",
    "# preprocessing text\n",
    "def tf_lower_and_split_punct_hi(text):\n",
    "    text = tf.strings.regex_replace(text, '[.?!,¿|]', r' \\0 ')\n",
    "    text = tf.strings.strip(text)\n",
    "    text = tf.strings.join(['[START]', text, '[END]'], separator=' ')\n",
    "    return text"
   ]
  },
  {
   "cell_type": "code",
   "execution_count": 16,
   "metadata": {
    "colab": {
     "base_uri": "https://localhost:8080/"
    },
    "id": "OfNyTkJ56pPt",
    "outputId": "198f22c5-740f-40dc-e3da-d1d7aa571a67"
   },
   "outputs": [
    {
     "name": "stdout",
     "output_type": "stream",
     "text": [
      "उन्होंने मेरी का| मज़ाक उड़ाया\n",
      "tf.Tensor(b'[START] \\xe0\\xa4\\x89\\xe0\\xa4\\xa8\\xe0\\xa5\\x8d\\xe0\\xa4\\xb9\\xe0\\xa5\\x8b\\xe0\\xa4\\x82\\xe0\\xa4\\xa8\\xe0\\xa5\\x87 \\xe0\\xa4\\xae\\xe0\\xa5\\x87\\xe0\\xa4\\xb0\\xe0\\xa5\\x80 \\xe0\\xa4\\x95\\xe0\\xa4\\xbe |  \\xe0\\xa4\\xae\\xe0\\xa4\\x9c\\xe0\\xa4\\xbc\\xe0\\xa4\\xbe\\xe0\\xa4\\x95 \\xe0\\xa4\\x89\\xe0\\xa4\\xa1\\xe0\\xa4\\xbc\\xe0\\xa4\\xbe\\xe0\\xa4\\xaf\\xe0\\xa4\\xbe [END]', shape=(), dtype=string)\n",
      "[START] उन्होंने मेरी का |  मज़ाक उड़ाया [END]\n"
     ]
    }
   ],
   "source": [
    "some_hindi_text = 'उन्होंने मेरी का| मज़ाक उड़ाया'\n",
    "print(some_hindi_text)\n",
    "b= tf_lower_and_split_punct_hi(some_hindi_text)\n",
    "print(b)\n",
    "print(b.numpy().decode())\n",
    "del(b)"
   ]
  },
  {
   "cell_type": "code",
   "execution_count": 17,
   "metadata": {
    "colab": {
     "base_uri": "https://localhost:8080/"
    },
    "id": "cRZEds9s0tpU",
    "outputId": "9b81f547-c419-483f-f275-e001812874f2"
   },
   "outputs": [
    {
     "name": "stdout",
     "output_type": "stream",
     "text": [
      "i:  tf.Tensor(\n",
      "[b'You reap what you sow.' b'Can I use your pencil?'\n",
      " b'Glass is made from sand.' b'Tom is strict with his children.'\n",
      " b'The doctor advised him not to smoke.' b'She is very pretty.'\n",
      " b'He wanted to succeed.'\n",
      " b'You should not speak ill of others behind their backs.'\n",
      " b'Tom handed the list to Mary.' b'I met Mary yesterday.'\n",
      " b'You look nice in that dress.' b'Happy New Year!'\n",
      " b'Excuse me, is there a toilet nearby?'\n",
      " b'There is a strange man at the door.'\n",
      " b'A rubber ball bounces because it is elastic.'\n",
      " b'The storm destroyed the whole town.' b'Help!'\n",
      " b\"I've taught myself to play the guitar.\" b'Smog causes plants to die.'\n",
      " b'The mountain is covered with snow.' b\"I'm alone.\"\n",
      " b'Your dog is very fat.'\n",
      " b'They were about to leave when I arrived there.'\n",
      " b'This story is worth reading again.'\n",
      " b'I doubt the truth of his statement.' b'The patient breathed his last.'\n",
      " b'I am fully convinced of your innocence.'\n",
      " b'India gained independence from Britain in 1947.'\n",
      " b'This is why I came back.' b'I wanted Tom to study harder.'\n",
      " b'Workers must have their hair cut short.' b'He lent me two books.'], shape=(32,), dtype=string)\n",
      "j:  tf.Tensor(\n",
      "[b'\\xe0\\xa4\\x9c\\xe0\\xa5\\x88\\xe0\\xa4\\xb8\\xe0\\xa4\\xbe \\xe0\\xa4\\x95\\xe0\\xa4\\xb0\\xe0\\xa4\\xa8\\xe0\\xa4\\xbe \\xe0\\xa4\\xb5\\xe0\\xa5\\x88\\xe0\\xa4\\xb8\\xe0\\xa4\\xbe \\xe0\\xa4\\xad\\xe0\\xa4\\xb0\\xe0\\xa4\\xa8\\xe0\\xa4\\xbe\\xe0\\xa5\\xa4'\n",
      " b'\\xe0\\xa4\\xae\\xe0\\xa5\\x88\\xe0\\xa4\\x82 \\xe0\\xa4\\xa4\\xe0\\xa5\\x81\\xe0\\xa4\\xae\\xe0\\xa5\\x8d\\xe0\\xa4\\xb9\\xe0\\xa4\\xbe\\xe0\\xa4\\xb0\\xe0\\xa5\\x80 \\xe0\\xa4\\xaa\\xe0\\xa5\\x87\\xe0\\xa4\\xa8\\xe0\\xa4\\xb8\\xe0\\xa4\\xbf\\xe0\\xa4\\xb2 \\xe0\\xa4\\x87\\xe0\\xa4\\xb8\\xe0\\xa5\\x8d\\xe0\\xa4\\xa4\\xe0\\xa5\\x87\\xe0\\xa4\\xae\\xe0\\xa4\\xbe\\xe0\\xa4\\xb2 \\xe0\\xa4\\x95\\xe0\\xa4\\xb0 \\xe0\\xa4\\xb8\\xe0\\xa4\\x95\\xe0\\xa4\\xa4\\xe0\\xa4\\xbe \\xe0\\xa4\\xb9\\xe0\\xa5\\x82\\xe0\\xa4\\x81 \\xe0\\xa4\\x95\\xe0\\xa5\\x8d\\xe0\\xa4\\xaf\\xe0\\xa4\\xbe?'\n",
      " b'\\xe0\\xa4\\x97\\xe0\\xa5\\x8d\\xe0\\xa4\\xb2\\xe0\\xa4\\xbe\\xe0\\xa4\\xb8 \\xe0\\xa4\\xb0\\xe0\\xa5\\x87\\xe0\\xa4\\xa4 \\xe0\\xa4\\xb8\\xe0\\xa5\\x87 \\xe0\\xa4\\xac\\xe0\\xa4\\xa8\\xe0\\xa4\\xbe\\xe0\\xa4\\xaf\\xe0\\xa4\\xbe \\xe0\\xa4\\x9c\\xe0\\xa4\\xbe\\xe0\\xa4\\xa4\\xe0\\xa4\\xbe \\xe0\\xa4\\xb9\\xe0\\xa5\\x88\\xe0\\xa5\\xa4'\n",
      " b'\\xe0\\xa4\\x9f\\xe0\\xa5\\x89\\xe0\\xa4\\xae \\xe0\\xa4\\x85\\xe0\\xa4\\xaa\\xe0\\xa4\\xa8\\xe0\\xa5\\x87 \\xe0\\xa4\\xac\\xe0\\xa4\\x9a\\xe0\\xa5\\x8d\\xe0\\xa4\\x9a\\xe0\\xa5\\x8b\\xe0\\xa4\\x82 \\xe0\\xa4\\x95\\xe0\\xa5\\x87 \\xe0\\xa4\\xb8\\xe0\\xa4\\xbe\\xe0\\xa4\\xa5 \\xe0\\xa4\\xb8\\xe0\\xa4\\x96\\xe0\\xa5\\x8d\\xe0\\xa4\\xa4\\xe0\\xa5\\x80 \\xe0\\xa4\\xb8\\xe0\\xa5\\x87 \\xe0\\xa4\\xaa\\xe0\\xa5\\x87\\xe0\\xa4\\xb6 \\xe0\\xa4\\x86\\xe0\\xa4\\xa4\\xe0\\xa4\\xbe \\xe0\\xa4\\xb9\\xe0\\xa5\\x88\\xe0\\xa5\\xa4'\n",
      " b'\\xe0\\xa4\\xa1\\xe0\\xa5\\x89\\xe0\\xa4\\x95\\xe0\\xa5\\x8d\\xe0\\xa4\\x9f\\xe0\\xa4\\xb0 \\xe0\\xa4\\xa8\\xe0\\xa5\\x87 \\xe0\\xa4\\x89\\xe0\\xa4\\xb8\\xe0\\xa5\\x87 \\xe0\\xa4\\xb8\\xe0\\xa4\\xbf\\xe0\\xa4\\x97\\xe0\\xa4\\xb0\\xe0\\xa5\\x87\\xe0\\xa4\\x9f \\xe0\\xa4\\xa8 \\xe0\\xa4\\xaa\\xe0\\xa5\\x80\\xe0\\xa4\\xa8\\xe0\\xa5\\x87 \\xe0\\xa4\\x95\\xe0\\xa5\\x80 \\xe0\\xa4\\xb8\\xe0\\xa4\\xb2\\xe0\\xa4\\xb9 \\xe0\\xa4\\xa6\\xe0\\xa5\\x80\\xe0\\xa5\\xa4'\n",
      " b'\\xe0\\xa4\\xb5\\xe0\\xa4\\xb9 \\xe0\\xa4\\xac\\xe0\\xa4\\xb9\\xe0\\xa5\\x81\\xe0\\xa4\\xa4 \\xe0\\xa4\\xb8\\xe0\\xa5\\x81\\xe0\\xa4\\x82\\xe0\\xa4\\xa6\\xe0\\xa4\\xb0 \\xe0\\xa4\\xb9\\xe0\\xa5\\x88\\xe0\\xa5\\xa4'\n",
      " b'\\xe0\\xa4\\xb5\\xe0\\xa4\\xb9 \\xe0\\xa4\\x95\\xe0\\xa4\\xbe\\xe0\\xa4\\xae\\xe0\\xa4\\xaf\\xe0\\xa4\\xbe\\xe0\\xa4\\xac \\xe0\\xa4\\xb9\\xe0\\xa5\\x8b\\xe0\\xa4\\xa8\\xe0\\xa4\\xbe \\xe0\\xa4\\x9a\\xe0\\xa4\\xbe\\xe0\\xa4\\xb9\\xe0\\xa4\\xa4\\xe0\\xa4\\xbe \\xe0\\xa4\\xa5\\xe0\\xa4\\xbe\\xe0\\xa5\\xa4'\n",
      " b'\\xe0\\xa4\\xa4\\xe0\\xa5\\x81\\xe0\\xa4\\xae\\xe0\\xa4\\x95\\xe0\\xa5\\x8b \\xe0\\xa4\\xb2\\xe0\\xa5\\x8b\\xe0\\xa4\\x97\\xe0\\xa5\\x8b\\xe0\\xa4\\x82 \\xe0\\xa4\\x95\\xe0\\xa4\\xbf \\xe0\\xa4\\xaa\\xe0\\xa5\\x80\\xe0\\xa4\\xa0 \\xe0\\xa4\\x95\\xe0\\xa5\\x87 \\xe0\\xa4\\xaa\\xe0\\xa5\\x80\\xe0\\xa4\\x9b\\xe0\\xa5\\x87 \\xe0\\xa4\\x89\\xe0\\xa4\\xa8\\xe0\\xa4\\x95\\xe0\\xa5\\x80 \\xe0\\xa4\\xac\\xe0\\xa5\\x81\\xe0\\xa4\\xb0\\xe0\\xa4\\xbe\\xe0\\xa4\\x88 \\xe0\\xa4\\xa8\\xe0\\xa4\\xb9\\xe0\\xa5\\x80\\xe0\\xa4\\x82 \\xe0\\xa4\\x95\\xe0\\xa4\\xb0\\xe0\\xa4\\xa8\\xe0\\xa5\\x80 \\xe0\\xa4\\x9a\\xe0\\xa4\\xbe\\xe0\\xa4\\xb9\\xe0\\xa4\\xbf\\xe0\\xa4\\x8f\\xe0\\xa5\\xa4'\n",
      " b'\\xe0\\xa4\\x9f\\xe0\\xa5\\x89\\xe0\\xa4\\xae \\xe0\\xa4\\xa8\\xe0\\xa5\\x87 \\xe0\\xa4\\xae\\xe0\\xa5\\x88\\xe0\\xa4\\xb0\\xe0\\xa5\\x80 \\xe0\\xa4\\x95\\xe0\\xa5\\x8b \\xe0\\xa4\\xb8\\xe0\\xa5\\x82\\xe0\\xa4\\x9a\\xe0\\xa5\\x80 \\xe0\\xa4\\xb8\\xe0\\xa5\\x8c\\xe0\\xa4\\x82\\xe0\\xa4\\xaa\\xe0\\xa5\\x80\\xe0\\xa5\\xa4'\n",
      " b'\\xe0\\xa4\\xae\\xe0\\xa5\\x88\\xe0\\xa4\\x82 \\xe0\\xa4\\x95\\xe0\\xa4\\xb2 \\xe0\\xa4\\xae\\xe0\\xa5\\x87\\xe0\\xa4\\xb0\\xe0\\xa5\\x80 \\xe0\\xa4\\xb8\\xe0\\xa5\\x87 \\xe0\\xa4\\xae\\xe0\\xa4\\xbf\\xe0\\xa4\\xb2\\xe0\\xa4\\xbe \\xe0\\xa4\\xa5\\xe0\\xa4\\xbe\\xe0\\xa5\\xa4'\n",
      " b'\\xe0\\xa4\\xa4\\xe0\\xa5\\x81\\xe0\\xa4\\xae \\xe0\\xa4\\x89\\xe0\\xa4\\xb8 \\xe0\\xa4\\xa1\\xe0\\xa5\\x8d\\xe0\\xa4\\xb0\\xe0\\xa5\\x87\\xe0\\xa4\\xb8 \\xe0\\xa4\\xae\\xe0\\xa5\\x87\\xe0\\xa4\\x82 \\xe0\\xa4\\x85\\xe0\\xa4\\x9a\\xe0\\xa5\\x8d\\xe0\\xa4\\x9b\\xe0\\xa5\\x80 \\xe0\\xa4\\xb2\\xe0\\xa4\\x97\\xe0\\xa4\\xa4\\xe0\\xa5\\x80 \\xe0\\xa4\\xb9\\xe0\\xa5\\x8b\\xe0\\xa5\\xa4'\n",
      " b'\\xe0\\xa4\\xa8\\xe0\\xa4\\xb5 \\xe0\\xa4\\xb5\\xe0\\xa4\\xb0\\xe0\\xa5\\x8d\\xe0\\xa4\\xb7 \\xe0\\xa4\\x95\\xe0\\xa5\\x80 \\xe0\\xa4\\xb6\\xe0\\xa5\\x81\\xe0\\xa4\\xad\\xe0\\xa4\\x95\\xe0\\xa4\\xbe\\xe0\\xa4\\xae\\xe0\\xa4\\xa8\\xe0\\xa4\\xbe\\xe0\\xa4\\x8f\\xe0\\xa4\\x82!'\n",
      " b'\\xe0\\xa4\\xb8\\xe0\\xa5\\x81\\xe0\\xa4\\xa8\\xe0\\xa4\\xbf\\xe0\\xa4\\x8f, \\xe0\\xa4\\x86\\xe0\\xa4\\xb8-\\xe0\\xa4\\xaa\\xe0\\xa4\\xbe\\xe0\\xa4\\xb8 \\xe0\\xa4\\xae\\xe0\\xa5\\x87\\xe0\\xa4\\x82 \\xe0\\xa4\\x95\\xe0\\xa5\\x8b\\xe0\\xa4\\x88 \\xe0\\xa4\\x9f\\xe0\\xa5\\x89\\xe0\\xa4\\xaf\\xe0\\xa4\\xb2\\xe0\\xa5\\x87\\xe0\\xa4\\x9f \\xe0\\xa4\\xb9\\xe0\\xa5\\x88 \\xe0\\xa4\\x95\\xe0\\xa5\\x8d\\xe0\\xa4\\xaf\\xe0\\xa4\\xbe?'\n",
      " b'\\xe0\\xa4\\xa6\\xe0\\xa4\\xb0\\xe0\\xa4\\xb5\\xe0\\xa4\\xbe\\xe0\\xa4\\x9c\\xe0\\xa4\\xbc\\xe0\\xa5\\x87 \\xe0\\xa4\\xaa\\xe0\\xa4\\xb0 \\xe0\\xa4\\x95\\xe0\\xa5\\x8b\\xe0\\xa4\\x88 \\xe0\\xa4\\x85\\xe0\\xa4\\x9c\\xe0\\xa5\\x80\\xe0\\xa4\\xac \\xe0\\xa4\\xb8\\xe0\\xa4\\xbe \\xe0\\xa4\\x87\\xe0\\xa4\\xa8\\xe0\\xa4\\xb8\\xe0\\xa4\\xbe\\xe0\\xa4\\xa8 \\xe0\\xa4\\xb9\\xe0\\xa5\\x88\\xe0\\xa5\\xa4'\n",
      " b'\\xe0\\xa4\\xb0\\xe0\\xa4\\xac\\xe0\\xa4\\xa1\\xe0\\xa4\\xbc \\xe0\\xa4\\x95\\xe0\\xa5\\x80 \\xe0\\xa4\\x97\\xe0\\xa5\\x87\\xe0\\xa4\\x82\\xe0\\xa4\\xa6 \\xe0\\xa4\\x89\\xe0\\xa4\\x9b\\xe0\\xa4\\xb2\\xe0\\xa4\\xa4\\xe0\\xa5\\x80 \\xe0\\xa4\\xb9\\xe0\\xa5\\x88 \\xe0\\xa4\\x95\\xe0\\xa5\\x8d\\xe0\\xa4\\xaf\\xe0\\xa5\\x8b\\xe0\\xa4\\x82\\xe0\\xa4\\x95\\xe0\\xa4\\xbf \\xe0\\xa4\\xb5\\xe0\\xa4\\xb9 \\xe0\\xa4\\xb2\\xe0\\xa4\\x9a\\xe0\\xa5\\x80\\xe0\\xa4\\xb2\\xe0\\xa5\\x80 \\xe0\\xa4\\xb9\\xe0\\xa5\\x8b\\xe0\\xa4\\xa4\\xe0\\xa5\\x80 \\xe0\\xa4\\xb9\\xe0\\xa5\\x88\\xe0\\xa5\\xa4'\n",
      " b'\\xe0\\xa4\\xa4\\xe0\\xa5\\x82\\xe0\\xa4\\xab\\xe0\\xa4\\xbc\\xe0\\xa4\\xbe\\xe0\\xa4\\xa8 \\xe0\\xa4\\xa8\\xe0\\xa5\\x87 \\xe0\\xa4\\xaa\\xe0\\xa5\\x82\\xe0\\xa4\\xb0\\xe0\\xa5\\x87 \\xe0\\xa4\\xb6\\xe0\\xa4\\xb9\\xe0\\xa4\\xb0 \\xe0\\xa4\\x95\\xe0\\xa5\\x8b \\xe0\\xa4\\xa4\\xe0\\xa4\\xac\\xe0\\xa4\\xbe\\xe0\\xa4\\xb9 \\xe0\\xa4\\x95\\xe0\\xa4\\xb0 \\xe0\\xa4\\xa6\\xe0\\xa4\\xbf\\xe0\\xa4\\xaf\\xe0\\xa4\\xbe\\xe0\\xa5\\xa4'\n",
      " b'\\xe0\\xa4\\xac\\xe0\\xa4\\x9a\\xe0\\xa4\\xbe\\xe0\\xa4\\x93!'\n",
      " b'\\xe0\\xa4\\xae\\xe0\\xa5\\x88\\xe0\\xa4\\x82\\xe0\\xa4\\xa8\\xe0\\xa5\\x87 \\xe0\\xa4\\x96\\xe0\\xa5\\x81\\xe0\\xa4\\xa6 \\xe0\\xa4\\xb8\\xe0\\xa5\\x87 \\xe0\\xa4\\x97\\xe0\\xa4\\xbf\\xe0\\xa4\\x9f\\xe0\\xa4\\xbe\\xe0\\xa4\\xb0 \\xe0\\xa4\\xac\\xe0\\xa4\\x9c\\xe0\\xa4\\xbe\\xe0\\xa4\\xa8\\xe0\\xa4\\xbe \\xe0\\xa4\\xb8\\xe0\\xa5\\x80\\xe0\\xa4\\x96 \\xe0\\xa4\\xb2\\xe0\\xa4\\xbf\\xe0\\xa4\\xaf\\xe0\\xa4\\xbe \\xe0\\xa4\\xb9\\xe0\\xa5\\x88\\xe0\\xa5\\xa4'\n",
      " b'\\xe0\\xa4\\xb8\\xe0\\xa5\\x8d\\xe0\\xa4\\xae\\xe0\\xa5\\x89\\xe0\\xa4\\x97 \\xe0\\xa4\\xb8\\xe0\\xa5\\x87 \\xe0\\xa4\\xaa\\xe0\\xa5\\x87\\xe0\\xa4\\xa1\\xe0\\xa4\\xbc-\\xe0\\xa4\\xaa\\xe0\\xa5\\x8c\\xe0\\xa4\\xa7\\xe0\\xa5\\x8b\\xe0\\xa4\\x82 \\xe0\\xa4\\x95\\xe0\\xa5\\x80 \\xe0\\xa4\\xae\\xe0\\xa5\\x8c\\xe0\\xa4\\xa4 \\xe0\\xa4\\xb9\\xe0\\xa5\\x8b\\xe0\\xa4\\xa4\\xe0\\xa5\\x80 \\xe0\\xa4\\xb9\\xe0\\xa5\\x88\\xe0\\xa5\\xa4'\n",
      " b'\\xe0\\xa4\\xaa\\xe0\\xa4\\xb9\\xe0\\xa4\\xbe\\xe0\\xa4\\xa1\\xe0\\xa4\\xbc \\xe0\\xa4\\xaa\\xe0\\xa4\\xb0 \\xe0\\xa4\\xac\\xe0\\xa4\\xb0\\xe0\\xa5\\x8d\\xe0\\xa4\\xab\\xe0\\xa4\\xbc \\xe0\\xa4\\xac\\xe0\\xa4\\xbf\\xe0\\xa4\\x9b\\xe0\\xa5\\x80 \\xe0\\xa4\\xb9\\xe0\\xa5\\x81\\xe0\\xa4\\x88 \\xe0\\xa4\\xb9\\xe0\\xa5\\x88\\xe0\\xa5\\xa4'\n",
      " b'\\xe0\\xa4\\xae\\xe0\\xa5\\x88\\xe0\\xa4\\x82 \\xe0\\xa4\\x85\\xe0\\xa4\\x95\\xe0\\xa5\\x87\\xe0\\xa4\\xb2\\xe0\\xa5\\x80 \\xe0\\xa4\\xb9\\xe0\\xa5\\x82\\xe0\\xa4\\x81 \\xe0\\xa5\\xa4'\n",
      " b'\\xe0\\xa4\\xa4\\xe0\\xa5\\x81\\xe0\\xa4\\xae\\xe0\\xa5\\x8d\\xe0\\xa4\\xb9\\xe0\\xa4\\xbe\\xe0\\xa4\\xb0\\xe0\\xa4\\xbe \\xe0\\xa4\\x95\\xe0\\xa5\\x81\\xe0\\xa4\\xa4\\xe0\\xa5\\x8d\\xe0\\xa4\\xa4\\xe0\\xa4\\xbe \\xe0\\xa4\\xac\\xe0\\xa4\\xb9\\xe0\\xa5\\x81\\xe0\\xa4\\xa4 \\xe0\\xa4\\xae\\xe0\\xa5\\x8b\\xe0\\xa4\\x9f\\xe0\\xa4\\xbe \\xe0\\xa4\\xb9\\xe0\\xa5\\x88\\xe0\\xa5\\xa4'\n",
      " b'\\xe0\\xa4\\x9c\\xe0\\xa4\\xac \\xe0\\xa4\\xae\\xe0\\xa5\\x88\\xe0\\xa4\\x82 \\xe0\\xa4\\xb5\\xe0\\xa4\\xb9\\xe0\\xa4\\xbe\\xe0\\xa4\\x81 \\xe0\\xa4\\xaa\\xe0\\xa4\\xb9\\xe0\\xa5\\x81\\xe0\\xa4\\x81\\xe0\\xa4\\x9a\\xe0\\xa4\\xbe, \\xe0\\xa4\\xb5\\xe0\\xa5\\x87 \\xe0\\xa4\\x9c\\xe0\\xa4\\xbe\\xe0\\xa4\\xa8\\xe0\\xa5\\x87 \\xe0\\xa4\\xb5\\xe0\\xa4\\xbe\\xe0\\xa4\\xb2\\xe0\\xa5\\x87 \\xe0\\xa4\\xa5\\xe0\\xa5\\x87\\xe0\\xa5\\xa4'\n",
      " b'\\xe0\\xa4\\xaf\\xe0\\xa4\\xb9 \\xe0\\xa4\\x95\\xe0\\xa4\\xb9\\xe0\\xa4\\xbe\\xe0\\xa4\\xa8\\xe0\\xa5\\x80 \\xe0\\xa4\\xab\\xe0\\xa4\\xbf\\xe0\\xa4\\xb0 \\xe0\\xa4\\xb8\\xe0\\xa5\\x87 \\xe0\\xa4\\xaa\\xe0\\xa4\\xa2\\xe0\\xa4\\xbc\\xe0\\xa4\\xa8\\xe0\\xa5\\x87 \\xe0\\xa4\\xb2\\xe0\\xa4\\xbe\\xe0\\xa4\\xaf\\xe0\\xa4\\x95 \\xe0\\xa4\\xb9\\xe0\\xa5\\x88\\xe0\\xa5\\xa4'\n",
      " b'\\xe0\\xa4\\xae\\xe0\\xa5\\x81\\xe0\\xa4\\x9d\\xe0\\xa5\\x87 \\xe0\\xa4\\x89\\xe0\\xa4\\xb8\\xe0\\xa4\\x95\\xe0\\xa5\\x87 \\xe0\\xa4\\xac\\xe0\\xa4\\xaf\\xe0\\xa4\\xbe\\xe0\\xa4\\xa8 \\xe0\\xa4\\x95\\xe0\\xa5\\x80 \\xe0\\xa4\\xb8\\xe0\\xa4\\x9a\\xe0\\xa5\\x8d\\xe0\\xa4\\x9a\\xe0\\xa4\\xbe\\xe0\\xa4\\x88 \\xe0\\xa4\\xaa\\xe0\\xa4\\xb0 \\xe0\\xa4\\xb6\\xe0\\xa4\\x95 \\xe0\\xa4\\xb9\\xe0\\xa5\\x88\\xe0\\xa5\\xa4'\n",
      " b'\\xe0\\xa4\\xb0\\xe0\\xa5\\x8b\\xe0\\xa4\\x97\\xe0\\xa5\\x80 \\xe0\\xa4\\xa8\\xe0\\xa5\\x87 \\xe0\\xa4\\x85\\xe0\\xa4\\xaa\\xe0\\xa4\\xa8\\xe0\\xa5\\x80 \\xe0\\xa4\\x86\\xe0\\xa4\\x96\\xe0\\xa4\\xb0\\xe0\\xa5\\x80 \\xe0\\xa4\\xb8\\xe0\\xa4\\xbe\\xe0\\xa4\\x81\\xe0\\xa4\\xb8 \\xe0\\xa4\\xad\\xe0\\xa4\\xb0\\xe0\\xa5\\x80\\xe0\\xa5\\xa4'\n",
      " b'\\xe0\\xa4\\xae\\xe0\\xa5\\x81\\xe0\\xa4\\x9d\\xe0\\xa5\\x87 \\xe0\\xa4\\xa4\\xe0\\xa5\\x81\\xe0\\xa4\\xae\\xe0\\xa5\\x8d\\xe0\\xa4\\xb9\\xe0\\xa4\\xbe\\xe0\\xa4\\xb0\\xe0\\xa5\\x87 \\xe0\\xa4\\xac\\xe0\\xa5\\x87\\xe0\\xa4\\x97\\xe0\\xa5\\x81\\xe0\\xa4\\xa8\\xe0\\xa4\\xbe\\xe0\\xa4\\xb9 \\xe0\\xa4\\xb9\\xe0\\xa5\\x8b\\xe0\\xa4\\xa8\\xe0\\xa5\\x87 \\xe0\\xa4\\xaa\\xe0\\xa4\\xb0 \\xe0\\xa4\\xaa\\xe0\\xa5\\x82\\xe0\\xa4\\xb0\\xe0\\xa4\\xbe \\xe0\\xa4\\xaf\\xe0\\xa4\\x95\\xe0\\xa5\\x80\\xe0\\xa4\\xa8 \\xe0\\xa4\\xb9\\xe0\\xa5\\x88\\xe0\\xa5\\xa4'\n",
      " b'\\xe0\\xa4\\xad\\xe0\\xa4\\xbe\\xe0\\xa4\\xb0\\xe0\\xa4\\xa4 \\xe0\\xa4\\x95\\xe0\\xa5\\x8b \\xe0\\xa4\\xac\\xe0\\xa5\\x8d\\xe0\\xa4\\xb0\\xe0\\xa4\\xbf\\xe0\\xa4\\x9f\\xe0\\xa5\\x87\\xe0\\xa4\\xa8 \\xe0\\xa4\\xb8\\xe0\\xa5\\x87 \\xe0\\xa5\\xa7\\xe0\\xa5\\xaf\\xe0\\xa5\\xaa\\xe0\\xa5\\xad \\xe0\\xa4\\xae\\xe0\\xa5\\x87\\xe0\\xa4\\x82 \\xe0\\xa4\\xb8\\xe0\\xa5\\x8d\\xe0\\xa4\\xb5\\xe0\\xa4\\xa4\\xe0\\xa4\\x82\\xe0\\xa4\\xa4\\xe0\\xa5\\x8d\\xe0\\xa4\\xb0\\xe0\\xa4\\xa4\\xe0\\xa4\\xbe \\xe0\\xa4\\xaa\\xe0\\xa5\\x8d\\xe0\\xa4\\xb0\\xe0\\xa4\\xbe\\xe0\\xa4\\xaa\\xe0\\xa5\\x8d\\xe0\\xa4\\xa4 \\xe0\\xa4\\xb9\\xe0\\xa5\\x81\\xe0\\xa4\\x88\\xe0\\xa5\\xa4'\n",
      " b'\\xe0\\xa4\\xae\\xe0\\xa5\\x88\\xe0\\xa4\\x82 \\xe0\\xa4\\x87\\xe0\\xa4\\xb8\\xe0\\xa5\\x80\\xe0\\xa4\\xb2\\xe0\\xa4\\xbf\\xe0\\xa4\\x8f \\xe0\\xa4\\xb5\\xe0\\xa4\\xbe\\xe0\\xa4\\xaa\\xe0\\xa4\\xb8 \\xe0\\xa4\\x86\\xe0\\xa4\\xaf\\xe0\\xa4\\xbe \\xe0\\xa4\\xa5\\xe0\\xa4\\xbe\\xe0\\xa5\\xa4'\n",
      " b'\\xe0\\xa4\\xae\\xe0\\xa5\\x88\\xe0\\xa4\\x82 \\xe0\\xa4\\x9a\\xe0\\xa4\\xbe\\xe0\\xa4\\xb9\\xe0\\xa4\\xa4\\xe0\\xa4\\xbe \\xe0\\xa4\\xa5\\xe0\\xa4\\xbe \\xe0\\xa4\\x95\\xe0\\xa4\\xbf \\xe0\\xa4\\x9f\\xe0\\xa5\\x89\\xe0\\xa4\\xae \\xe0\\xa4\\x9c\\xe0\\xa4\\xbc\\xe0\\xa5\\x8d\\xe0\\xa4\\xaf\\xe0\\xa4\\xbe\\xe0\\xa4\\xa6\\xe0\\xa4\\xbe \\xe0\\xa4\\xaa\\xe0\\xa4\\xa2\\xe0\\xa4\\xbc\\xe0\\xa4\\xbe\\xe0\\xa4\\x88 \\xe0\\xa4\\x95\\xe0\\xa4\\xb0\\xe0\\xa5\\x87\\xe0\\xa5\\xa4'\n",
      " b'\\xe0\\xa4\\x95\\xe0\\xa4\\xb0\\xe0\\xa5\\x8d\\xe0\\xa4\\xae\\xe0\\xa4\\x9a\\xe0\\xa4\\xbe\\xe0\\xa4\\xb0\\xe0\\xa4\\xbf\\xe0\\xa4\\xaf\\xe0\\xa5\\x8b\\xe0\\xa4\\x82 \\xe0\\xa4\\x95\\xe0\\xa5\\x8b \\xe0\\xa4\\x85\\xe0\\xa4\\xaa\\xe0\\xa4\\xa8\\xe0\\xa5\\x87 \\xe0\\xa4\\xac\\xe0\\xa4\\xbe\\xe0\\xa4\\xb2 \\xe0\\xa4\\x9b\\xe0\\xa5\\x8b\\xe0\\xa4\\x9f\\xe0\\xa5\\x87 \\xe0\\xa4\\x95\\xe0\\xa4\\x9f\\xe0\\xa4\\xbe\\xe0\\xa4\\xa8\\xe0\\xa5\\x87 \\xe0\\xa4\\xb9\\xe0\\xa5\\x8b\\xe0\\xa4\\xa4\\xe0\\xa5\\x87 \\xe0\\xa4\\xb9\\xe0\\xa5\\x88\\xe0\\xa4\\x82\\xe0\\xa5\\xa4'\n",
      " b'\\xe0\\xa4\\x89\\xe0\\xa4\\xb8\\xe0\\xa4\\xa8\\xe0\\xa5\\x87 \\xe0\\xa4\\xae\\xe0\\xa5\\x81\\xe0\\xa4\\x9d\\xe0\\xa5\\x87 \\xe0\\xa4\\xa6\\xe0\\xa5\\x8b \\xe0\\xa4\\x95\\xe0\\xa4\\xbf\\xe0\\xa4\\xa4\\xe0\\xa4\\xbe\\xe0\\xa4\\xac\\xe0\\xa5\\x87\\xe0\\xa4\\x82 \\xe0\\xa4\\x89\\xe0\\xa4\\xa7\\xe0\\xa4\\xbe\\xe0\\xa4\\xb0 \\xe0\\xa4\\xa6\\xe0\\xa5\\x80\\xe0\\xa4\\x82\\xe0\\xa5\\xa4'], shape=(32,), dtype=string)\n"
     ]
    }
   ],
   "source": [
    "for i, j in train_ds.take(1):\n",
    "    print('i: ',i)\n",
    "    print('j: ', j)\n",
    "    # print('j decoded: ',j.numpy().decode())"
   ]
  },
  {
   "cell_type": "markdown",
   "metadata": {
    "id": "N3DdjsaS4aqs"
   },
   "source": [
    "# Text Vectorization\n"
   ]
  },
  {
   "cell_type": "code",
   "execution_count": 18,
   "metadata": {},
   "outputs": [],
   "source": [
    "output_sequence_length = 200"
   ]
  },
  {
   "cell_type": "code",
   "execution_count": 19,
   "metadata": {
    "id": "yZj0w70q0tne"
   },
   "outputs": [],
   "source": [
    "eng_vectorizer = tf.keras.layers.TextVectorization(standardize = tf_lower_and_split_punct_en, output_sequence_length= output_sequence_length)\n",
    "hin_vectorizer = tf.keras.layers.TextVectorization(standardize = tf_lower_and_split_punct_hi, output_sequence_length= output_sequence_length )"
   ]
  },
  {
   "cell_type": "code",
   "execution_count": 20,
   "metadata": {
    "id": "lj-Y5ei_0tmG"
   },
   "outputs": [
    {
     "name": "stdout",
     "output_type": "stream",
     "text": [
      "WARNING:tensorflow:From /home/t/miniconda3/envs/tf_new/lib/python3.9/site-packages/tensorflow/python/autograph/pyct/static_analysis/liveness.py:83: Analyzer.lamba_check (from tensorflow.python.autograph.pyct.static_analysis.liveness) is deprecated and will be removed after 2023-09-23.\n",
      "Instructions for updating:\n",
      "Lambda fuctions will be no more assumed to be used in the statement where they are used, or at least in the same block. https://github.com/tensorflow/tensorflow/issues/56089\n"
     ]
    }
   ],
   "source": [
    "# Adapting to textvectorizer\n",
    "eng_vectorizer.adapt(train_ds.map(lambda x, y: x))\n",
    "hin_vectorizer.adapt(train_ds.map(lambda x, y: y))"
   ]
  },
  {
   "cell_type": "code",
   "execution_count": 21,
   "metadata": {
    "colab": {
     "base_uri": "https://localhost:8080/"
    },
    "id": "msq7v_jN0tkT",
    "outputId": "9427b023-0e3f-4b83-9c3f-a7475fa4d20a"
   },
   "outputs": [
    {
     "name": "stdout",
     "output_type": "stream",
     "text": [
      "Maxtokens:\n",
      "English :  2359\n",
      "Hindi:  3016\n"
     ]
    }
   ],
   "source": [
    "max_token_english = len(eng_vectorizer.get_vocabulary())\n",
    "max_token_hindi = len(hin_vectorizer.get_vocabulary())\n",
    "\n",
    "print('Maxtokens:')\n",
    "print( 'English : ', max_token_english)\n",
    "print('Hindi: ', max_token_hindi)"
   ]
  },
  {
   "cell_type": "code",
   "execution_count": 22,
   "metadata": {
    "colab": {
     "base_uri": "https://localhost:8080/"
    },
    "id": "rBovvXnn0tjF",
    "outputId": "2b7388d0-77e6-4783-9da7-7c276c5a0c65"
   },
   "outputs": [
    {
     "name": "stdout",
     "output_type": "stream",
     "text": [
      "Text:  उन्होंने मेरी का| मज़ाक उड़ाया\n",
      "\n",
      "Encoded text: ,\n"
     ]
    },
    {
     "data": {
      "text/plain": [
       "<tf.Tensor: shape=(200,), dtype=int64, numpy=\n",
       "array([   2,  173,   40,   20, 1446,  369,    1,    3,    0,    0,    0,\n",
       "          0,    0,    0,    0,    0,    0,    0,    0,    0,    0,    0,\n",
       "          0,    0,    0,    0,    0,    0,    0,    0,    0,    0,    0,\n",
       "          0,    0,    0,    0,    0,    0,    0,    0,    0,    0,    0,\n",
       "          0,    0,    0,    0,    0,    0,    0,    0,    0,    0,    0,\n",
       "          0,    0,    0,    0,    0,    0,    0,    0,    0,    0,    0,\n",
       "          0,    0,    0,    0,    0,    0,    0,    0,    0,    0,    0,\n",
       "          0,    0,    0,    0,    0,    0,    0,    0,    0,    0,    0,\n",
       "          0,    0,    0,    0,    0,    0,    0,    0,    0,    0,    0,\n",
       "          0,    0,    0,    0,    0,    0,    0,    0,    0,    0,    0,\n",
       "          0,    0,    0,    0,    0,    0,    0,    0,    0,    0,    0,\n",
       "          0,    0,    0,    0,    0,    0,    0,    0,    0,    0,    0,\n",
       "          0,    0,    0,    0,    0,    0,    0,    0,    0,    0,    0,\n",
       "          0,    0,    0,    0,    0,    0,    0,    0,    0,    0,    0,\n",
       "          0,    0,    0,    0,    0,    0,    0,    0,    0,    0,    0,\n",
       "          0,    0,    0,    0,    0,    0,    0,    0,    0,    0,    0,\n",
       "          0,    0,    0,    0,    0,    0,    0,    0,    0,    0,    0,\n",
       "          0,    0,    0,    0,    0,    0,    0,    0,    0,    0,    0,\n",
       "          0,    0])>"
      ]
     },
     "execution_count": 22,
     "metadata": {},
     "output_type": "execute_result"
    }
   ],
   "source": [
    "print('Text: ',some_hindi_text)\n",
    "print('\\nEncoded text: ,')\n",
    "hin_vectorizer(some_hindi_text)"
   ]
  },
  {
   "cell_type": "markdown",
   "metadata": {
    "id": "FM2zCVr60tgA"
   },
   "source": [
    "## Mapping Vectorizer to dataset"
   ]
  },
  {
   "cell_type": "code",
   "execution_count": 23,
   "metadata": {},
   "outputs": [],
   "source": [
    "BATCH_SIZE = 32"
   ]
  },
  {
   "cell_type": "code",
   "execution_count": 24,
   "metadata": {
    "id": "5UvErrnz0teP"
   },
   "outputs": [],
   "source": [
    "def make_vec(x, y ):\n",
    "    x, y = eng_vectorizer(x), hin_vectorizer(y)\n",
    "\n",
    "    y_in = y[:,:-1]\n",
    "    y_out = y[:,1:]\n",
    "    return (x,y_in), y_out"
   ]
  },
  {
   "cell_type": "code",
   "execution_count": 25,
   "metadata": {
    "id": "2TtoPhnZ0tc7"
   },
   "outputs": [],
   "source": [
    "train_ds = train_ds.map(make_vec) #.batch(BATCH_SIZE).prefetch(tf.data.AUTOTUNE)\n",
    "val_ds = val_ds.map(make_vec) # .batch(BATCH_SIZE).prefetch(tf.data.AUTOTUNE)"
   ]
  },
  {
   "cell_type": "code",
   "execution_count": 26,
   "metadata": {
    "id": "6BTOBm3i0tbL"
   },
   "outputs": [
    {
     "name": "stdout",
     "output_type": "stream",
     "text": [
      "tf.Tensor(\n",
      "[[   2   59   13 ...    0    0    0]\n",
      " [   2  173  505 ...    0    0    0]\n",
      " [   2    9  846 ...    0    0    0]\n",
      " ...\n",
      " [   2  442 1970 ...    0    0    0]\n",
      " [   2   12 2733 ...    0    0    0]\n",
      " [   2    8 1279 ...    0    0    0]], shape=(32, 199), dtype=int64)\n",
      "\n",
      "tf.Tensor(\n",
      "[[  59   13   11 ...    0    0    0]\n",
      " [ 173  505   19 ...    0    0    0]\n",
      " [   9  846   13 ...    0    0    0]\n",
      " ...\n",
      " [ 442 1970   15 ...    0    0    0]\n",
      " [  12 2733   14 ...    0    0    0]\n",
      " [   8 1279  327 ...    0    0    0]], shape=(32, 199), dtype=int64)\n"
     ]
    }
   ],
   "source": [
    "for i,j in train_ds.take(1):\n",
    "    print(i[1])\n",
    "    print()\n",
    "    print(j)\n",
    "    break"
   ]
  },
  {
   "cell_type": "markdown",
   "metadata": {
    "id": "JkUCiddP0tRf"
   },
   "source": [
    "# Model"
   ]
  },
  {
   "cell_type": "markdown",
   "metadata": {},
   "source": [
    "## Encoder"
   ]
  },
  {
   "cell_type": "code",
   "execution_count": 103,
   "metadata": {
    "id": "Tt4J-fOx0tP5",
    "tags": []
   },
   "outputs": [],
   "source": [
    "class Encoder(tf.keras.layers.Layer):\n",
    "    def __init__(self, text_processor, units, embedding_dims = 32):\n",
    "        super(Encoder, self).__init__()\n",
    "        self.text_processor = text_processor\n",
    "        self.vocab_size = text_processor.vocabulary_size()\n",
    "        self.units = units\n",
    "\n",
    "        # The embedding layer converts tokens to vectors\n",
    "        self.embedding = tf.keras.layers.Embedding(self.vocab_size, units, mask_zero=True)\n",
    "\n",
    "        # The RNN layer processes those vectors sequentially.\n",
    "        self.rnn = tf.keras.layers.Bidirectional(\n",
    "            merge_mode='sum',\n",
    "            layer=tf.keras.layers.GRU(units,\n",
    "                                # Return the sequence and state\n",
    "                                return_sequences=True,\n",
    "                                recurrent_initializer='glorot_uniform'))\n",
    "\n",
    "    def call(self, x):\n",
    "\n",
    "        # 2. The embedding layer looks up the embedding vector for each token.\n",
    "        x = self.embedding(x)\n",
    "\n",
    "        # 3. The GRU processes the sequence of embeddings.\n",
    "        x = self.rnn(x)\n",
    "\n",
    "        # 4. Returns the new sequence of embeddings.\n",
    "        return x\n",
    "\n",
    "    def convert_input(self, texts):\n",
    "        texts = tf.convert_to_tensor(texts)\n",
    "        if len(texts.shape) == 0:\n",
    "            texts = tf.convert_to_tensor(texts)[tf.newaxis]\n",
    "        context = self.text_processor(texts)\n",
    "        context = self(context)\n",
    "        return context"
   ]
  },
  {
   "cell_type": "markdown",
   "metadata": {},
   "source": [
    "## Attention"
   ]
  },
  {
   "cell_type": "code",
   "execution_count": 48,
   "metadata": {
    "id": "BsaIPmwK0tOQ"
   },
   "outputs": [],
   "source": [
    "class CrossAttention(tf.keras.layers.Layer):\n",
    "    def __init__(self, units, **kwargs):\n",
    "        super().__init__()\n",
    "        self.mha = tf.keras.layers.MultiHeadAttention(key_dim=units, num_heads=1, **kwargs)\n",
    "        self.layernorm = tf.keras.layers.LayerNormalization()\n",
    "        self.add = tf.keras.layers.Add()\n",
    "\n",
    "    def call(self, x, context):\n",
    "\n",
    "        attn_output, attn_scores = self.mha(\n",
    "            query=x,\n",
    "            value=context,\n",
    "            return_attention_scores=True)\n",
    "\n",
    "        # Cache the attention scores for plotting later.\n",
    "        attn_scores = tf.reduce_mean(attn_scores, axis=1)\n",
    "        self.last_attention_weights = attn_scores\n",
    "\n",
    "        x = self.add([x, attn_output])\n",
    "        x = self.layernorm(x)\n",
    "\n",
    "        return x"
   ]
  },
  {
   "cell_type": "markdown",
   "metadata": {},
   "source": [
    "## Decoder"
   ]
  },
  {
   "cell_type": "code",
   "execution_count": 49,
   "metadata": {
    "id": "9mOtgmJw0tMk"
   },
   "outputs": [],
   "source": [
    "class Decoder(tf.keras.layers.Layer):\n",
    "    @classmethod\n",
    "    def add_method(cls, fun):\n",
    "        setattr(cls, fun.__name__, fun)\n",
    "        return fun\n",
    "\n",
    "    def __init__(self, text_processor, units, embedding_dims = 32):\n",
    "        super(Decoder, self).__init__()\n",
    "        self.text_processor = text_processor\n",
    "        self.vocab_size = text_processor.vocabulary_size()\n",
    "        self.word_to_id = tf.keras.layers.StringLookup(vocabulary=text_processor.get_vocabulary(), mask_token='', oov_token='[UNK]')\n",
    "        self.id_to_word = tf.keras.layers.StringLookup(vocabulary=text_processor.get_vocabulary(), mask_token='', oov_token='[UNK]', invert=True)\n",
    "        self.start_token = self.word_to_id('[START]')\n",
    "        self.end_token = self.word_to_id('[END]')\n",
    "\n",
    "        self.units = units\n",
    "\n",
    "\n",
    "        # 1. The embedding layer converts token IDs to vectors\n",
    "        self.embedding = tf.keras.layers.Embedding(self.vocab_size, units, mask_zero=True)\n",
    "\n",
    "        # 2. The RNN keeps track of what's been generated so far.\n",
    "        self.rnn = tf.keras.layers.GRU(units,\n",
    "                                       return_sequences=True,\n",
    "                                       return_state=True,\n",
    "                                       recurrent_initializer='glorot_uniform')\n",
    "\n",
    "        # 3. The RNN output will be the query for the attention layer.\n",
    "        self.attention = CrossAttention(units)\n",
    "\n",
    "        # 4. This fully connected layer produces the logits for each\n",
    "        # output token.\n",
    "        self.output_layer = tf.keras.layers.Dense(self.vocab_size)"
   ]
  },
  {
   "cell_type": "markdown",
   "metadata": {},
   "source": [
    "### Decoder call"
   ]
  },
  {
   "cell_type": "code",
   "execution_count": 50,
   "metadata": {
    "id": "7vLwbSZi0tK3"
   },
   "outputs": [],
   "source": [
    "@Decoder.add_method\n",
    "def call(self,\n",
    "         context, x,\n",
    "         state=None,\n",
    "         return_state=False):  \n",
    "\n",
    "    # 1. Lookup the embeddings\n",
    "    x = self.embedding(x)\n",
    "\n",
    "    # 2. Process the target sequence.\n",
    "    x, state = self.rnn(x, initial_state=state)\n",
    "\n",
    "    # 3. Use the RNN output as the query for the attention over the context.\n",
    "    x = self.attention(x, context)\n",
    "    self.last_attention_weights = self.attention.last_attention_weights\n",
    "\n",
    "\n",
    "    # Step 4. Generate logit predictions for the next token.\n",
    "    logits = self.output_layer(x)\n",
    "\n",
    "    if return_state:\n",
    "        return logits, state\n",
    "    else:\n",
    "        return logits"
   ]
  },
  {
   "cell_type": "code",
   "execution_count": 51,
   "metadata": {
    "id": "6rWI_DmA0tJB"
   },
   "outputs": [],
   "source": [
    "@Decoder.add_method\n",
    "def get_initial_state(self, context):\n",
    "    batch_size = tf.shape(context)[0]\n",
    "    start_tokens = tf.fill([batch_size, 1], self.start_token)\n",
    "    done = tf.zeros([batch_size, 1], dtype=tf.bool)\n",
    "    embedded = self.embedding(start_tokens)\n",
    "    return start_tokens, done, self.rnn.get_initial_state(embedded)[0]"
   ]
  },
  {
   "cell_type": "code",
   "execution_count": 52,
   "metadata": {
    "id": "CmQFKqTV0tHT"
   },
   "outputs": [],
   "source": [
    "@Decoder.add_method\n",
    "def tokens_to_text(self, tokens):\n",
    "    words = self.id_to_word(tokens)\n",
    "    result = tf.strings.reduce_join(words, axis=-1, separator=' ')\n",
    "    result = tf.strings.regex_replace(result, '^ *\\[START\\] *', '')\n",
    "    result = tf.strings.regex_replace(result, ' *\\[END\\] *$', '')\n",
    "    return result"
   ]
  },
  {
   "cell_type": "code",
   "execution_count": 53,
   "metadata": {
    "id": "VtcX4VA00tFx"
   },
   "outputs": [],
   "source": [
    "@Decoder.add_method\n",
    "def get_next_token(self, context, next_token, done, state, temperature = 0.0):\n",
    "    logits, state = self(context, next_token, state = state, return_state=True) \n",
    "\n",
    "    if temperature == 0.0:\n",
    "        next_token = tf.argmax(logits, axis=-1)\n",
    "    else:\n",
    "        logits = logits[:, -1, :]/temperature\n",
    "        next_token = tf.random.categorical(logits, num_samples=1)\n",
    "\n",
    "    # If a sequence produces an `end_token`, set it `done`\n",
    "    done = done | (next_token == self.end_token)\n",
    "    # Once a sequence is done it only produces 0-padding.\n",
    "    next_token = tf.where(done, tf.constant(0, dtype=tf.int64), next_token)\n",
    "\n",
    "    return next_token, done, state"
   ]
  },
  {
   "cell_type": "code",
   "execution_count": 110,
   "metadata": {
    "id": "QbTvfGlI0tCK"
   },
   "outputs": [],
   "source": [
    "class Translator(tf.keras.Model):\n",
    "    @classmethod\n",
    "    def add_method(cls, fun):\n",
    "        setattr(cls, fun.__name__, fun)\n",
    "        return fun\n",
    "\n",
    "    def __init__(self, units, context_text_processor, target_text_processor):\n",
    "        super().__init__()\n",
    "        # Build the encoder and decoder\n",
    "        encoder = Encoder(context_text_processor, units)\n",
    "        decoder = Decoder(target_text_processor, units)\n",
    "\n",
    "        self.encoder = encoder\n",
    "        self.decoder = decoder\n",
    "        \n",
    "\n",
    "    def call(self, inputs):\n",
    "        context, x = inputs\n",
    "        context = self.encoder(context)\n",
    "        logits = self.decoder(context, x)\n",
    "\n",
    "    #TODO(b/250038731): remove this\n",
    "        try:\n",
    "          # Delete the keras mask, so keras doesn't scale the loss+accuracy. \n",
    "            del logits._keras_mask\n",
    "        except AttributeError:\n",
    "            pass\n",
    "\n",
    "        return logits"
   ]
  },
  {
   "cell_type": "code",
   "execution_count": 111,
   "metadata": {
    "id": "lhj-jdpS0tAI"
   },
   "outputs": [],
   "source": [
    "model = Translator(UNITS, eng_vectorizer, hin_vectorizer)"
   ]
  },
  {
   "cell_type": "code",
   "execution_count": 112,
   "metadata": {
    "id": "vTUbFm4z0s-b"
   },
   "outputs": [
    {
     "data": {
      "text/plain": [
       "<__main__.Translator at 0x7fdddcb95880>"
      ]
     },
     "execution_count": 112,
     "metadata": {},
     "output_type": "execute_result"
    }
   ],
   "source": [
    "model"
   ]
  },
  {
   "cell_type": "code",
   "execution_count": 113,
   "metadata": {},
   "outputs": [],
   "source": [
    "sample = train_df.sample(5)\n",
    "some_hindi_text = sample['hindi'].to_numpy()\n",
    "some_eng_text = sample['english'].to_numpy()"
   ]
  },
  {
   "cell_type": "code",
   "execution_count": 114,
   "metadata": {
    "id": "mHPO15cS0s8U"
   },
   "outputs": [
    {
     "name": "stdout",
     "output_type": "stream",
     "text": [
      "['हम वहाँ तीन बार खा चुके हैं।' 'हम कल शायद नहीं जीतेंगे।'\n",
      " 'तुम दो तीन दिनों में फिरसे ठीक हो जाओगी।'\n",
      " 'फ़ोटोकॉपियर में कागज़ खतम हो गया है।'\n",
      " 'मैं उससे कल दोपहर को मिलना चाहता हूँ।']\n",
      "['We have eaten there three times.' 'We may not win tomorrow.'\n",
      " \"You'll be all right again in a couple of days.\"\n",
      " \"We've run out of paper for the photocopier.\"\n",
      " \"I'd like to see him tomorrow afternoon.\"]\n"
     ]
    }
   ],
   "source": [
    "print(some_hindi_text)\n",
    "print(some_eng_text)"
   ]
  },
  {
   "cell_type": "code",
   "execution_count": 115,
   "metadata": {},
   "outputs": [
    {
     "data": {
      "text/plain": [
       "<tf.Tensor: shape=(5, 10), dtype=int64, numpy=\n",
       "array([[   2,   30,   18,  855,   50,  190,  222,    4,    3,    0],\n",
       "       [   2,   30,  131,   39,  696,   93,    4,    3,    0,    0],\n",
       "       [   2,  349,   41,   51,  170,  133,   14,   10,  866,   13],\n",
       "       [   2,  701,  582,   69,   13, 1052,   25,    5, 1653,    4],\n",
       "       [   2,  228,   35,    7,   94,   36,   93,  457,    4,    3]])>"
      ]
     },
     "execution_count": 115,
     "metadata": {},
     "output_type": "execute_result"
    }
   ],
   "source": [
    "vectorized_eng_text = eng_vectorizer(some_eng_text)\n",
    "vectorized_eng_text[:,:10]"
   ]
  },
  {
   "cell_type": "code",
   "execution_count": 116,
   "metadata": {},
   "outputs": [
    {
     "data": {
      "text/plain": [
       "<tf.Tensor: shape=(5, 10), dtype=int64, numpy=\n",
       "array([[   2,   46,  154,  164,  143,  949,  486,   17,    3,    0],\n",
       "       [   2,   46,   50,  364,    7, 2464,    3,    0,    0,    0],\n",
       "       [   2,   23,  115,  164,  379,    6,  225,  200,   18, 2485],\n",
       "       [   2, 2069,    6, 2759,  212,   18,   68,    4,    3,    0],\n",
       "       [   2,    8,  107,   50,  332,   15,  297,  102,   24,    3]])>"
      ]
     },
     "execution_count": 116,
     "metadata": {},
     "output_type": "execute_result"
    }
   ],
   "source": [
    "vectorized_hindi_text = hin_vectorizer(some_hindi_text)\n",
    "vectorized_hindi_text[:,:10]"
   ]
  },
  {
   "cell_type": "code",
   "execution_count": 117,
   "metadata": {},
   "outputs": [
    {
     "name": "stdout",
     "output_type": "stream",
     "text": [
      "tf.Tensor(\n",
      "[[   2   46  154  164  143  949  486   17    3    0]\n",
      " [   2   46   50  364    7 2464    3    0    0    0]\n",
      " [   2   23  115  164  379    6  225  200   18 2485]\n",
      " [   2 2069    6 2759  212   18   68    4    3    0]\n",
      " [   2    8  107   50  332   15  297  102   24    3]], shape=(5, 10), dtype=int64)\n",
      "\n",
      "tf.Tensor(\n",
      "[[  46  154  164  143  949  486   17    3    0    0]\n",
      " [  46   50  364    7 2464    3    0    0    0    0]\n",
      " [  23  115  164  379    6  225  200   18 2485    3]\n",
      " [2069    6 2759  212   18   68    4    3    0    0]\n",
      " [   8  107   50  332   15  297  102   24    3    0]], shape=(5, 10), dtype=int64)\n"
     ]
    }
   ],
   "source": [
    "vec_hindi_in = vectorized_hindi_text[:,:-1]\n",
    "vec_hindi_out = vectorized_hindi_text[:,1:]\n",
    "print(vec_hindi_in[:,:10])\n",
    "print()\n",
    "print(vec_hindi_out[:,:10])"
   ]
  },
  {
   "cell_type": "code",
   "execution_count": 118,
   "metadata": {
    "id": "4L6knMFE0s6t"
   },
   "outputs": [],
   "source": [
    "encoder = Encoder(eng_vectorizer, UNITS)\n",
    "# context_eng = encoder((vectorized_eng_text))"
   ]
  },
  {
   "cell_type": "code",
   "execution_count": 119,
   "metadata": {},
   "outputs": [],
   "source": [
    "new_tx = encoder.convert_input(['hey man'])"
   ]
  },
  {
   "cell_type": "code",
   "execution_count": 120,
   "metadata": {
    "id": "PChGRK4X0s47"
   },
   "outputs": [],
   "source": [
    "# context_eng"
   ]
  },
  {
   "cell_type": "code",
   "execution_count": 121,
   "metadata": {
    "id": "dSxxNTtT0s2z"
   },
   "outputs": [],
   "source": [
    "# decoder = Decoder(hin_vectorizer, UNITS)\n",
    "# logits = decoder(context_eng, vec_hindi_in)\n",
    "# logits.shape"
   ]
  },
  {
   "cell_type": "code",
   "execution_count": null,
   "metadata": {
    "id": "5DMM5XHX0syX"
   },
   "outputs": [],
   "source": []
  },
  {
   "cell_type": "code",
   "execution_count": 132,
   "metadata": {
    "id": "wrQnQhGM0stC",
    "tags": []
   },
   "outputs": [],
   "source": [
    "def masked_loss(y_true, y_pred):\n",
    "    # Calculate the loss for each item in the batch.\n",
    "    loss_fn = tf.keras.losses.SparseCategoricalCrossentropy(\n",
    "        from_logits=True, reduction='none')\n",
    "    loss = loss_fn(y_true, y_pred)\n",
    "\n",
    "    # Mask off the losses on padding.\n",
    "    mask = tf.cast(y_true != 0, loss.dtype)\n",
    "    loss *= mask\n",
    "\n",
    "    # Return the total.\n",
    "    return tf.reduce_sum(loss)/tf.reduce_sum(mask)"
   ]
  },
  {
   "cell_type": "code",
   "execution_count": 133,
   "metadata": {
    "id": "IGw3VSmG0sqa"
   },
   "outputs": [],
   "source": [
    "def masked_acc(y_true, y_pred):\n",
    "    # Calculate the loss for each item in the batch.\n",
    "    y_pred = tf.argmax(y_pred, axis=-1)\n",
    "    y_pred = tf.cast(y_pred, y_true.dtype)\n",
    "\n",
    "    match = tf.cast(y_true == y_pred, tf.float32)\n",
    "    mask = tf.cast(y_true != 0, tf.float32)\n",
    "\n",
    "    return tf.reduce_sum(match)/tf.reduce_sum(mask)"
   ]
  },
  {
   "cell_type": "code",
   "execution_count": 134,
   "metadata": {},
   "outputs": [],
   "source": [
    "model.compile(optimizer='adam',\n",
    "              loss=masked_loss, \n",
    "              metrics=[masked_acc, masked_loss])"
   ]
  },
  {
   "cell_type": "code",
   "execution_count": 182,
   "metadata": {},
   "outputs": [],
   "source": [
    "EPOCHS = 200\n",
    "CKPT_DIR = './model_checkpoint'"
   ]
  },
  {
   "cell_type": "code",
   "execution_count": 156,
   "metadata": {},
   "outputs": [],
   "source": [
    "from datetime import datetime"
   ]
  },
  {
   "cell_type": "code",
   "execution_count": 179,
   "metadata": {},
   "outputs": [],
   "source": [
    "import os"
   ]
  },
  {
   "cell_type": "code",
   "execution_count": 181,
   "metadata": {},
   "outputs": [],
   "source": [
    "model_ckpt = tf.keras.callbacks.ModelCheckpoint(\n",
    "    os.path.join(CKPT_DIR,  f\"{datetime.now().strftime('%m:%d:%Y, %H:%M:%S')}_accuracy:{max(history.history['masked_acc']):.3f}\"),\n",
    "    monitor= 'loss',\n",
    "    verbose= 0,\n",
    "    save_best_only = True,\n",
    "    save_weights_only = True,\n",
    "    mode= 'auto',\n",
    "    save_freq='epoch'\n",
    ")"
   ]
  },
  {
   "cell_type": "code",
   "execution_count": 183,
   "metadata": {
    "id": "rg1ZWQV90sn9"
   },
   "outputs": [
    {
     "name": "stdout",
     "output_type": "stream",
     "text": [
      "Epoch 1/2\n",
      "50/50 [==============================] - ETA: 0s - loss: 0.0589 - masked_acc: 0.9841 - masked_loss: 0.0589WARNING:tensorflow:Your input ran out of data; interrupting training. Make sure that your dataset or generator can generate at least `steps_per_epoch * epochs` batches (in this case, 20 batches). You may need to use the repeat() function when building your dataset.\n",
      "50/50 [==============================] - 25s 505ms/step - loss: 0.0589 - masked_acc: 0.9841 - masked_loss: 0.0589 - val_loss: 8.0981 - val_masked_acc: 0.3695 - val_masked_loss: 8.2386\n",
      "Epoch 2/2\n",
      "50/50 [==============================] - ETA: 0s - loss: 0.0653 - masked_acc: 0.9812 - masked_loss: 0.0641WARNING:tensorflow:Early stopping conditioned on metric `val_loss` which is not available. Available metrics are: loss,masked_acc,masked_loss\n",
      "50/50 [==============================] - 17s 349ms/step - loss: 0.0653 - masked_acc: 0.9812 - masked_loss: 0.0641\n"
     ]
    }
   ],
   "source": [
    "history = model.fit(\n",
    "    train_ds.repeat(), \n",
    "    epochs=EPOCHS,\n",
    "    steps_per_epoch = 50,\n",
    "    validation_data=val_ds,\n",
    "    validation_steps = 20,\n",
    "    callbacks=[\n",
    "        tf.keras.callbacks.EarlyStopping(patience=3),\n",
    "    model_ckpt])"
   ]
  },
  {
   "cell_type": "code",
   "execution_count": 136,
   "metadata": {
    "id": "0oAu_jN60slV"
   },
   "outputs": [
    {
     "data": {
      "text/plain": [
       "<matplotlib.legend.Legend at 0x7fdd904e32e0>"
      ]
     },
     "execution_count": 136,
     "metadata": {},
     "output_type": "execute_result"
    },
    {
     "data": {
      "image/png": "[encoded data removed]",
      "text/plain": [
       "<Figure size 640x480 with 1 Axes>"
      ]
     },
     "metadata": {},
     "output_type": "display_data"
    }
   ],
   "source": [
    "plt.plot(history.history['loss'], label='loss')\n",
    "plt.plot(history.history['val_loss'], label='val_loss')\n",
    "plt.ylim([0, max(plt.ylim())])\n",
    "plt.xlabel('Epoch #')\n",
    "plt.ylabel('CE/token')\n",
    "plt.legend()"
   ]
  },
  {
   "cell_type": "code",
   "execution_count": 137,
   "metadata": {
    "id": "XUF3LXpN0sjC"
   },
   "outputs": [
    {
     "data": {
      "text/plain": [
       "<matplotlib.legend.Legend at 0x7fdd904b5e50>"
      ]
     },
     "execution_count": 137,
     "metadata": {},
     "output_type": "execute_result"
    },
    {
     "data": {
      "image/png": "[encoded data removed]",
      "text/plain": [
       "<Figure size 640x480 with 1 Axes>"
      ]
     },
     "metadata": {},
     "output_type": "display_data"
    }
   ],
   "source": [
    "plt.plot(history.history['masked_acc'], label='accuracy')\n",
    "plt.plot(history.history['val_masked_acc'], label='val_accuracy')\n",
    "plt.ylim([0, max(plt.ylim())])\n",
    "plt.xlabel('Epoch #')\n",
    "plt.ylabel('CE/token')\n",
    "plt.legend()"
   ]
  },
  {
   "cell_type": "code",
   "execution_count": 138,
   "metadata": {
    "id": "nbmAh9W70sgO"
   },
   "outputs": [],
   "source": [
    "@Translator.add_method\n",
    "def translate(self,\n",
    "              texts, *,\n",
    "              max_length=50,\n",
    "              temperature=0.0):\n",
    "  # Process the input texts\n",
    "    context = self.encoder.convert_input(texts)\n",
    "    batch_size = tf.shape(texts)[0]\n",
    "\n",
    "  # Setup the loop inputs\n",
    "    tokens = []\n",
    "    attention_weights = []\n",
    "    next_token, done, state = self.decoder.get_initial_state(context)\n",
    "\n",
    "    for _ in range(max_length):\n",
    "        # Generate the next token\n",
    "        next_token, done, state = self.decoder.get_next_token(context, next_token, done,  state, temperature)\n",
    "\n",
    "        # Collect the generated tokens\n",
    "        tokens.append(next_token)\n",
    "        attention_weights.append(self.decoder.last_attention_weights)\n",
    "\n",
    "        if tf.executing_eagerly() and tf.reduce_all(done):\n",
    "            break\n",
    "\n",
    "    # Stack the lists of tokens and attention weights.\n",
    "    tokens = tf.concat(tokens, axis=-1)   # t*[(batch 1)] -> (batch, t)\n",
    "    self.last_attention_weights = tf.concat(attention_weights, axis=1)  # t*[(batch 1 s)] -> (batch, t s)\n",
    "\n",
    "    result = self.decoder.tokens_to_text(tokens)\n",
    "    return result"
   ]
  },
  {
   "cell_type": "code",
   "execution_count": 153,
   "metadata": {
    "id": "sDETfmnw0sdp"
   },
   "outputs": [
    {
     "data": {
      "text/plain": [
       "'उसने मुझसे मुझे देखा है। '"
      ]
     },
     "execution_count": 153,
     "metadata": {},
     "output_type": "execute_result"
    }
   ],
   "source": [
    "result = model.translate(['She loves me']) \n",
    "result[0].numpy().decode()"
   ]
  },
  {
   "cell_type": "code",
   "execution_count": 154,
   "metadata": {},
   "outputs": [
    {
     "data": {
      "text/plain": [
       "<matplotlib.legend.Legend at 0x7fdda65046a0>"
      ]
     },
     "execution_count": 154,
     "metadata": {},
     "output_type": "execute_result"
    },
    {
     "data": {
      "image/png": "[encoded data removed]",
      "text/plain": [
       "<Figure size 640x480 with 1 Axes>"
      ]
     },
     "metadata": {},
     "output_type": "display_data"
    }
   ],
   "source": [
    "plt.plot(history.history['masked_acc'], label='accuracy')\n",
    "plt.ylim([0, max(plt.ylim())])\n",
    "plt.title('accuracy vs epochs')\n",
    "plt.legend()"
   ]
  },
  {
   "cell_type": "code",
   "execution_count": null,
   "metadata": {},
   "outputs": [],
   "source": []
  }
 ],
 "metadata": {
  "colab": {
   "authorship_tag": "ABX9TyPiCALB63AyERfNtjrk0MrL",
   "include_colab_link": true,
   "provenance": []
  },
  "kernelspec": {
   "display_name": "Python 3 (ipykernel)",
   "language": "python",
   "name": "python3"
  },
  "language_info": {
   "codemirror_mode": {
    "name": "ipython",
    "version": 3
   },
   "file_extension": ".py",
   "mimetype": "text/x-python",
   "name": "python",
   "nbconvert_exporter": "python",
   "pygments_lexer": "ipython3",
   "version": "3.9.16"
  }
 },
 "nbformat": 4,
 "nbformat_minor": 4
}
