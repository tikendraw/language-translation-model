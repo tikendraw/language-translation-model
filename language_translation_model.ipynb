{
  "cells": [
    {
      "cell_type": "markdown",
      "metadata": {
        "id": "view-in-github",
        "colab_type": "text"
      },
      "source": [
        "<a href=\"https://colab.research.google.com/github/tikendraw/language-translation-model/blob/main/language_translation_model.ipynb\" target=\"_parent\"><img src=\"https://colab.research.google.com/assets/colab-badge.svg\" alt=\"Open In Colab\"/></a>"
      ]
    },
    {
      "cell_type": "markdown",
      "metadata": {
        "id": "n1hJ48ytxM3b"
      },
      "source": [
        "# Language Translation Model (English to Hindi)\n",
        "\n",
        "\n",
        "---\n",
        "\n",
        "\n"
      ]
    },
    {
      "cell_type": "code",
      "execution_count": 1,
      "metadata": {
        "colab": {
          "base_uri": "https://localhost:8080/"
        },
        "id": "lrmDJdXC9SfD",
        "outputId": "d3f8372b-8c31-450b-fede-e2420a32c687"
      },
      "outputs": [
        {
          "output_type": "stream",
          "name": "stdout",
          "text": [
            "Cloning into 'language-translation-model'...\n",
            "remote: Enumerating objects: 22, done.\u001b[K\n",
            "remote: Counting objects: 100% (22/22), done.\u001b[K\n",
            "remote: Compressing objects: 100% (19/19), done.\u001b[K\n",
            "remote: Total 22 (delta 7), reused 11 (delta 3), pack-reused 0\u001b[K\n",
            "Unpacking objects: 100% (22/22), 376.54 KiB | 3.73 MiB/s, done.\n",
            "/content/language-translation-model\n"
          ]
        }
      ],
      "source": [
        "import os, sys\n",
        "if 'google.colab' in sys.modules:\n",
        "    \n",
        "    ! git clone https://github.com/tikendraw/language-translation-model.git \n",
        "    os.chdir('language-translation-model') \n",
        "    print(os.getcwd())"
      ]
    },
    {
      "cell_type": "code",
      "execution_count": 2,
      "metadata": {
        "colab": {
          "base_uri": "https://localhost:8080/"
        },
        "id": "1cxy3JvX9Fw4",
        "outputId": "5d215f68-c3b5-428a-f5eb-0492de345962"
      },
      "outputs": [
        {
          "output_type": "stream",
          "name": "stdout",
          "text": [
            "\u001b[2K     \u001b[90m━━━━━━━━━━━━━━━━━━━━━━━━━━━━━━━━━━━━━━━━\u001b[0m \u001b[32m15.2/15.2 MB\u001b[0m \u001b[31m66.7 MB/s\u001b[0m eta \u001b[36m0:00:00\u001b[0m\n",
            "\u001b[?25hTf version:  2.11.0\n",
            "GPU:  1\n",
            "[PhysicalDevice(name='/physical_device:GPU:0', device_type='GPU')]\n"
          ]
        }
      ],
      "source": [
        "# Dependencies\n",
        "! pip install polars -q\n",
        "import polars as pd\n",
        "from datetime import datetime\n",
        "import numpy as np\n",
        "import tensorflow as tf\n",
        "from tensorflow import keras\n",
        "from tensorflow.keras import layers, Model , optimizers\n",
        "from tensorflow.keras.layers import Attention,GRU, LSTM, Bidirectional, Dense, MaxPooling1D, GlobalAveragePooling1D, GlobalMaxPooling1D, AveragePooling1D, Dropout, concatenate, Concatenate\n",
        "\n",
        "import seaborn as sns\n",
        "import matplotlib.pyplot as plt\n",
        "\n",
        "!pip install tensorflow_hub -q\n",
        "import tensorflow_hub as hub\n",
        "import os\n",
        "import re\n",
        "import json\n",
        "from sklearn.model_selection import train_test_split\n",
        "\n",
        "print('Tf version: ',tf.__version__)\n",
        "print('GPU: ', is_gpu:=len(tf.config.list_physical_devices('GPU')))\n",
        "import tensorflow as tf\n",
        "\n",
        "os.environ['TF_CPP_MIN_LOG_LEVEL'] = '3' \n",
        "os.environ[\"TFHUB_CACHE_DIR\"] = './tmp/tfhub'\n",
        "\n",
        "\"\"\"\"\"\"\"\"\"\"\"\"\"\"\"\"\"\"\"\"\"\"\"\"\"\"\"\"\"\"\"\"\"\"\"\"\"\"\"\"\"\"\"\"\"\"\"\"\"\"\"\"\"\"\"\"\"\n",
        "[PhysicalDevice(name='/physical_device:GPU:0', device_type='GPU')]\n",
        "None\n",
        "\"\"\"\"\"\"\"\"\"\"\"\"\"\"\"\"\"\"\"\"\"\"\"\"\"\"\"\"\"\"\"\"\"\"\"\"\"\"\"\"\"\"\"\"\"\"\"\"\"\"\"\"\"\"\"\"\"\n",
        "if is_gpu:\n",
        "    physical_devices = tf.config.experimental.list_physical_devices('GPU')\n",
        "    assert len(physical_devices) > 0, \"Not enough GPU hardware devices available\"\n",
        "    config = tf.config.experimental.set_memory_growth(physical_devices[0], True)\n",
        "    print(physical_devices)\n"
      ]
    },
    {
      "cell_type": "code",
      "execution_count": 3,
      "metadata": {
        "id": "nY49Vs8mxGcD"
      },
      "outputs": [],
      "source": [
        "dataset_url = 'http://www.manythings.org/anki/hin-eng.zip'"
      ]
    },
    {
      "cell_type": "code",
      "execution_count": 4,
      "metadata": {
        "id": "H7P06oG8xiS7"
      },
      "outputs": [],
      "source": [
        "# # # Download the dataset\n",
        "# if 'google.colab' in sys.modules:\n",
        "#     # donwload\n",
        "#     !wget $dataset_url -P dataset\n",
        "\n",
        "#     # # Unzip the downloaded file\n",
        "#     !unzip ./dataset/hin-eng.zip -d ./dataset\n",
        "\n",
        "#     # # Show size\n",
        "#     !du -h  ./dataset"
      ]
    },
    {
      "cell_type": "markdown",
      "metadata": {
        "id": "ITptJktjzLho"
      },
      "source": [
        "# Reading the data"
      ]
    },
    {
      "cell_type": "code",
      "execution_count": 4,
      "metadata": {
        "id": "4XP6M5Eb0t5F"
      },
      "outputs": [],
      "source": []
    },
    {
      "cell_type": "code",
      "execution_count": 5,
      "metadata": {
        "id": "vraPNhwl0t2Z"
      },
      "outputs": [],
      "source": [
        "df = pd.read_csv('./dataset/hin.txt', sep = '\\t', new_columns = ['english', 'hindi', 'somethingelse'])[['english','hindi']]"
      ]
    },
    {
      "cell_type": "code",
      "execution_count": 6,
      "metadata": {
        "colab": {
          "base_uri": "https://localhost:8080/"
        },
        "id": "EsHrOgJX0t0m",
        "outputId": "b4f0a62c-5bb2-44d7-8c7e-976221a127ae"
      },
      "outputs": [
        {
          "output_type": "execute_result",
          "data": {
            "text/plain": [
              "(2908, 2)"
            ]
          },
          "metadata": {},
          "execution_count": 6
        }
      ],
      "source": [
        "df.shape"
      ]
    },
    {
      "cell_type": "code",
      "execution_count": 7,
      "metadata": {
        "colab": {
          "base_uri": "https://localhost:8080/",
          "height": 412
        },
        "id": "_iYNVAyD0tyx",
        "outputId": "3218273c-7489-4442-df60-5af347525b5d"
      },
      "outputs": [
        {
          "output_type": "execute_result",
          "data": {
            "text/plain": [
              "shape: (10, 2)\n",
              "┌─────────────────────────────────────┬────────────────────────────────────┐\n",
              "│ english                             ┆ hindi                              │\n",
              "│ ---                                 ┆ ---                                │\n",
              "│ str                                 ┆ str                                │\n",
              "╞═════════════════════════════════════╪════════════════════════════════════╡\n",
              "│ Duck!                               ┆ झुको!                               │\n",
              "│ Mother and I are different in ev... ┆ मम्मी और मैं किसी भी पहलू में एक...      │\n",
              "│ Do you jog every day?               ┆ क्या आप हर दिन जॉगिंग करते हैं?         │\n",
              "│ I have a headache.                  ┆ मुझे सिरदर्द हो रहा है।                │\n",
              "│ ...                                 ┆ ...                                │\n",
              "│ She wanted to have her hair cut,... ┆ वह अपने बाल कटवाना चाहती थी, पर ... │\n",
              "│ He's sleeping like a baby.          ┆ वह बच्चे की तरह सो रहा है।            │\n",
              "│ He came running.                    ┆ वह भागते हुए आया।                    │\n",
              "│ In case I can't come, I'll give ... ┆ अगर मैं नहीं आ पाया तो तुम्हें प...       │\n",
              "└─────────────────────────────────────┴────────────────────────────────────┘"
            ],
            "text/html": [
              "<div>\n",
              "<style>\n",
              ".pl-dataframe > thead > tr > th {\n",
              "  text-align: right;\n",
              "}\n",
              "</style>\n",
              "\n",
              "<table border=\"1\" class=\"dataframe pl-dataframe\">\n",
              "<small>shape: (10, 2)</small>\n",
              "<thead>\n",
              "<tr>\n",
              "<th>\n",
              "english\n",
              "</th>\n",
              "<th>\n",
              "hindi\n",
              "</th>\n",
              "</tr>\n",
              "<tr>\n",
              "<td>\n",
              "str\n",
              "</td>\n",
              "<td>\n",
              "str\n",
              "</td>\n",
              "</tr>\n",
              "</thead>\n",
              "<tbody>\n",
              "<tr>\n",
              "<td>\n",
              "&quot;Duck!&quot;\n",
              "</td>\n",
              "<td>\n",
              "&quot;झुको!&quot;\n",
              "</td>\n",
              "</tr>\n",
              "<tr>\n",
              "<td>\n",
              "&quot;Mother and I a...\n",
              "</td>\n",
              "<td>\n",
              "&quot;मम्मी और मैं क...\n",
              "</td>\n",
              "</tr>\n",
              "<tr>\n",
              "<td>\n",
              "&quot;Do you jog eve...\n",
              "</td>\n",
              "<td>\n",
              "&quot;क्या आप हर दिन...\n",
              "</td>\n",
              "</tr>\n",
              "<tr>\n",
              "<td>\n",
              "&quot;I have a heada...\n",
              "</td>\n",
              "<td>\n",
              "&quot;मुझे सिरदर्द ह...\n",
              "</td>\n",
              "</tr>\n",
              "<tr>\n",
              "<td>\n",
              "&quot;Classical musi...\n",
              "</td>\n",
              "<td>\n",
              "&quot;मुझे शास्त्रीय...\n",
              "</td>\n",
              "</tr>\n",
              "<tr>\n",
              "<td>\n",
              "&quot;Tom may invite...\n",
              "</td>\n",
              "<td>\n",
              "&quot;टॉम हमें आमंत्...\n",
              "</td>\n",
              "</tr>\n",
              "<tr>\n",
              "<td>\n",
              "&quot;She wanted to ...\n",
              "</td>\n",
              "<td>\n",
              "&quot;वह अपने बाल कट...\n",
              "</td>\n",
              "</tr>\n",
              "<tr>\n",
              "<td>\n",
              "&quot;He&#x27;s sleeping ...\n",
              "</td>\n",
              "<td>\n",
              "&quot;वह बच्चे की तर...\n",
              "</td>\n",
              "</tr>\n",
              "<tr>\n",
              "<td>\n",
              "&quot;He came runnin...\n",
              "</td>\n",
              "<td>\n",
              "&quot;वह भागते हुए आ...\n",
              "</td>\n",
              "</tr>\n",
              "<tr>\n",
              "<td>\n",
              "&quot;In case I can&#x27;...\n",
              "</td>\n",
              "<td>\n",
              "&quot;अगर मैं नहीं आ...\n",
              "</td>\n",
              "</tr>\n",
              "</tbody>\n",
              "</table>\n",
              "</div>"
            ]
          },
          "metadata": {},
          "execution_count": 7
        }
      ],
      "source": [
        "df.sample(10)"
      ]
    },
    {
      "cell_type": "code",
      "execution_count": 8,
      "metadata": {
        "id": "swlPFpr-0txP"
      },
      "outputs": [],
      "source": [
        "from sklearn.model_selection import train_test_split"
      ]
    },
    {
      "cell_type": "code",
      "execution_count": 9,
      "metadata": {
        "id": "BDxEUwx2jFxB"
      },
      "outputs": [],
      "source": [
        "UNITS = 32\n",
        "EMBEDDING_DIMS = 16\n",
        "BATCH_SIZE = 32"
      ]
    },
    {
      "cell_type": "markdown",
      "metadata": {
        "id": "ceSkRUmM0twM"
      },
      "source": [
        "# Prepare the data `tf.data`"
      ]
    },
    {
      "cell_type": "code",
      "execution_count": 10,
      "metadata": {
        "id": "BCw6ZgqV0tuW"
      },
      "outputs": [],
      "source": [
        "# Split the data for train and val\n",
        "train_df, val_df = train_test_split(df, test_size = .02, random_state = 4 )"
      ]
    },
    {
      "cell_type": "code",
      "execution_count": 11,
      "metadata": {
        "colab": {
          "base_uri": "https://localhost:8080/"
        },
        "id": "kA0bZi7Z0ttP",
        "outputId": "5a98ec10-48da-4b96-bca4-a227e5028233"
      },
      "outputs": [
        {
          "output_type": "stream",
          "name": "stdout",
          "text": [
            "train shape:  (2849, 2)\n",
            "val shape:  (59, 2)\n"
          ]
        }
      ],
      "source": [
        "print('train shape: ', train_df.shape)\n",
        "print('val shape: ', val_df.shape)"
      ]
    },
    {
      "cell_type": "code",
      "execution_count": 12,
      "metadata": {
        "id": "z5rNSvh2jFxE"
      },
      "outputs": [],
      "source": [
        "BUFFER_SIZE = 2000"
      ]
    },
    {
      "cell_type": "code",
      "execution_count": 13,
      "metadata": {
        "id": "puSucMUn0tq-"
      },
      "outputs": [],
      "source": [
        "train_ds = tf.data.Dataset.from_tensor_slices((train_df['english'].to_list(), train_df['hindi'].to_list())).shuffle(BUFFER_SIZE).batch(BATCH_SIZE)\n",
        "val_ds = tf.data.Dataset.from_tensor_slices((val_df['english'].to_list(), val_df['hindi'].to_list())).shuffle(BUFFER_SIZE).batch(BATCH_SIZE)"
      ]
    },
    {
      "cell_type": "code",
      "execution_count": 14,
      "metadata": {
        "colab": {
          "base_uri": "https://localhost:8080/"
        },
        "id": "RqH0xQMUjFxG",
        "outputId": "f0a7e942-de84-4714-ce0c-327105182838"
      },
      "outputs": [
        {
          "output_type": "execute_result",
          "data": {
            "text/plain": [
              "90"
            ]
          },
          "metadata": {},
          "execution_count": 14
        }
      ],
      "source": [
        "len(train_ds)"
      ]
    },
    {
      "cell_type": "code",
      "execution_count": 15,
      "metadata": {
        "id": "_APB0Ah64b26"
      },
      "outputs": [],
      "source": [
        "\n",
        "# preprocessing text\n",
        "def tf_lower_and_split_punct_en(text):\n",
        "    # Split accented characters.\n",
        "    # text = tf.text.normalize_utf8(text, 'NFKD')\n",
        "    text = tf.strings.lower(text)\n",
        "    # Keep space, a to z, and select punctuation.\n",
        "    text = tf.strings.regex_replace(text, '[^ a-z.?!,¿]', '')\n",
        "    # Add spaces around punctuation.\n",
        "    text = tf.strings.regex_replace(text, '[.?!,¿|]', r' \\0 ')\n",
        "    # Strip whitespace.\n",
        "    text = tf.strings.strip(text)\n",
        "\n",
        "    text = tf.strings.join(['[START]', text, '[END]'], separator=' ')\n",
        "\n",
        "    return text\n",
        "\n",
        "\n",
        "\n",
        "# preprocessing text\n",
        "def tf_lower_and_split_punct_hi(text):\n",
        "    text = tf.strings.regex_replace(text, '[.?!,¿|]', r' \\0 ')\n",
        "    text = tf.strings.strip(text)\n",
        "    text = tf.strings.join(['[START]', text, '[END]'], separator=' ')\n",
        "    return text"
      ]
    },
    {
      "cell_type": "code",
      "execution_count": 16,
      "metadata": {
        "colab": {
          "base_uri": "https://localhost:8080/"
        },
        "id": "OfNyTkJ56pPt",
        "outputId": "0c0ba783-a39d-41fa-ba34-3e0f1f28fe88"
      },
      "outputs": [
        {
          "output_type": "stream",
          "name": "stdout",
          "text": [
            "उन्होंने मेरी का| मज़ाक उड़ाया\n",
            "tf.Tensor(b'[START] \\xe0\\xa4\\x89\\xe0\\xa4\\xa8\\xe0\\xa5\\x8d\\xe0\\xa4\\xb9\\xe0\\xa5\\x8b\\xe0\\xa4\\x82\\xe0\\xa4\\xa8\\xe0\\xa5\\x87 \\xe0\\xa4\\xae\\xe0\\xa5\\x87\\xe0\\xa4\\xb0\\xe0\\xa5\\x80 \\xe0\\xa4\\x95\\xe0\\xa4\\xbe |  \\xe0\\xa4\\xae\\xe0\\xa4\\x9c\\xe0\\xa4\\xbc\\xe0\\xa4\\xbe\\xe0\\xa4\\x95 \\xe0\\xa4\\x89\\xe0\\xa4\\xa1\\xe0\\xa4\\xbc\\xe0\\xa4\\xbe\\xe0\\xa4\\xaf\\xe0\\xa4\\xbe [END]', shape=(), dtype=string)\n",
            "[START] उन्होंने मेरी का |  मज़ाक उड़ाया [END]\n"
          ]
        }
      ],
      "source": [
        "some_hindi_text = 'उन्होंने मेरी का| मज़ाक उड़ाया'\n",
        "print(some_hindi_text)\n",
        "b= tf_lower_and_split_punct_hi(some_hindi_text)\n",
        "print(b)\n",
        "print(b.numpy().decode())\n",
        "del(b)"
      ]
    },
    {
      "cell_type": "code",
      "execution_count": 17,
      "metadata": {
        "colab": {
          "base_uri": "https://localhost:8080/"
        },
        "id": "cRZEds9s0tpU",
        "outputId": "e80f9327-784b-4ab7-c66e-290fc0b9f6ed"
      },
      "outputs": [
        {
          "output_type": "stream",
          "name": "stdout",
          "text": [
            "i:  tf.Tensor(\n",
            "[b'Smoking will do you a lot of harm.'\n",
            " b'He will write for hours at a time.' b'Tom is my idol.' b'Go away!'\n",
            " b'I was born in 1960.' b'What do you like to do?'\n",
            " b'Father objected to my going to the mountain alone.'\n",
            " b\"It's already nine o'clock.\" b\"Nobody's around.\" b'We went shopping.'\n",
            " b'His new book is going to come out next month.'\n",
            " b'He seemed surprised by my ignorance.'\n",
            " b\"I don't think that anyone noticed what we did.\" b'He likes oranges.'\n",
            " b'It is already eleven.' b'Is your father a teacher?'\n",
            " b'She cut the cake into six pieces and gave one to each of the children.'\n",
            " b'Have you ever failed an exam?'\n",
            " b'He left his parents when he was eight years old.'\n",
            " b'She plays tennis very well.' b'I am reading a book.'\n",
            " b'I was caught in a shower and was drenched to the skin.'\n",
            " b'This machine is superior in quality to that one.'\n",
            " b'Half of the apples are rotten.'\n",
            " b\"I'm going to go buy some materials today.\" b'The house was in flames.'\n",
            " b'He wanted to buy the book.' b\"I'd like a Bloody Mary.\"\n",
            " b'I wish I had more time to talk with you.' b'My father is very nice.'\n",
            " b'The thieves pulled open all the drawers of the desk in search of money.'\n",
            " b'Remove your shirt and lie down.'], shape=(32,), dtype=string)\n",
            "j:  tf.Tensor(\n",
            "[b'\\xe0\\xa4\\xa7\\xe0\\xa5\\x82\\xe0\\xa4\\xae\\xe0\\xa5\\x8d\\xe0\\xa4\\xb0\\xe0\\xa4\\xaa\\xe0\\xa4\\xbe\\xe0\\xa4\\xa8 \\xe0\\xa4\\x86\\xe0\\xa4\\xaa\\xe0\\xa4\\x95\\xe0\\xa5\\x8b \\xe0\\xa4\\xb9\\xe0\\xa4\\xbe\\xe0\\xa4\\xa8\\xe0\\xa4\\xbf \\xe0\\xa4\\xaa\\xe0\\xa4\\xb9\\xe0\\xa5\\x81\\xe0\\xa4\\x81\\xe0\\xa4\\x9a\\xe0\\xa4\\xbe\\xe0\\xa4\\x8f\\xe0\\xa4\\x97\\xe0\\xa4\\xbe\\xe0\\xa5\\xa4'\n",
            " b'\\xe0\\xa4\\xb5\\xe0\\xa4\\xb9 \\xe0\\xa4\\x8f\\xe0\\xa4\\x95 \\xe0\\xa4\\xac\\xe0\\xa4\\xbe\\xe0\\xa4\\xb0 \\xe0\\xa4\\xae\\xe0\\xa5\\x87\\xe0\\xa4\\x82 \\xe0\\xa4\\x98\\xe0\\xa4\\x82\\xe0\\xa4\\x9f\\xe0\\xa5\\x8b \\xe0\\xa4\\x95\\xe0\\xa5\\x87 \\xe0\\xa4\\xb2\\xe0\\xa4\\xbf\\xe0\\xa4\\x8f \\xe0\\xa4\\xb2\\xe0\\xa4\\xbf\\xe0\\xa4\\x96 \\xe0\\xa4\\xb8\\xe0\\xa4\\x95\\xe0\\xa4\\xa4\\xe0\\xa4\\xbe \\xe0\\xa4\\xb9\\xe0\\xa5\\x88\\xe0\\xa5\\xa4'\n",
            " b'\\xe0\\xa4\\x9f\\xe0\\xa5\\x89\\xe0\\xa4\\xae \\xe0\\xa4\\xae\\xe0\\xa5\\x87\\xe0\\xa4\\xb0\\xe0\\xa4\\xbe \\xe0\\xa4\\x86\\xe0\\xa4\\xa6\\xe0\\xa4\\xb0\\xe0\\xa5\\x8d\\xe0\\xa4\\xb6 \\xe0\\xa4\\xb9\\xe0\\xa5\\x88\\xe0\\xa5\\xa4'\n",
            " b'\\xe0\\xa4\\x9a\\xe0\\xa4\\xb2\\xe0\\xa5\\x87 \\xe0\\xa4\\x9c\\xe0\\xa4\\xbe\\xe0\\xa4\\x93!'\n",
            " b'\\xe0\\xa4\\xae\\xe0\\xa5\\x88\\xe0\\xa4\\x82 \\xe0\\xa5\\xa7\\xe0\\xa5\\xaf\\xe0\\xa5\\xac\\xe0\\xa5\\xa6 \\xe0\\xa4\\xae\\xe0\\xa5\\x87\\xe0\\xa4\\x82 \\xe0\\xa4\\xaa\\xe0\\xa5\\x88\\xe0\\xa4\\xa6\\xe0\\xa4\\xbe \\xe0\\xa4\\xb9\\xe0\\xa5\\x81\\xe0\\xa4\\x86 \\xe0\\xa4\\xa5\\xe0\\xa4\\xbe\\xe0\\xa5\\xa4'\n",
            " b'\\xe0\\xa4\\xa4\\xe0\\xa4\\xae\\xe0\\xa5\\x8d\\xe0\\xa4\\xb9\\xe0\\xa5\\x87 \\xe0\\xa4\\x95\\xe0\\xa5\\x8d\\xe0\\xa4\\xaf\\xe0\\xa4\\xbe \\xe0\\xa4\\x95\\xe0\\xa4\\xb0\\xe0\\xa4\\xa8\\xe0\\xa4\\xbe \\xe0\\xa4\\x85\\xe0\\xa4\\x9a\\xe0\\xa5\\x8d\\xe0\\xa4\\x9b\\xe0\\xa4\\xbe \\xe0\\xa4\\xb2\\xe0\\xa4\\x97\\xe0\\xa4\\xa4\\xe0\\xa4\\xbe \\xe0\\xa4\\xb9\\xe0\\xa5\\x88?'\n",
            " b'\\xe0\\xa4\\xaa\\xe0\\xa4\\xbf\\xe0\\xa4\\xa4\\xe0\\xa4\\xbe\\xe0\\xa4\\x9c\\xe0\\xa5\\x80 \\xe0\\xa4\\xae\\xe0\\xa5\\x87\\xe0\\xa4\\xb0\\xe0\\xa5\\x87 \\xe0\\xa4\\xaa\\xe0\\xa4\\xb9\\xe0\\xa4\\xbe\\xe0\\xa4\\xa1\\xe0\\xa4\\xbc \\xe0\\xa4\\xaa\\xe0\\xa4\\xb0 \\xe0\\xa4\\x85\\xe0\\xa4\\x95\\xe0\\xa5\\x87\\xe0\\xa4\\xb2\\xe0\\xa5\\x87 \\xe0\\xa4\\x9c\\xe0\\xa4\\xbe\\xe0\\xa4\\xa8\\xe0\\xa5\\x87 \\xe0\\xa4\\xb8\\xe0\\xa5\\x87 \\xe0\\xa4\\xb0\\xe0\\xa4\\xbe\\xe0\\xa4\\x9c\\xe0\\xa4\\xbc\\xe0\\xa5\\x80 \\xe0\\xa4\\xa8\\xe0\\xa4\\xb9\\xe0\\xa5\\x80\\xe0\\xa4\\x82 \\xe0\\xa4\\xa5\\xe0\\xa5\\x87\\xe0\\xa5\\xa4'\n",
            " b'\\xe0\\xa4\\xa8\\xe0\\xa5\\x8c \\xe0\\xa4\\xac\\xe0\\xa4\\x9c \\xe0\\xa4\\x9a\\xe0\\xa5\\x81\\xe0\\xa4\\x95\\xe0\\xa5\\x87\\xe0\\xa4\\x82 \\xe0\\xa4\\xb9\\xe0\\xa5\\x88\\xe0\\xa4\\x82\\xe0\\xa5\\xa4'\n",
            " b'\\xe0\\xa4\\x86\\xe0\\xa4\\xb8\\xe0\\xa4\\xaa\\xe0\\xa4\\xbe\\xe0\\xa4\\xb8 \\xe0\\xa4\\x95\\xe0\\xa5\\x8b\\xe0\\xa4\\x88 \\xe0\\xa4\\xa8\\xe0\\xa4\\xb9\\xe0\\xa5\\x80\\xe0\\xa4\\x82 \\xe0\\xa4\\xb9\\xe0\\xa5\\x88\\xe0\\xa5\\xa4'\n",
            " b'\\xe0\\xa4\\xb9\\xe0\\xa4\\xae \\xe0\\xa4\\x96\\xe0\\xa4\\xb0\\xe0\\xa5\\x80\\xe0\\xa4\\xa6\\xe0\\xa4\\xbe\\xe0\\xa4\\xb0\\xe0\\xa5\\x80 \\xe0\\xa4\\x95\\xe0\\xa4\\xb0\\xe0\\xa4\\xa8\\xe0\\xa5\\x87 \\xe0\\xa4\\x97\\xe0\\xa4\\x8f \\xe0\\xa4\\xa5\\xe0\\xa5\\x87\\xe0\\xa5\\xa4'\n",
            " b'\\xe0\\xa4\\x89\\xe0\\xa4\\xb8\\xe0\\xa4\\x95\\xe0\\xa5\\x80 \\xe0\\xa4\\xa8\\xe0\\xa4\\x88 \\xe0\\xa4\\x95\\xe0\\xa4\\xbf\\xe0\\xa4\\xa4\\xe0\\xa4\\xbe\\xe0\\xa4\\xac \\xe0\\xa4\\x85\\xe0\\xa4\\x97\\xe0\\xa4\\xb2\\xe0\\xa5\\x87 \\xe0\\xa4\\xae\\xe0\\xa4\\xb9\\xe0\\xa5\\x80\\xe0\\xa4\\xa8\\xe0\\xa5\\x87 \\xe0\\xa4\\x9b\\xe0\\xa4\\xaa\\xe0\\xa5\\x87\\xe0\\xa4\\x97\\xe0\\xa5\\x80\\xe0\\xa5\\xa4'\n",
            " b'\\xe0\\xa4\\x89\\xe0\\xa4\\xb8\\xe0\\xa4\\xa8\\xe0\\xa5\\x87 \\xe0\\xa4\\xae\\xe0\\xa5\\x87\\xe0\\xa4\\xb0\\xe0\\xa5\\x87 \\xe0\\xa4\\x85\\xe0\\xa4\\x9c\\xe0\\xa5\\x8d\\xe0\\xa4\\x9e\\xe0\\xa4\\xbe\\xe0\\xa4\\xa8 \\xe0\\xa4\\xaa\\xe0\\xa4\\xb0 \\xe0\\xa4\\x86\\xe0\\xa4\\xb6\\xe0\\xa4\\x82\\xe0\\xa4\\x95\\xe0\\xa4\\xbe \\xe0\\xa4\\x9c\\xe0\\xa4\\xa4\\xe0\\xa4\\xbe\\xe0\\xa4\\x88\\xe0\\xa5\\xa4'\n",
            " b'\\xe0\\xa4\\xae\\xe0\\xa5\\x81\\xe0\\xa4\\x9d\\xe0\\xa5\\x87 \\xe0\\xa4\\xa8\\xe0\\xa4\\xb9\\xe0\\xa5\\x80\\xe0\\xa4\\x82 \\xe0\\xa4\\xb2\\xe0\\xa4\\x97\\xe0\\xa4\\xa4\\xe0\\xa4\\xbe \\xe0\\xa4\\x95\\xe0\\xa4\\xbf \\xe0\\xa4\\x95\\xe0\\xa4\\xbf\\xe0\\xa4\\xb8\\xe0\\xa5\\x80 \\xe0\\xa4\\xa8\\xe0\\xa5\\x87 \\xe0\\xa4\\xad\\xe0\\xa5\\x80 \\xe0\\xa4\\xa6\\xe0\\xa5\\x87\\xe0\\xa4\\x96\\xe0\\xa4\\xbe \\xe0\\xa4\\x95\\xe0\\xa4\\xbf \\xe0\\xa4\\xb9\\xe0\\xa4\\xae\\xe0\\xa4\\xa8\\xe0\\xa5\\x87 \\xe0\\xa4\\x95\\xe0\\xa5\\x8d\\xe0\\xa4\\xaf\\xe0\\xa4\\xbe \\xe0\\xa4\\x95\\xe0\\xa4\\xbf\\xe0\\xa4\\xaf\\xe0\\xa4\\xbe\\xe0\\xa5\\xa4'\n",
            " b'\\xe0\\xa4\\x89\\xe0\\xa4\\xb8\\xe0\\xa5\\x87 \\xe0\\xa4\\xb8\\xe0\\xa4\\x82\\xe0\\xa4\\xa4\\xe0\\xa5\\x8d\\xe0\\xa4\\xb0\\xe0\\xa5\\x87 \\xe0\\xa4\\x85\\xe0\\xa4\\x9a\\xe0\\xa5\\x8d\\xe0\\xa4\\x9b\\xe0\\xa5\\x87 \\xe0\\xa4\\xb2\\xe0\\xa4\\x97\\xe0\\xa4\\xa4\\xe0\\xa5\\x87 \\xe0\\xa4\\xb9\\xe0\\xa5\\x88\\xe0\\xa4\\x82\\xe0\\xa5\\xa4'\n",
            " b'\\xe0\\xa4\\x97\\xe0\\xa5\\x8d\\xe0\\xa4\\xaf\\xe0\\xa4\\xbe\\xe0\\xa4\\xb0\\xe0\\xa4\\xb9 \\xe0\\xa4\\xac\\xe0\\xa4\\x9c \\xe0\\xa4\\x9a\\xe0\\xa5\\x81\\xe0\\xa4\\x95\\xe0\\xa5\\x87 \\xe0\\xa4\\xb9\\xe0\\xa5\\x88\\xe0\\xa4\\x82\\xe0\\xa5\\xa4'\n",
            " b'\\xe0\\xa4\\x95\\xe0\\xa5\\x8d\\xe0\\xa4\\xaf\\xe0\\xa4\\xbe \\xe0\\xa4\\xa4\\xe0\\xa5\\x81\\xe0\\xa4\\xae\\xe0\\xa5\\x8d\\xe0\\xa4\\xb9\\xe0\\xa4\\xbe\\xe0\\xa4\\xb0\\xe0\\xa5\\x87 \\xe0\\xa4\\xaa\\xe0\\xa4\\xbf\\xe0\\xa4\\xa4\\xe0\\xa4\\xbe\\xe0\\xa4\\x9c\\xe0\\xa5\\x80 \\xe0\\xa4\\x85\\xe0\\xa4\\xa7\\xe0\\xa5\\x8d\\xe0\\xa4\\xaf\\xe0\\xa4\\xbe\\xe0\\xa4\\xaa\\xe0\\xa4\\x95 \\xe0\\xa4\\xb9\\xe0\\xa5\\x88\\xe0\\xa4\\x82?'\n",
            " b'\\xe0\\xa4\\x89\\xe0\\xa4\\xb8\\xe0\\xa4\\xa8\\xe0\\xa5\\x87 \\xe0\\xa4\\x95\\xe0\\xa5\\x87\\xe0\\xa4\\x95 \\xe0\\xa4\\x95\\xe0\\xa5\\x8b \\xe0\\xa4\\x9b\\xe0\\xa4\\x83 \\xe0\\xa4\\x9f\\xe0\\xa5\\x81\\xe0\\xa4\\x95\\xe0\\xa4\\xa1\\xe0\\xa4\\xbc\\xe0\\xa5\\x8b \\xe0\\xa4\\xae\\xe0\\xa5\\x87\\xe0\\xa4\\x82 \\xe0\\xa4\\x95\\xe0\\xa4\\xbe\\xe0\\xa4\\x9f \\xe0\\xa4\\x95\\xe0\\xa4\\xb0, \\xe0\\xa4\\xb9\\xe0\\xa4\\xb0 \\xe0\\xa4\\xac\\xe0\\xa4\\x9a\\xe0\\xa5\\x8d\\xe0\\xa4\\x9a\\xe0\\xa5\\x87 \\xe0\\xa4\\xb9\\xe0\\xa5\\x8b \\xe0\\xa4\\x8f\\xe0\\xa4\\x95 \\xe0\\xa4\\x9f\\xe0\\xa5\\x81\\xe0\\xa4\\x95\\xe0\\xa4\\xa1\\xe0\\xa4\\xbc\\xe0\\xa4\\xbe \\xe0\\xa4\\xa6\\xe0\\xa4\\xbf\\xe0\\xa4\\xaf\\xe0\\xa4\\xbe\\xe0\\xa5\\xa4'\n",
            " b'\\xe0\\xa4\\x95\\xe0\\xa5\\x8d\\xe0\\xa4\\xaf\\xe0\\xa4\\xbe \\xe0\\xa4\\xa4\\xe0\\xa5\\x81\\xe0\\xa4\\xae \\xe0\\xa4\\x95\\xe0\\xa4\\xad\\xe0\\xa5\\x80 \\xe0\\xa4\\x95\\xe0\\xa4\\xbf\\xe0\\xa4\\xb8\\xe0\\xa5\\x80 \\xe0\\xa4\\xaa\\xe0\\xa4\\xb0\\xe0\\xa5\\x80\\xe0\\xa4\\x95\\xe0\\xa5\\x8d\\xe0\\xa4\\xb7\\xe0\\xa4\\xbe \\xe0\\xa4\\xae\\xe0\\xa5\\x87\\xe0\\xa4\\x82 \\xe0\\xa4\\x85\\xe0\\xa4\\xb8\\xe0\\xa4\\xab\\xe0\\xa4\\xb2 \\xe0\\xa4\\xb9\\xe0\\xa5\\x81\\xe0\\xa4\\x8f \\xe0\\xa4\\xb9\\xe0\\xa5\\x8b?'\n",
            " b'\\xe0\\xa4\\xb5\\xe0\\xa4\\xb9 \\xe0\\xa4\\x86\\xe0\\xa4\\xa0 \\xe0\\xa4\\xb8\\xe0\\xa4\\xbe\\xe0\\xa4\\xb2 \\xe0\\xa4\\x95\\xe0\\xa4\\xbe \\xe0\\xa4\\xa5\\xe0\\xa4\\xbe \\xe0\\xa4\\x9c\\xe0\\xa4\\xac \\xe0\\xa4\\x89\\xe0\\xa4\\xb8\\xe0\\xa4\\xa8\\xe0\\xa5\\x87 \\xe0\\xa4\\x85\\xe0\\xa4\\xaa\\xe0\\xa4\\xa8\\xe0\\xa5\\x87 \\xe0\\xa4\\xae\\xe0\\xa4\\xbe\\xe0\\xa4\\xa4\\xe0\\xa4\\xbe-\\xe0\\xa4\\xaa\\xe0\\xa4\\xbf\\xe0\\xa4\\xa4\\xe0\\xa4\\xbe \\xe0\\xa4\\x95\\xe0\\xa5\\x8b \\xe0\\xa4\\x9b\\xe0\\xa5\\x8b\\xe0\\xa4\\xa1\\xe0\\xa4\\xbc \\xe0\\xa4\\xa6\\xe0\\xa4\\xbf\\xe0\\xa4\\xaf\\xe0\\xa4\\xbe\\xe0\\xa5\\xa4'\n",
            " b'\\xe0\\xa4\\xb5\\xe0\\xa4\\xb9 \\xe0\\xa4\\x9f\\xe0\\xa5\\x87\\xe0\\xa4\\xa8\\xe0\\xa4\\xbf\\xe0\\xa4\\xb8 \\xe0\\xa4\\xac\\xe0\\xa4\\xb9\\xe0\\xa5\\x81\\xe0\\xa4\\xa4 \\xe0\\xa4\\x85\\xe0\\xa4\\x9a\\xe0\\xa5\\x8d\\xe0\\xa4\\x9b\\xe0\\xa4\\xbe \\xe0\\xa4\\x96\\xe0\\xa5\\x87\\xe0\\xa4\\xb2\\xe0\\xa4\\xa4\\xe0\\xa5\\x80 \\xe0\\xa4\\xb9\\xe0\\xa5\\x88\\xe0\\xa5\\xa4'\n",
            " b'\\xe0\\xa4\\xae\\xe0\\xa5\\x88\\xe0\\xa4\\x82 \\xe0\\xa4\\x95\\xe0\\xa4\\xbf\\xe0\\xa4\\xa4\\xe0\\xa4\\xbe\\xe0\\xa4\\xac \\xe0\\xa4\\xaa\\xe0\\xa4\\xa2\\xe0\\xa4\\xbc \\xe0\\xa4\\xb0\\xe0\\xa4\\xb9\\xe0\\xa5\\x80 \\xe0\\xa4\\xb9\\xe0\\xa5\\x82\\xe0\\xa4\\x81\\xe0\\xa5\\xa4'\n",
            " b'\\xe0\\xa4\\xae\\xe0\\xa5\\x88\\xe0\\xa4\\x82 \\xe0\\xa4\\xac\\xe0\\xa4\\xbe\\xe0\\xa4\\xb0\\xe0\\xa4\\xbf\\xe0\\xa4\\xb6 \\xe0\\xa4\\xae\\xe0\\xa5\\x87\\xe0\\xa4\\x82 \\xe0\\xa4\\xab\\xe0\\xa4\\x82\\xe0\\xa4\\xb8 \\xe0\\xa4\\x97\\xe0\\xa4\\xaf\\xe0\\xa4\\xbe \\xe0\\xa4\\xa5\\xe0\\xa4\\xbe \\xe0\\xa4\\x94\\xe0\\xa4\\xb0 \\xe0\\xa4\\xa4\\xe0\\xa4\\xb0-\\xe0\\xa4\\xa4\\xe0\\xa4\\xb0 \\xe0\\xa4\\xad\\xe0\\xa5\\x80\\xe0\\xa4\\x97 \\xe0\\xa4\\x97\\xe0\\xa4\\xaf\\xe0\\xa4\\xbe\\xe0\\xa5\\xa4'\n",
            " b'\\xe0\\xa4\\xaf\\xe0\\xa4\\xb9 \\xe0\\xa4\\xae\\xe0\\xa4\\xb6\\xe0\\xa5\\x80\\xe0\\xa4\\xa8 \\xe0\\xa4\\x89\\xe0\\xa4\\xb8 \\xe0\\xa4\\xae\\xe0\\xa4\\xb6\\xe0\\xa5\\x80\\xe0\\xa4\\xa8 \\xe0\\xa4\\xb8\\xe0\\xa5\\x87 \\xe0\\xa4\\xac\\xe0\\xa5\\x87\\xe0\\xa4\\xb9\\xe0\\xa4\\xa4\\xe0\\xa4\\xb0 \\xe0\\xa4\\xb9\\xe0\\xa5\\x88\\xe0\\xa5\\xa4'\n",
            " b'\\xe0\\xa4\\x86\\xe0\\xa4\\xa7\\xe0\\xa5\\x87 \\xe0\\xa4\\xb8\\xe0\\xa5\\x87\\xe0\\xa4\\xb5 \\xe0\\xa4\\xb8\\xe0\\xa4\\xa1\\xe0\\xa4\\xbc \\xe0\\xa4\\x9a\\xe0\\xa5\\x81\\xe0\\xa4\\x95\\xe0\\xa5\\x87 \\xe0\\xa4\\xb9\\xe0\\xa5\\x88\\xe0\\xa4\\x82\\xe0\\xa5\\xa4'\n",
            " b'\\xe0\\xa4\\xae\\xe0\\xa5\\x88\\xe0\\xa4\\x82 \\xe0\\xa4\\x86\\xe0\\xa4\\x9c \\xe0\\xa4\\x95\\xe0\\xa5\\x81\\xe0\\xa4\\x9b \\xe0\\xa4\\xb8\\xe0\\xa4\\xbe\\xe0\\xa4\\xae\\xe0\\xa4\\xbe\\xe0\\xa4\\xa8 \\xe0\\xa4\\x96\\xe0\\xa4\\xbc\\xe0\\xa4\\xb0\\xe0\\xa5\\x80\\xe0\\xa4\\xa6\\xe0\\xa4\\xa8\\xe0\\xa5\\x87 \\xe0\\xa4\\x9c\\xe0\\xa4\\xbe\\xe0\\xa4\\x8a\\xe0\\xa4\\x81\\xe0\\xa4\\x97\\xe0\\xa5\\x80\\xe0\\xa5\\xa4'\n",
            " b'\\xe0\\xa4\\x98\\xe0\\xa4\\xb0 \\xe0\\xa4\\x86\\xe0\\xa4\\x97 \\xe0\\xa4\\xae\\xe0\\xa5\\x87\\xe0\\xa4\\x82 \\xe0\\xa4\\xb2\\xe0\\xa4\\xbf\\xe0\\xa4\\xaa\\xe0\\xa4\\x9f\\xe0\\xa4\\xbe \\xe0\\xa4\\xb9\\xe0\\xa5\\x81\\xe0\\xa4\\x86 \\xe0\\xa4\\xa5\\xe0\\xa4\\xbe\\xe0\\xa5\\xa4'\n",
            " b'\\xe0\\xa4\\xb5\\xe0\\xa4\\xb9 \\xe0\\xa4\\x95\\xe0\\xa4\\xbf\\xe0\\xa4\\xa4\\xe0\\xa4\\xbe\\xe0\\xa4\\xac \\xe0\\xa4\\x95\\xe0\\xa5\\x8b \\xe0\\xa4\\x96\\xe0\\xa4\\xb0\\xe0\\xa5\\x80\\xe0\\xa4\\xa6\\xe0\\xa4\\xa8\\xe0\\xa4\\xbe \\xe0\\xa4\\x9a\\xe0\\xa4\\xbe\\xe0\\xa4\\xb9\\xe0\\xa4\\xa4\\xe0\\xa4\\xbe \\xe0\\xa4\\xa5\\xe0\\xa4\\xbe\\xe0\\xa5\\xa4'\n",
            " b'\\xe0\\xa4\\xae\\xe0\\xa5\\x81\\xe0\\xa4\\x9d\\xe0\\xa5\\x87 \\xe0\\xa4\\x8f\\xe0\\xa4\\x95 \\xe0\\xa4\\xac\\xe0\\xa5\\x8d\\xe0\\xa4\\xb2\\xe0\\xa4\\xa1\\xe0\\xa5\\x80 \\xe0\\xa4\\xae\\xe0\\xa5\\x87\\xe0\\xa4\\xb0\\xe0\\xa5\\x80 \\xe0\\xa4\\x9a\\xe0\\xa4\\xbe\\xe0\\xa4\\xb9\\xe0\\xa4\\xbf\\xe0\\xa4\\x8f\\xe0\\xa5\\xa4'\n",
            " b'\\xe0\\xa4\\x95\\xe0\\xa4\\xbe\\xe0\\xa4\\xb6 \\xe0\\xa4\\xae\\xe0\\xa5\\x87\\xe0\\xa4\\xb0\\xe0\\xa5\\x87 \\xe0\\xa4\\xaa\\xe0\\xa4\\xbe\\xe0\\xa4\\xb8 \\xe0\\xa4\\x94\\xe0\\xa4\\xb0 \\xe0\\xa4\\xb8\\xe0\\xa4\\xae\\xe0\\xa4\\xaf \\xe0\\xa4\\xb9\\xe0\\xa5\\x8b\\xe0\\xa4\\xa4\\xe0\\xa4\\xbe \\xe0\\xa4\\xa4\\xe0\\xa5\\x81\\xe0\\xa4\\xae\\xe0\\xa5\\x8d\\xe0\\xa4\\xb9\\xe0\\xa4\\xbe\\xe0\\xa4\\xb0\\xe0\\xa5\\x87 \\xe0\\xa4\\xb8\\xe0\\xa4\\xbe\\xe0\\xa4\\xa5 \\xe0\\xa4\\xac\\xe0\\xa4\\xbe\\xe0\\xa4\\xa4 \\xe0\\xa4\\x95\\xe0\\xa4\\xb0\\xe0\\xa4\\xa8\\xe0\\xa5\\x87 \\xe0\\xa4\\x95\\xe0\\xa5\\x87 \\xe0\\xa4\\xb2\\xe0\\xa4\\xbf\\xe0\\xa4\\x8f\\xe0\\xa5\\xa4'\n",
            " b'\\xe0\\xa4\\xae\\xe0\\xa5\\x87\\xe0\\xa4\\xb0\\xe0\\xa5\\x87 \\xe0\\xa4\\xaa\\xe0\\xa4\\xbe\\xe0\\xa4\\xaa\\xe0\\xa4\\xbe \\xe0\\xa4\\xac\\xe0\\xa4\\xb9\\xe0\\xa5\\x81\\xe0\\xa4\\xa4 \\xe0\\xa4\\x85\\xe0\\xa4\\x9a\\xe0\\xa5\\x8d\\xe0\\xa4\\x9b\\xe0\\xa5\\x87 \\xe0\\xa4\\xb9\\xe0\\xa5\\x88\\xe0\\xa4\\x82\\xe0\\xa5\\xa4'\n",
            " b'\\xe0\\xa4\\x9a\\xe0\\xa5\\x8b\\xe0\\xa4\\xb0\\xe0\\xa5\\x8b\\xe0\\xa4\\x82 \\xe0\\xa4\\xa8\\xe0\\xa5\\x87 \\xe0\\xa4\\xaa\\xe0\\xa5\\x88\\xe0\\xa4\\xb8\\xe0\\xa5\\x87 \\xe0\\xa4\\xa2\\xe0\\xa5\\x82\\xe0\\xa4\\x81\\xe0\\xa4\\xa2\\xe0\\xa4\\xa8\\xe0\\xa5\\x87 \\xe0\\xa4\\x95\\xe0\\xa5\\x87 \\xe0\\xa4\\xb2\\xe0\\xa4\\xbf\\xe0\\xa4\\x8f \\xe0\\xa4\\xae\\xe0\\xa5\\x87\\xe0\\xa4\\x9c\\xe0\\xa4\\xbc \\xe0\\xa4\\x95\\xe0\\xa5\\x80 \\xe0\\xa4\\xb8\\xe0\\xa4\\xbe\\xe0\\xa4\\xb0\\xe0\\xa5\\x80 \\xe0\\xa4\\xa6\\xe0\\xa4\\xb0\\xe0\\xa4\\xbe\\xe0\\xa4\\x9c\\xe0\\xa4\\xbc\\xe0\\xa5\\x87\\xe0\\xa4\\x82 \\xe0\\xa4\\x96\\xe0\\xa5\\x8b\\xe0\\xa4\\xb2 \\xe0\\xa4\\xa1\\xe0\\xa4\\xbe\\xe0\\xa4\\xb2\\xe0\\xa5\\x80\\xe0\\xa4\\x82\\xe0\\xa5\\xa4'\n",
            " b'\\xe0\\xa4\\x85\\xe0\\xa4\\xaa\\xe0\\xa4\\xa8\\xe0\\xa5\\x80 \\xe0\\xa4\\x95\\xe0\\xa4\\xae\\xe0\\xa5\\x80\\xe0\\xa4\\x9c\\xe0\\xa4\\xbc \\xe0\\xa4\\x89\\xe0\\xa4\\xa4\\xe0\\xa4\\xbe\\xe0\\xa4\\xb0 \\xe0\\xa4\\x95\\xe0\\xa4\\xb0 \\xe0\\xa4\\xb2\\xe0\\xa5\\x87\\xe0\\xa4\\x9f \\xe0\\xa4\\x9c\\xe0\\xa4\\xbe\\xe0\\xa4\\x93\\xe0\\xa5\\xa4'], shape=(32,), dtype=string)\n"
          ]
        }
      ],
      "source": [
        "for i, j in train_ds.take(1):\n",
        "    print('i: ',i)\n",
        "    print('j: ', j)\n",
        "    # print('j decoded: ',j.numpy().decode())"
      ]
    },
    {
      "cell_type": "markdown",
      "metadata": {
        "id": "N3DdjsaS4aqs"
      },
      "source": [
        "# Text Vectorization\n"
      ]
    },
    {
      "cell_type": "code",
      "execution_count": 18,
      "metadata": {
        "id": "ZoplDkntjFxL"
      },
      "outputs": [],
      "source": [
        "output_sequence_length = 200"
      ]
    },
    {
      "cell_type": "code",
      "execution_count": 19,
      "metadata": {
        "id": "yZj0w70q0tne"
      },
      "outputs": [],
      "source": [
        "eng_vectorizer = tf.keras.layers.TextVectorization(standardize = tf_lower_and_split_punct_en, output_sequence_length= output_sequence_length)\n",
        "hin_vectorizer = tf.keras.layers.TextVectorization(standardize = tf_lower_and_split_punct_hi, output_sequence_length= output_sequence_length+1 )"
      ]
    },
    {
      "cell_type": "code",
      "execution_count": 20,
      "metadata": {
        "id": "lj-Y5ei_0tmG",
        "colab": {
          "base_uri": "https://localhost:8080/"
        },
        "outputId": "75873f83-c8fb-431d-fa99-2ec75e116b60"
      },
      "outputs": [
        {
          "output_type": "stream",
          "name": "stderr",
          "text": [
            "WARNING:tensorflow:From /usr/local/lib/python3.8/dist-packages/tensorflow/python/autograph/pyct/static_analysis/liveness.py:83: Analyzer.lamba_check (from tensorflow.python.autograph.pyct.static_analysis.liveness) is deprecated and will be removed after 2023-09-23.\n",
            "Instructions for updating:\n",
            "Lambda fuctions will be no more assumed to be used in the statement where they are used, or at least in the same block. https://github.com/tensorflow/tensorflow/issues/56089\n"
          ]
        }
      ],
      "source": [
        "# Adapting to textvectorizer\n",
        "eng_vectorizer.adapt(train_ds.map(lambda x, y: x))\n",
        "hin_vectorizer.adapt(train_ds.map(lambda x, y: y))"
      ]
    },
    {
      "cell_type": "code",
      "execution_count": 21,
      "metadata": {
        "colab": {
          "base_uri": "https://localhost:8080/"
        },
        "id": "msq7v_jN0tkT",
        "outputId": "7c1550f1-0d65-4428-a258-9a281ce5659d"
      },
      "outputs": [
        {
          "output_type": "stream",
          "name": "stdout",
          "text": [
            "Maxtokens:\n",
            "English :  2359\n",
            "Hindi:  3016\n"
          ]
        }
      ],
      "source": [
        "max_token_english = len(eng_vectorizer.get_vocabulary())\n",
        "max_token_hindi = len(hin_vectorizer.get_vocabulary())\n",
        "\n",
        "print('Maxtokens:')\n",
        "print( 'English : ', max_token_english)\n",
        "print('Hindi: ', max_token_hindi)"
      ]
    },
    {
      "cell_type": "code",
      "execution_count": 22,
      "metadata": {
        "colab": {
          "base_uri": "https://localhost:8080/"
        },
        "id": "rBovvXnn0tjF",
        "outputId": "70baa11e-cd42-4b7c-da52-e33515044c78"
      },
      "outputs": [
        {
          "output_type": "stream",
          "name": "stdout",
          "text": [
            "Text:  उन्होंने मेरी का| मज़ाक उड़ाया\n",
            "\n",
            "Encoded text: ,\n"
          ]
        },
        {
          "output_type": "execute_result",
          "data": {
            "text/plain": [
              "<tf.Tensor: shape=(201,), dtype=int64, numpy=\n",
              "array([   2,  173,   40,   20, 1446,  369,    1,    3,    0,    0,    0,\n",
              "          0,    0,    0,    0,    0,    0,    0,    0,    0,    0,    0,\n",
              "          0,    0,    0,    0,    0,    0,    0,    0,    0,    0,    0,\n",
              "          0,    0,    0,    0,    0,    0,    0,    0,    0,    0,    0,\n",
              "          0,    0,    0,    0,    0,    0,    0,    0,    0,    0,    0,\n",
              "          0,    0,    0,    0,    0,    0,    0,    0,    0,    0,    0,\n",
              "          0,    0,    0,    0,    0,    0,    0,    0,    0,    0,    0,\n",
              "          0,    0,    0,    0,    0,    0,    0,    0,    0,    0,    0,\n",
              "          0,    0,    0,    0,    0,    0,    0,    0,    0,    0,    0,\n",
              "          0,    0,    0,    0,    0,    0,    0,    0,    0,    0,    0,\n",
              "          0,    0,    0,    0,    0,    0,    0,    0,    0,    0,    0,\n",
              "          0,    0,    0,    0,    0,    0,    0,    0,    0,    0,    0,\n",
              "          0,    0,    0,    0,    0,    0,    0,    0,    0,    0,    0,\n",
              "          0,    0,    0,    0,    0,    0,    0,    0,    0,    0,    0,\n",
              "          0,    0,    0,    0,    0,    0,    0,    0,    0,    0,    0,\n",
              "          0,    0,    0,    0,    0,    0,    0,    0,    0,    0,    0,\n",
              "          0,    0,    0,    0,    0,    0,    0,    0,    0,    0,    0,\n",
              "          0,    0,    0,    0,    0,    0,    0,    0,    0,    0,    0,\n",
              "          0,    0,    0])>"
            ]
          },
          "metadata": {},
          "execution_count": 22
        }
      ],
      "source": [
        "print('Text: ',some_hindi_text)\n",
        "print('\\nEncoded text: ,')\n",
        "hin_vectorizer(some_hindi_text)"
      ]
    },
    {
      "cell_type": "markdown",
      "metadata": {
        "id": "FM2zCVr60tgA"
      },
      "source": [
        "## Mapping Vectorizer to dataset"
      ]
    },
    {
      "cell_type": "code",
      "execution_count": 23,
      "metadata": {
        "id": "fTsnsCVwjFxP"
      },
      "outputs": [],
      "source": [
        "BATCH_SIZE = 32"
      ]
    },
    {
      "cell_type": "code",
      "execution_count": 24,
      "metadata": {
        "id": "5UvErrnz0teP"
      },
      "outputs": [],
      "source": [
        "def make_vec(x, y ):\n",
        "    x, y = eng_vectorizer(x), hin_vectorizer(y)\n",
        "\n",
        "    y_in = y[:,:-1]\n",
        "    y_out = y[:,1:]\n",
        "    return (x,y_in), y_out"
      ]
    },
    {
      "cell_type": "code",
      "execution_count": 25,
      "metadata": {
        "id": "2TtoPhnZ0tc7"
      },
      "outputs": [],
      "source": [
        "train_ds = train_ds.map(make_vec) #.batch(BATCH_SIZE).prefetch(tf.data.AUTOTUNE)\n",
        "val_ds = val_ds.map(make_vec) # .batch(BATCH_SIZE).prefetch(tf.data.AUTOTUNE)"
      ]
    },
    {
      "cell_type": "code",
      "execution_count": 25,
      "metadata": {
        "id": "6qd2-dCQjFxR"
      },
      "outputs": [],
      "source": []
    },
    {
      "cell_type": "code",
      "execution_count": 26,
      "metadata": {
        "id": "6BTOBm3i0tbL",
        "colab": {
          "base_uri": "https://localhost:8080/"
        },
        "outputId": "75f6542a-f959-4e83-d1b3-11b8af9ab362"
      },
      "outputs": [
        {
          "output_type": "stream",
          "name": "stdout",
          "text": [
            "tf.Tensor(\n",
            "[[  2  39 332 ...   0   0   0]\n",
            " [  2   8 183 ...   0   0   0]\n",
            " [  2  11   8 ...   0   0   0]\n",
            " ...\n",
            " [  2  26 827 ...   0   0   0]\n",
            " [  2   9   1 ...   0   0   0]\n",
            " [  2   8 360 ...   0   0   0]], shape=(32, 200), dtype=int64)\n",
            "\n",
            "tf.Tensor(\n",
            "[[ 39 332  15 ...   0   0   0]\n",
            " [  8 183 141 ...   0   0   0]\n",
            " [ 11   8 168 ...   0   0   0]\n",
            " ...\n",
            " [ 26 827  20 ...   0   0   0]\n",
            " [  9   1  90 ...   0   0   0]\n",
            " [  8 360 949 ...   0   0   0]], shape=(32, 200), dtype=int64)\n"
          ]
        }
      ],
      "source": [
        "for i,j in val_ds.take(1):\n",
        "    print(i[1])\n",
        "    print()\n",
        "    print(j)\n",
        "    break"
      ]
    },
    {
      "cell_type": "markdown",
      "metadata": {
        "id": "JkUCiddP0tRf"
      },
      "source": [
        "# Model"
      ]
    },
    {
      "cell_type": "markdown",
      "metadata": {
        "id": "dYUlG5J1jFxT"
      },
      "source": [
        "## Encoder"
      ]
    },
    {
      "cell_type": "code",
      "execution_count": 27,
      "metadata": {
        "id": "Tt4J-fOx0tP5",
        "tags": []
      },
      "outputs": [],
      "source": [
        "class Encoder(tf.keras.layers.Layer):\n",
        "    def __init__(self, text_processor, units, embedding_dims = 32):\n",
        "        super(Encoder, self).__init__()\n",
        "        self.text_processor = text_processor\n",
        "        self.vocab_size = text_processor.vocabulary_size()\n",
        "        self.units = units\n",
        "        # self.return_state = return_state\n",
        "        # The embedding layer converts tokens to vectors\n",
        "        self.embedding = tf.keras.layers.Embedding(self.vocab_size, units, mask_zero=True)\n",
        "\n",
        "        # The RNN layer processes those vectors sequentially.\n",
        "        self.rnn = tf.keras.layers.Bidirectional(\n",
        "            merge_mode='sum',\n",
        "            layer=tf.keras.layers.LSTM(units, \n",
        "                                       return_sequences = True, \n",
        "                                       return_state = True,\n",
        "                                       recurrent_initializer='glorot_uniform'))\n",
        "\n",
        "    def call(self, x):\n",
        "\n",
        "        # 2. The embedding layer looks up the embedding vector for each token.\n",
        "        x = self.embedding(x)\n",
        "\n",
        "        # 3. The GRU processes the sequence of embeddings.\n",
        "        *x, state_h, state_c = self.rnn(x)\n",
        "        tf.print('after encoder return sequence true: ',len(x) )\n",
        "        state = [state_h, state_c]\n",
        "    \n",
        "        return x, state\n",
        "\n",
        "    def convert_input(self, texts):\n",
        "        texts = tf.convert_to_tensor(texts)\n",
        "        if len(texts.shape) == 0:\n",
        "            texts = tf.convert_to_tensor(texts)[tf.newaxis]\n",
        "        context = self.text_processor(texts)\n",
        "        context = self(context)\n",
        "        return context"
      ]
    },
    {
      "cell_type": "markdown",
      "metadata": {
        "id": "f_LCPt7qjFxU"
      },
      "source": [
        "## Attention"
      ]
    },
    {
      "cell_type": "code",
      "execution_count": 28,
      "metadata": {
        "id": "BsaIPmwK0tOQ"
      },
      "outputs": [],
      "source": [
        "class CrossAttention(tf.keras.layers.Layer):\n",
        "    def __init__(self, units, **kwargs):\n",
        "        super().__init__()\n",
        "        self.mha = tf.keras.layers.MultiHeadAttention(key_dim=units, num_heads=1, **kwargs)\n",
        "        self.layernorm = tf.keras.layers.LayerNormalization()\n",
        "        self.add = tf.keras.layers.Add()\n",
        "\n",
        "    def call(self, x, context):\n",
        "\n",
        "        attn_output, attn_scores = self.mha(\n",
        "            query=x,\n",
        "            value=context,\n",
        "            return_attention_scores=True)\n",
        "\n",
        "        # Cache the attention scores for plotting later.\n",
        "        attn_scores = tf.reduce_mean(attn_scores, axis=1)\n",
        "        self.last_attention_weights = attn_scores\n",
        "\n",
        "        x = self.add([x, attn_output])\n",
        "        x = self.layernorm(x)\n",
        "\n",
        "        return x"
      ]
    },
    {
      "cell_type": "markdown",
      "metadata": {
        "id": "0PM0TckqjFxV"
      },
      "source": [
        "## Decoder"
      ]
    },
    {
      "cell_type": "code",
      "execution_count": 29,
      "metadata": {
        "id": "9mOtgmJw0tMk"
      },
      "outputs": [],
      "source": [
        "class Decoder(tf.keras.layers.Layer):\n",
        "    @classmethod\n",
        "    def add_method(cls, fun):\n",
        "        setattr(cls, fun.__name__, fun)\n",
        "        return fun\n",
        "\n",
        "    def __init__(self, text_processor, units, embedding_dims = 32):\n",
        "        super(Decoder, self).__init__()\n",
        "        self.text_processor = text_processor\n",
        "        self.vocab_size = text_processor.vocabulary_size()\n",
        "        self.word_to_id = tf.keras.layers.StringLookup(vocabulary=text_processor.get_vocabulary(), mask_token='', oov_token='[UNK]')\n",
        "        self.id_to_word = tf.keras.layers.StringLookup(vocabulary=text_processor.get_vocabulary(), mask_token='', oov_token='[UNK]', invert=True)\n",
        "        self.start_token = self.word_to_id('[START]')\n",
        "        self.end_token = self.word_to_id('[END]')\n",
        "\n",
        "        self.units = units\n",
        "\n",
        "\n",
        "        # 1. The embedding layer converts token IDs to vectors\n",
        "        self.embedding = tf.keras.layers.Embedding(self.vocab_size, units, mask_zero=True)\n",
        "\n",
        "        # 2. The RNN keeps track of what's been generated so far.\n",
        "        self.rnn = tf.keras.layers.LSTM(units,\n",
        "                                       return_sequences=True,\n",
        "                                       return_state=True,\n",
        "                                       recurrent_initializer='glorot_uniform')\n",
        "\n",
        "        # 3. The RNN output will be the query for the attention layer.\n",
        "        self.attention = CrossAttention(units)\n",
        "\n",
        "        # 4. This fully connected layer produces the logits for each\n",
        "        # output token.\n",
        "        self.output_layer = tf.keras.layers.Dense(self.vocab_size)"
      ]
    },
    {
      "cell_type": "markdown",
      "metadata": {
        "id": "x7Rix8TVjFxX"
      },
      "source": [
        "### Decoder call"
      ]
    },
    {
      "cell_type": "code",
      "execution_count": 30,
      "metadata": {
        "id": "7vLwbSZi0tK3"
      },
      "outputs": [],
      "source": [
        "@Decoder.add_method\n",
        "def call(self,\n",
        "         context, x,\n",
        "         state=None,\n",
        "         return_state=False):  \n",
        "\n",
        "    # 1. Lookup the embeddings\n",
        "    x = self.embedding(x)\n",
        "\n",
        "    # 2. Process the target sequence.\n",
        "    x = self.rnn(x, initial_state=state)\n",
        "    tf.print('decoder output: ', len(x))\n",
        "    # 3. Use the RNN output as the query for the attention over the context.\n",
        "    x = self.attention(x, context)\n",
        "    self.last_attention_weights = self.attention.last_attention_weights\n",
        "\n",
        "\n",
        "    # Step 4. Generate logit predictions for the next token.\n",
        "    logits = self.output_layer(x)\n",
        "\n",
        "    if return_state:\n",
        "        return logits, state\n",
        "    else:\n",
        "        return logits"
      ]
    },
    {
      "cell_type": "code",
      "execution_count": 31,
      "metadata": {
        "id": "6rWI_DmA0tJB"
      },
      "outputs": [],
      "source": [
        "@Decoder.add_method\n",
        "def get_initial_state(self, context):\n",
        "    batch_size = tf.shape(context)[0]\n",
        "    start_tokens = tf.fill([batch_size, 1], self.start_token)\n",
        "    done = tf.zeros([batch_size, 1], dtype=tf.bool)\n",
        "    embedded = self.embedding(start_tokens)\n",
        "    return start_tokens, done, self.rnn.get_initial_state(embedded)[0]"
      ]
    },
    {
      "cell_type": "code",
      "execution_count": 32,
      "metadata": {
        "id": "CmQFKqTV0tHT"
      },
      "outputs": [],
      "source": [
        "@Decoder.add_method\n",
        "def tokens_to_text(self, tokens):\n",
        "    words = self.id_to_word(tokens)\n",
        "    result = tf.strings.reduce_join(words, axis=-1, separator=' ')\n",
        "    result = tf.strings.regex_replace(result, '^ *\\[START\\] *', '')\n",
        "    result = tf.strings.regex_replace(result, ' *\\[END\\] *$', '')\n",
        "    return result"
      ]
    },
    {
      "cell_type": "code",
      "execution_count": 33,
      "metadata": {
        "id": "VtcX4VA00tFx"
      },
      "outputs": [],
      "source": [
        "@Decoder.add_method\n",
        "def get_next_token(self, context, next_token, done, state, temperature = 0.0):\n",
        "    logits, state = self(context, next_token, state = state, return_state=True) \n",
        "\n",
        "    if temperature == 0.0:\n",
        "        next_token = tf.argmax(logits, axis=-1)\n",
        "    else:\n",
        "        logits = logits[:, -1, :]/temperature\n",
        "        next_token = tf.random.categorical(logits, num_samples=1)\n",
        "\n",
        "    # If a sequence produces an `end_token`, set it `done`\n",
        "    done = done | (next_token == self.end_token)\n",
        "    # Once a sequence is done it only produces 0-padding.\n",
        "    next_token = tf.where(done, tf.constant(0, dtype=tf.int64), next_token)\n",
        "\n",
        "    return next_token, done, state"
      ]
    },
    {
      "cell_type": "code",
      "execution_count": 34,
      "metadata": {
        "id": "QbTvfGlI0tCK",
        "jupyter": {
          "source_hidden": true
        },
        "tags": []
      },
      "outputs": [],
      "source": [
        "# class Translator(tf.keras.Model):\n",
        "#     @classmethod\n",
        "#     def add_method(cls, fun):\n",
        "#         setattr(cls, fun.__name__, fun)\n",
        "#         return fun\n",
        "\n",
        "#     def __init__(self, units, context_text_processor, target_text_processor):\n",
        "#         super().__init__()\n",
        "#         # Build the encoder and decoder\n",
        "#         encoder = Encoder(context_text_processor, units)\n",
        "#         decoder = Decoder(target_text_processor, units)\n",
        "\n",
        "#         self.encoder = encoder\n",
        "#         self.decoder = decoder\n",
        "        \n",
        "\n",
        "#     def call(self, inputs):\n",
        "#         context, x = inputs\n",
        "#         tf.print('Before encoder-decoder')\n",
        "#         # tf.print('inputs : ',inputs.shape)\n",
        "#         tf.print('context: ',context.shape)\n",
        "#         tf.print('x      : ',x.shape)\n",
        "#         context = self.encoder(context)\n",
        "#         tf.print()\n",
        "#         logits = self.decoder(context, x)\n",
        "#         tf.print('--'*20)\n",
        "#         tf.print('After encoder-decoder')\n",
        "#         tf.print('context: ',context.shape)\n",
        "#         tf.print('logits : ',logits.shape)\n",
        "#     #TODO(b/250038731): remove this\n",
        "#         try:\n",
        "#           # Delete the keras mask, so keras doesn't scale the loss+accuracy. \n",
        "#             del logits._keras_mask\n",
        "#         except AttributeError:\n",
        "#             pass\n",
        "\n",
        "#         return logits"
      ]
    },
    {
      "cell_type": "code",
      "execution_count": 35,
      "metadata": {
        "id": "w0JH_eH3jFxc"
      },
      "outputs": [],
      "source": [
        "class Translator2(tf.keras.Model):\n",
        "    @classmethod\n",
        "    def add_method(cls, fun):\n",
        "        setattr(cls, fun.__name__, fun)\n",
        "        return fun\n",
        "\n",
        "    def __init__(self, units, context_text_processor, target_text_processor):\n",
        "        super().__init__()\n",
        "        \n",
        "        self.context_text_processor = context_text_processor\n",
        "        self.target_text_processor = target_text_processor\n",
        "\n",
        "        self.context_vocab_size = context_text_processor.vocabulary_size()\n",
        "        self.target_vocab_size = target_text_processor.vocabulary_size()\n",
        "        \n",
        "        self.word_to_id = tf.keras.layers.StringLookup(vocabulary=target_text_processor.get_vocabulary(), mask_token='', oov_token='[UNK]')\n",
        "        self.id_to_word = tf.keras.layers.StringLookup(vocabulary=target_text_processor.get_vocabulary(), mask_token='', oov_token='[UNK]', invert=True)\n",
        "    \n",
        "        self.units = units\n",
        "\n",
        "        # The embedding layer converts tokens to vectors\n",
        "        self.embedding1 = tf.keras.layers.Embedding(self.context_vocab_size, units, mask_zero=True)\n",
        "        self.embedding2 = tf.keras.layers.Embedding(self.target_vocab_size, units, mask_zero=True)\n",
        "\n",
        "        # The RNN layer processes those vectors sequentially.\n",
        "        self.encoder = tf.keras.layers.Bidirectional(\n",
        "            merge_mode='concat',\n",
        "            layer=tf.keras.layers.GRU(units, \n",
        "                                       return_sequences = True, \n",
        "                                       return_state = True,\n",
        "                                       recurrent_initializer='glorot_uniform'))\n",
        "        \n",
        "        self.decoder = tf.keras.layers.Bidirectional(\n",
        "            merge_mode='concat',\n",
        "            layer=tf.keras.layers.GRU(units, \n",
        "                                       return_sequences = True, \n",
        "                                       return_state = True,\n",
        "                                       recurrent_initializer='glorot_uniform'))\n",
        "        \n",
        "        \n",
        "        self.start_token = self.word_to_id('[START]')\n",
        "        self.end_token = self.word_to_id('[END]')\n",
        "\n",
        "        # 3. The RNN output will be the query for the attention layer.\n",
        "        self.attention = CrossAttention(units)\n",
        "        self.last_attention_weights = None\n",
        "        # 4. This fully connected layer produces the logits for each\n",
        "        # output token.\n",
        "        self.output_layer = tf.keras.layers.Dense(self.target_vocab_size)\n",
        "        \n",
        "        self.encoder_state = None\n",
        "    def call(self, X, y=None):\n",
        "        context, que = X\n",
        "        \n",
        "        #Encoding\n",
        "        # 1. embedding\n",
        "        x = self.embedding1(context)\n",
        "        # tf.print('after embedding: x shape: ',x.shape )\n",
        "        encoder_context, enc_h, enc_c = self.encoder(x)\n",
        "        self.encoder_state = [enc_h, enc_c]\n",
        "        # tf.print('after encodeing: x shape: ',len(x) )\n",
        "\n",
        "        # encoder_context, encoder_state = x\n",
        "        #Decoding\n",
        "        x = self.embedding2(que)\n",
        "        decoder_context, decoder_state_h, decoder_state_c = self.decoder(x, initial_state=self.encoder_state)\n",
        "        \n",
        "        x = self.attention(decoder_context, encoder_context)\n",
        "        # self.last_attention_weights = self.attention.last_attention_weights\n",
        "        # tf.print('decoder context shape: ', len(decoder_context))\n",
        "        # logits\n",
        "        logits = self.output_layer(x)\n",
        "            # tf.print('\\n')\n",
        "        #TODO(b/250038731): remove this\n",
        "        try:\n",
        "          # Delete the keras mask, so keras doesn't scale the loss+accuracy. \n",
        "            del logits._keras_mask\n",
        "        except AttributeError:\n",
        "            pass\n",
        "\n",
        "        return logits"
      ]
    },
    {
      "cell_type": "code",
      "source": [
        "@Translator2.add_method\n",
        "def convert_input(self, texts):\n",
        "\n",
        "    texts = tf.convert_to_tensor(texts)\n",
        "    if len(texts.shape) == 0:\n",
        "        texts = tf.convert_to_tensor(texts)[tf.newaxis]\n",
        "    context = self.context_text_processor(texts)\n",
        "    context = self(context)\n",
        "    return context"
      ],
      "metadata": {
        "id": "IXzwfGpMpU3G"
      },
      "execution_count": 36,
      "outputs": []
    },
    {
      "cell_type": "code",
      "source": [
        "@Translator2.add_method\n",
        "def get_initial_state(self, context):\n",
        "  batch_size = tf.shape(context)[0]\n",
        "  start_tokens = tf.fill([batch_size, 1], self.start_token)\n",
        "  done = tf.zeros([batch_size, 1], dtype=tf.bool)\n",
        "  embedded = self.embedding2(start_tokens)\n",
        "  context = self.decoder.get_initial_state(embedded)[0]\n",
        "  return start_tokens, done, context "
      ],
      "metadata": {
        "id": "E-FOjbqi6aDM"
      },
      "execution_count": 37,
      "outputs": []
    },
    {
      "cell_type": "code",
      "source": [
        "@Translator2.add_method\n",
        "def tokens_to_text(self, tokens):\n",
        "  words = self.id_to_word(tokens)\n",
        "  result = tf.strings.reduce_join(words, axis=-1, separator=' ')\n",
        "  result = tf.strings.regex_replace(result, '^ *\\[START\\] *', '')\n",
        "  result = tf.strings.regex_replace(result, ' *\\[END\\] *$', '')\n",
        "  return result"
      ],
      "metadata": {
        "id": "XYldFggti6nm"
      },
      "execution_count": 38,
      "outputs": []
    },
    {
      "cell_type": "code",
      "source": [
        "@Translator2.add_method\n",
        "def get_next_token(self, context, next_token, done, state, temperature = 0.0):\n",
        "  logits, state = self.decoder(\n",
        "    context, next_token,\n",
        "    state = state,\n",
        "    return_state=True) \n",
        "  \n",
        "  if temperature == 0.0:\n",
        "    next_token = tf.argmax(logits, axis=-1)\n",
        "  else:\n",
        "    logits = logits[:, -1, :]/temperature\n",
        "    next_token = tf.random.categorical(logits, num_samples=1)\n",
        "\n",
        "  # If a sequence produces an `end_token`, set it `done`\n",
        "  done = done | (next_token == self.end_token)\n",
        "  # Once a sequence is done it only produces 0-padding.\n",
        "  next_token = tf.where(done, tf.constant(0, dtype=tf.int64), next_token)\n",
        "  \n",
        "  return next_token, done, state"
      ],
      "metadata": {
        "id": "Utdr6bkrk8Vb"
      },
      "execution_count": 39,
      "outputs": []
    },
    {
      "cell_type": "code",
      "source": [
        "@Translator2.add_method\n",
        "def translate(self,\n",
        "              texts,\n",
        "              max_length=50,\n",
        "              temperature=0.0):\n",
        "  # Process the input texts\n",
        "    context = self.convert_input(texts)\n",
        "    batch_size = tf.shape(texts)[0]\n",
        "\n",
        "  # Setup the loop inputs\n",
        "    tokens = []\n",
        "    # attention_weights = []\n",
        "    next_token, done, state = self.get_initial_state(context)\n",
        "\n",
        "    for _ in range(max_length):\n",
        "        # Generate the next token\n",
        "        next_token, done, state = self.get_next_token(context, next_token, done,  state, temperature)\n",
        "\n",
        "        # Collect the generated tokens\n",
        "        tokens.append(next_token)\n",
        "        # attention_weights.append(self.last_attention_weights)\n",
        "\n",
        "        if tf.executing_eagerly() and tf.reduce_all(done):\n",
        "            break\n",
        "\n",
        "    # Stack the lists of tokens and attention weights.\n",
        "    tokens = tf.concat(tokens, axis=-1)   # t*[(batch 1)] -> (batch, t)\n",
        "    # self.last_attention_weights = tf.concat(attention_weights, axis=1)  # t*[(batch 1 s)] -> (batch, t s)\n",
        "\n",
        "    result = self.decoder.tokens_to_text(tokens)\n",
        "    return result"
      ],
      "metadata": {
        "id": "Di7FvIMLpEVZ"
      },
      "execution_count": 57,
      "outputs": []
    },
    {
      "cell_type": "code",
      "source": [
        "ss = model.translate(['She loves me'])\n",
        "ss"
      ],
      "metadata": {
        "colab": {
          "base_uri": "https://localhost:8080/",
          "height": 432
        },
        "id": "fNCLmMr_sfW-",
        "outputId": "82b5824e-ec53-4b79-94de-9c2affd012ee"
      },
      "execution_count": 58,
      "outputs": [
        {
          "output_type": "error",
          "ename": "ValueError",
          "evalue": "ignored",
          "traceback": [
            "\u001b[0;31m---------------------------------------------------------------------------\u001b[0m",
            "\u001b[0;31mValueError\u001b[0m                                Traceback (most recent call last)",
            "\u001b[0;32m<ipython-input-58-5118fff0d73b>\u001b[0m in \u001b[0;36m<module>\u001b[0;34m\u001b[0m\n\u001b[0;32m----> 1\u001b[0;31m \u001b[0mss\u001b[0m \u001b[0;34m=\u001b[0m \u001b[0mmodel\u001b[0m\u001b[0;34m.\u001b[0m\u001b[0mtranslate\u001b[0m\u001b[0;34m(\u001b[0m\u001b[0;34m[\u001b[0m\u001b[0;34m'She loves me'\u001b[0m\u001b[0;34m]\u001b[0m\u001b[0;34m)\u001b[0m\u001b[0;34m\u001b[0m\u001b[0;34m\u001b[0m\u001b[0m\n\u001b[0m\u001b[1;32m      2\u001b[0m \u001b[0mss\u001b[0m\u001b[0;34m\u001b[0m\u001b[0;34m\u001b[0m\u001b[0m\n",
            "\u001b[0;32m<ipython-input-57-0aa28810070f>\u001b[0m in \u001b[0;36mtranslate\u001b[0;34m(self, texts, max_length, temperature)\u001b[0m\n\u001b[1;32m      5\u001b[0m               temperature=0.0):\n\u001b[1;32m      6\u001b[0m   \u001b[0;31m# Process the input texts\u001b[0m\u001b[0;34m\u001b[0m\u001b[0;34m\u001b[0m\u001b[0;34m\u001b[0m\u001b[0m\n\u001b[0;32m----> 7\u001b[0;31m     \u001b[0mcontext\u001b[0m \u001b[0;34m=\u001b[0m \u001b[0mself\u001b[0m\u001b[0;34m.\u001b[0m\u001b[0mconvert_input\u001b[0m\u001b[0;34m(\u001b[0m\u001b[0mtexts\u001b[0m\u001b[0;34m)\u001b[0m\u001b[0;34m\u001b[0m\u001b[0;34m\u001b[0m\u001b[0m\n\u001b[0m\u001b[1;32m      8\u001b[0m     \u001b[0mbatch_size\u001b[0m \u001b[0;34m=\u001b[0m \u001b[0mtf\u001b[0m\u001b[0;34m.\u001b[0m\u001b[0mshape\u001b[0m\u001b[0;34m(\u001b[0m\u001b[0mtexts\u001b[0m\u001b[0;34m)\u001b[0m\u001b[0;34m[\u001b[0m\u001b[0;36m0\u001b[0m\u001b[0;34m]\u001b[0m\u001b[0;34m\u001b[0m\u001b[0;34m\u001b[0m\u001b[0m\n\u001b[1;32m      9\u001b[0m \u001b[0;34m\u001b[0m\u001b[0m\n",
            "\u001b[0;32m<ipython-input-36-ee0864b58104>\u001b[0m in \u001b[0;36mconvert_input\u001b[0;34m(self, texts)\u001b[0m\n\u001b[1;32m      6\u001b[0m         \u001b[0mtexts\u001b[0m \u001b[0;34m=\u001b[0m \u001b[0mtf\u001b[0m\u001b[0;34m.\u001b[0m\u001b[0mconvert_to_tensor\u001b[0m\u001b[0;34m(\u001b[0m\u001b[0mtexts\u001b[0m\u001b[0;34m)\u001b[0m\u001b[0;34m[\u001b[0m\u001b[0mtf\u001b[0m\u001b[0;34m.\u001b[0m\u001b[0mnewaxis\u001b[0m\u001b[0;34m]\u001b[0m\u001b[0;34m\u001b[0m\u001b[0;34m\u001b[0m\u001b[0m\n\u001b[1;32m      7\u001b[0m     \u001b[0mcontext\u001b[0m \u001b[0;34m=\u001b[0m \u001b[0mself\u001b[0m\u001b[0;34m.\u001b[0m\u001b[0mcontext_text_processor\u001b[0m\u001b[0;34m(\u001b[0m\u001b[0mtexts\u001b[0m\u001b[0;34m)\u001b[0m\u001b[0;34m\u001b[0m\u001b[0;34m\u001b[0m\u001b[0m\n\u001b[0;32m----> 8\u001b[0;31m     \u001b[0mcontext\u001b[0m \u001b[0;34m=\u001b[0m \u001b[0mself\u001b[0m\u001b[0;34m(\u001b[0m\u001b[0mcontext\u001b[0m\u001b[0;34m)\u001b[0m\u001b[0;34m\u001b[0m\u001b[0;34m\u001b[0m\u001b[0m\n\u001b[0m\u001b[1;32m      9\u001b[0m     \u001b[0;32mreturn\u001b[0m \u001b[0mcontext\u001b[0m\u001b[0;34m\u001b[0m\u001b[0;34m\u001b[0m\u001b[0m\n",
            "\u001b[0;32m/usr/local/lib/python3.8/dist-packages/keras/utils/traceback_utils.py\u001b[0m in \u001b[0;36merror_handler\u001b[0;34m(*args, **kwargs)\u001b[0m\n\u001b[1;32m     68\u001b[0m             \u001b[0;31m# To get the full stack trace, call:\u001b[0m\u001b[0;34m\u001b[0m\u001b[0;34m\u001b[0m\u001b[0;34m\u001b[0m\u001b[0m\n\u001b[1;32m     69\u001b[0m             \u001b[0;31m# `tf.debugging.disable_traceback_filtering()`\u001b[0m\u001b[0;34m\u001b[0m\u001b[0;34m\u001b[0m\u001b[0;34m\u001b[0m\u001b[0m\n\u001b[0;32m---> 70\u001b[0;31m             \u001b[0;32mraise\u001b[0m \u001b[0me\u001b[0m\u001b[0;34m.\u001b[0m\u001b[0mwith_traceback\u001b[0m\u001b[0;34m(\u001b[0m\u001b[0mfiltered_tb\u001b[0m\u001b[0;34m)\u001b[0m \u001b[0;32mfrom\u001b[0m \u001b[0;32mNone\u001b[0m\u001b[0;34m\u001b[0m\u001b[0;34m\u001b[0m\u001b[0m\n\u001b[0m\u001b[1;32m     71\u001b[0m         \u001b[0;32mfinally\u001b[0m\u001b[0;34m:\u001b[0m\u001b[0;34m\u001b[0m\u001b[0;34m\u001b[0m\u001b[0m\n\u001b[1;32m     72\u001b[0m             \u001b[0;32mdel\u001b[0m \u001b[0mfiltered_tb\u001b[0m\u001b[0;34m\u001b[0m\u001b[0;34m\u001b[0m\u001b[0m\n",
            "\u001b[0;32m<ipython-input-35-7e94b26da886>\u001b[0m in \u001b[0;36mcall\u001b[0;34m(self, X, y)\u001b[0m\n\u001b[1;32m     51\u001b[0m         \u001b[0mself\u001b[0m\u001b[0;34m.\u001b[0m\u001b[0mencoder_state\u001b[0m \u001b[0;34m=\u001b[0m \u001b[0;32mNone\u001b[0m\u001b[0;34m\u001b[0m\u001b[0;34m\u001b[0m\u001b[0m\n\u001b[1;32m     52\u001b[0m     \u001b[0;32mdef\u001b[0m \u001b[0mcall\u001b[0m\u001b[0;34m(\u001b[0m\u001b[0mself\u001b[0m\u001b[0;34m,\u001b[0m \u001b[0mX\u001b[0m\u001b[0;34m,\u001b[0m \u001b[0my\u001b[0m\u001b[0;34m=\u001b[0m\u001b[0;32mNone\u001b[0m\u001b[0;34m)\u001b[0m\u001b[0;34m:\u001b[0m\u001b[0;34m\u001b[0m\u001b[0;34m\u001b[0m\u001b[0m\n\u001b[0;32m---> 53\u001b[0;31m         \u001b[0mcontext\u001b[0m\u001b[0;34m,\u001b[0m \u001b[0mque\u001b[0m \u001b[0;34m=\u001b[0m \u001b[0mX\u001b[0m\u001b[0;34m\u001b[0m\u001b[0;34m\u001b[0m\u001b[0m\n\u001b[0m\u001b[1;32m     54\u001b[0m \u001b[0;34m\u001b[0m\u001b[0m\n\u001b[1;32m     55\u001b[0m         \u001b[0;31m#Encoding\u001b[0m\u001b[0;34m\u001b[0m\u001b[0;34m\u001b[0m\u001b[0;34m\u001b[0m\u001b[0m\n",
            "\u001b[0;31mValueError\u001b[0m: Exception encountered when calling layer 'translator2' (type Translator2).\n\nnot enough values to unpack (expected 2, got 1)\n\nCall arguments received by layer 'translator2' (type Translator2):\n  • X=tf.Tensor(shape=(1, 200), dtype=int64)\n  • y=None"
          ]
        }
      ]
    },
    {
      "cell_type": "code",
      "execution_count": 42,
      "metadata": {
        "id": "lhj-jdpS0tAI",
        "tags": []
      },
      "outputs": [],
      "source": [
        "model = Translator2(UNITS, eng_vectorizer, hin_vectorizer)"
      ]
    },
    {
      "cell_type": "code",
      "execution_count": 43,
      "metadata": {
        "id": "dSxxNTtT0s2z",
        "jupyter": {
          "source_hidden": true
        },
        "tags": [],
        "cellView": "form"
      },
      "outputs": [],
      "source": [
        "#@title\n",
        "# sample = train_df.sample(5)\n",
        "# some_hindi_text = sample['hindi'].to_numpy()\n",
        "# some_eng_text = sample['english'].to_numpy()\n",
        "\n",
        "# print(some_hindi_text)\n",
        "# print(some_eng_text)\n",
        "\n",
        "# vectorized_eng_text = eng_vectorizer(some_eng_text)\n",
        "# vectorized_eng_text[:,:10]\n",
        "\n",
        "# vectorized_hindi_text = hin_vectorizer(some_hindi_text)\n",
        "# vectorized_hindi_text[:,:10]\n",
        "\n",
        "# vec_hindi_in = vectorized_hindi_text[:,:-1]\n",
        "# vec_hindi_out = vectorized_hindi_text[:,1:]\n",
        "# print(vec_hindi_in[:,:10])\n",
        "# print()\n",
        "# print(vec_hindi_out[:,:10])\n",
        "\n",
        "# encoder = Encoder(eng_vectorizer, UNITS)\n",
        "# # context_eng = encoder((vectorized_eng_text))\n",
        "\n",
        "# new_tx = encoder.convert_input(['hey man'])\n",
        "\n",
        "# # context_eng\n",
        "\n",
        "# # decoder = Decoder(hin_vectorizer, UNITS)\n",
        "# # logits = decoder(context_eng, vec_hindi_in)\n",
        "# # logits.shape"
      ]
    },
    {
      "cell_type": "code",
      "execution_count": 43,
      "metadata": {
        "id": "5DMM5XHX0syX"
      },
      "outputs": [],
      "source": []
    },
    {
      "cell_type": "code",
      "execution_count": 44,
      "metadata": {
        "id": "wrQnQhGM0stC",
        "tags": []
      },
      "outputs": [],
      "source": [
        "def masked_loss(y_true, y_pred):\n",
        "    # Calculate the loss for each item in the batch.\n",
        "    loss_fn = tf.keras.losses.SparseCategoricalCrossentropy(\n",
        "        from_logits=True, reduction='none')\n",
        "    loss = loss_fn(y_true, y_pred)\n",
        "\n",
        "    # Mask off the losses on padding.\n",
        "    mask = tf.cast(y_true != 0, loss.dtype)\n",
        "    loss *= mask\n",
        "\n",
        "    # Return the total.\n",
        "    return tf.reduce_sum(loss)/tf.reduce_sum(mask)"
      ]
    },
    {
      "cell_type": "code",
      "execution_count": 45,
      "metadata": {
        "id": "IGw3VSmG0sqa"
      },
      "outputs": [],
      "source": [
        "def masked_acc(y_true, y_pred):\n",
        "    # Calculate the loss for each item in the batch.\n",
        "    y_pred = tf.argmax(y_pred, axis=-1)\n",
        "    y_pred = tf.cast(y_pred, y_true.dtype)\n",
        "\n",
        "    match = tf.cast(y_true == y_pred, tf.float32)\n",
        "    mask = tf.cast(y_true != 0, tf.float32)\n",
        "\n",
        "    return tf.reduce_sum(match)/tf.reduce_sum(mask)"
      ]
    },
    {
      "cell_type": "code",
      "execution_count": 46,
      "metadata": {
        "id": "YacbS2vjjFxg"
      },
      "outputs": [],
      "source": [
        "model.compile(optimizer='adam',\n",
        "              loss=masked_loss, \n",
        "              metrics=[masked_acc, masked_loss])"
      ]
    },
    {
      "cell_type": "code",
      "execution_count": 47,
      "metadata": {
        "id": "-i_XW14UjFxg"
      },
      "outputs": [],
      "source": [
        "# model.summary()"
      ]
    },
    {
      "cell_type": "code",
      "execution_count": 48,
      "metadata": {
        "id": "nQ5eDngHjFxh"
      },
      "outputs": [],
      "source": [
        "EPOCHS = 30\n",
        "CKPT_DIR = './model_checkpoint'"
      ]
    },
    {
      "cell_type": "code",
      "execution_count": 49,
      "metadata": {
        "id": "mw84m4ZTjFxh"
      },
      "outputs": [],
      "source": [
        "model_ckpt = tf.keras.callbacks.ModelCheckpoint(\n",
        "    os.path.join(CKPT_DIR,  f\"{datetime.now().strftime('%m:%d:%Y, %H:%M:%S')}\"),\n",
        "    monitor= 'loss',\n",
        "    verbose= 0,\n",
        "    save_best_only = True,\n",
        "    save_weights_only = True,\n",
        "    mode= 'auto',\n",
        "    save_freq='epoch'\n",
        ")"
      ]
    },
    {
      "cell_type": "code",
      "execution_count": 50,
      "metadata": {
        "id": "tqtKPvmAjFxi"
      },
      "outputs": [],
      "source": [
        "data_amount = 20"
      ]
    },
    {
      "cell_type": "code",
      "execution_count": 51,
      "metadata": {
        "id": "rg1ZWQV90sn9",
        "colab": {
          "base_uri": "https://localhost:8080/"
        },
        "outputId": "a7a780c3-a7d6-4957-e280-d5006e308865"
      },
      "outputs": [
        {
          "output_type": "stream",
          "name": "stdout",
          "text": [
            "Epoch 1/30\n",
            "60/60 [==============================] - 41s 254ms/step - loss: 6.7381 - masked_acc: 0.1199 - masked_loss: 6.7381 - val_loss: 6.1761 - val_masked_acc: 0.1210 - val_masked_loss: 6.1694\n",
            "Epoch 2/30\n",
            "60/60 [==============================] - 7s 123ms/step - loss: 5.7408 - masked_acc: 0.1472 - masked_loss: 5.7366 - val_loss: 5.5941 - val_masked_acc: 0.1976 - val_masked_loss: 5.5964\n",
            "Epoch 3/30\n",
            "60/60 [==============================] - 4s 70ms/step - loss: 5.0454 - masked_acc: 0.2503 - masked_loss: 5.0392 - val_loss: 4.9558 - val_masked_acc: 0.3056 - val_masked_loss: 4.9578\n",
            "Epoch 4/30\n",
            "60/60 [==============================] - 3s 55ms/step - loss: 4.2901 - masked_acc: 0.3585 - masked_loss: 4.2901 - val_loss: 4.3521 - val_masked_acc: 0.3768 - val_masked_loss: 4.3530\n",
            "Epoch 5/30\n",
            "60/60 [==============================] - 3s 56ms/step - loss: 3.6373 - masked_acc: 0.4384 - masked_loss: 3.6372 - val_loss: 3.8181 - val_masked_acc: 0.4346 - val_masked_loss: 3.8285\n",
            "Epoch 6/30\n",
            "60/60 [==============================] - 4s 62ms/step - loss: 3.1468 - masked_acc: 0.4927 - masked_loss: 3.1597 - val_loss: 3.3584 - val_masked_acc: 0.4811 - val_masked_loss: 3.3523\n",
            "Epoch 7/30\n",
            "60/60 [==============================] - 3s 45ms/step - loss: 2.6158 - masked_acc: 0.5629 - masked_loss: 2.6158 - val_loss: 3.0064 - val_masked_acc: 0.5636 - val_masked_loss: 2.9967\n",
            "Epoch 8/30\n",
            "60/60 [==============================] - 3s 49ms/step - loss: 2.2180 - masked_acc: 0.6310 - masked_loss: 2.2129 - val_loss: 2.7001 - val_masked_acc: 0.6224 - val_masked_loss: 2.6862\n",
            "Epoch 9/30\n",
            "60/60 [==============================] - 5s 81ms/step - loss: 1.9225 - masked_acc: 0.6752 - masked_loss: 1.9329 - val_loss: 2.4203 - val_masked_acc: 0.6783 - val_masked_loss: 2.4108\n",
            "Epoch 10/30\n",
            "60/60 [==============================] - 4s 60ms/step - loss: 1.5534 - masked_acc: 0.7438 - masked_loss: 1.5534 - val_loss: 2.2264 - val_masked_acc: 0.6984 - val_masked_loss: 2.2332\n",
            "Epoch 11/30\n",
            "60/60 [==============================] - 3s 48ms/step - loss: 1.3211 - masked_acc: 0.7948 - masked_loss: 1.3154 - val_loss: 2.0234 - val_masked_acc: 0.7444 - val_masked_loss: 2.0210\n",
            "Epoch 12/30\n",
            "60/60 [==============================] - 3s 45ms/step - loss: 1.1233 - masked_acc: 0.8255 - masked_loss: 1.1339 - val_loss: 1.8815 - val_masked_acc: 0.7736 - val_masked_loss: 1.8816\n",
            "Epoch 13/30\n",
            "60/60 [==============================] - 3s 58ms/step - loss: 0.8886 - masked_acc: 0.8850 - masked_loss: 0.8886 - val_loss: 1.7497 - val_masked_acc: 0.7913 - val_masked_loss: 1.7605\n",
            "Epoch 14/30\n",
            "60/60 [==============================] - 3s 49ms/step - loss: 0.7373 - masked_acc: 0.9145 - masked_loss: 0.7345 - val_loss: 1.6510 - val_masked_acc: 0.8101 - val_masked_loss: 1.6563\n",
            "Epoch 15/30\n",
            "60/60 [==============================] - 3s 47ms/step - loss: 0.6270 - masked_acc: 0.9350 - masked_loss: 0.6197 - val_loss: 1.5620 - val_masked_acc: 0.8267 - val_masked_loss: 1.5746\n",
            "Epoch 16/30\n",
            "60/60 [==============================] - 3s 54ms/step - loss: 0.4689 - masked_acc: 0.9722 - masked_loss: 0.4689 - val_loss: 1.6132 - val_masked_acc: 0.8210 - val_masked_loss: 1.6003\n",
            "Epoch 17/30\n",
            "60/60 [==============================] - 4s 64ms/step - loss: 0.3880 - masked_acc: 0.9827 - masked_loss: 0.3832 - val_loss: 1.5571 - val_masked_acc: 0.8295 - val_masked_loss: 1.5580\n",
            "Epoch 18/30\n",
            "60/60 [==============================] - 3s 47ms/step - loss: 0.3235 - masked_acc: 0.9896 - masked_loss: 0.3288 - val_loss: 1.5560 - val_masked_acc: 0.8301 - val_masked_loss: 1.5536\n",
            "Epoch 19/30\n",
            "60/60 [==============================] - 3s 45ms/step - loss: 0.2269 - masked_acc: 0.9978 - masked_loss: 0.2269 - val_loss: 1.4934 - val_masked_acc: 0.8388 - val_masked_loss: 1.4989\n",
            "Epoch 20/30\n",
            "60/60 [==============================] - 3s 50ms/step - loss: 0.1876 - masked_acc: 0.9989 - masked_loss: 0.1854 - val_loss: 1.4341 - val_masked_acc: 0.8443 - val_masked_loss: 1.4399\n",
            "Epoch 21/30\n",
            "60/60 [==============================] - 4s 59ms/step - loss: 0.1546 - masked_acc: 0.9991 - masked_loss: 0.1568 - val_loss: 1.5120 - val_masked_acc: 0.8384 - val_masked_loss: 1.5186\n",
            "Epoch 22/30\n",
            "60/60 [==============================] - 3s 45ms/step - loss: 0.1075 - masked_acc: 0.9998 - masked_loss: 0.1075 - val_loss: 1.4428 - val_masked_acc: 0.8532 - val_masked_loss: 1.4309\n",
            "Epoch 23/30\n",
            "60/60 [==============================] - 3s 49ms/step - loss: 0.0932 - masked_acc: 0.9996 - masked_loss: 0.0933 - val_loss: 1.4524 - val_masked_acc: 0.8484 - val_masked_loss: 1.4336\n",
            "Epoch 24/30\n",
            "60/60 [==============================] - 3s 44ms/step - loss: 0.0754 - masked_acc: 0.9999 - masked_loss: 0.0760 - val_loss: 1.4654 - val_masked_acc: 0.8451 - val_masked_loss: 1.4477\n",
            "Epoch 25/30\n",
            "60/60 [==============================] - 4s 60ms/step - loss: 0.0584 - masked_acc: 0.9999 - masked_loss: 0.0584 - val_loss: 1.4987 - val_masked_acc: 0.8456 - val_masked_loss: 1.5155\n",
            "Epoch 26/30\n",
            "60/60 [==============================] - 3s 44ms/step - loss: 0.0507 - masked_acc: 0.9999 - masked_loss: 0.0504 - val_loss: 1.4257 - val_masked_acc: 0.8514 - val_masked_loss: 1.4332\n",
            "Epoch 27/30\n",
            "60/60 [==============================] - 3s 43ms/step - loss: 0.0450 - masked_acc: 0.9998 - masked_loss: 0.0444 - val_loss: 1.4273 - val_masked_acc: 0.8546 - val_masked_loss: 1.4238\n",
            "Epoch 28/30\n",
            "60/60 [==============================] - 3s 44ms/step - loss: 0.0367 - masked_acc: 0.9998 - masked_loss: 0.0367 - val_loss: 1.4593 - val_masked_acc: 0.8508 - val_masked_loss: 1.4511\n",
            "Epoch 29/30\n",
            "60/60 [==============================] - 4s 62ms/step - loss: 0.0332 - masked_acc: 1.0000 - masked_loss: 0.0330 - val_loss: 1.5142 - val_masked_acc: 0.8446 - val_masked_loss: 1.5054\n",
            "Epoch 30/30\n",
            "60/60 [==============================] - 3s 46ms/step - loss: 0.0300 - masked_acc: 0.9999 - masked_loss: 0.0300 - val_loss: 1.4756 - val_masked_acc: 0.8493 - val_masked_loss: 1.4712\n"
          ]
        }
      ],
      "source": [
        "# tf.executing_eagerly(False)\n",
        "\n",
        "history = model.fit(\n",
        "    train_ds.repeat(), \n",
        "    epochs=EPOCHS,\n",
        "    steps_per_epoch = int(data_amount*(len(train_ds)/EPOCHS)),\n",
        "\n",
        "    validation_data=val_ds.repeat(),\n",
        "    validation_steps = 5,\n",
        "    callbacks=[\n",
        "        tf.keras.callbacks.EarlyStopping(monitor = 'masked_loss', patience=3),\n",
        "    model_ckpt])"
      ]
    },
    {
      "cell_type": "code",
      "execution_count": 52,
      "metadata": {
        "id": "0oAu_jN60slV",
        "colab": {
          "base_uri": "https://localhost:8080/",
          "height": 298
        },
        "outputId": "243dd6f2-7c99-4f23-bdf0-b6c59ae0775c"
      },
      "outputs": [
        {
          "output_type": "execute_result",
          "data": {
            "text/plain": [
              "<matplotlib.legend.Legend at 0x7fa03e607640>"
            ]
          },
          "metadata": {},
          "execution_count": 52
        },
        {
          "output_type": "display_data",
          "data": {
            "text/plain": [
              "<Figure size 432x288 with 1 Axes>"
            ],
            "image/png": "[encoded data removed]"
          },
          "metadata": {
            "needs_background": "light"
          }
        }
      ],
      "source": [
        "plt.plot(history.history['loss'], label='loss')\n",
        "# plt.plot(history.history['val_loss'], label='val_loss')\n",
        "plt.ylim([0, max(plt.ylim())])\n",
        "plt.xlabel('Epoch #')\n",
        "plt.ylabel('CE/token')\n",
        "plt.legend()"
      ]
    },
    {
      "cell_type": "code",
      "execution_count": 53,
      "metadata": {
        "id": "XUF3LXpN0sjC",
        "colab": {
          "base_uri": "https://localhost:8080/",
          "height": 296
        },
        "outputId": "037fe6a6-81d6-4aef-a74f-939a8a9ccb81"
      },
      "outputs": [
        {
          "output_type": "execute_result",
          "data": {
            "text/plain": [
              "<matplotlib.legend.Legend at 0x7fa03fadde80>"
            ]
          },
          "metadata": {},
          "execution_count": 53
        },
        {
          "output_type": "display_data",
          "data": {
            "text/plain": [
              "<Figure size 432x288 with 1 Axes>"
            ],
            "image/png": "[encoded data removed]"
          },
          "metadata": {
            "needs_background": "light"
          }
        }
      ],
      "source": [
        "plt.plot(history.history['masked_acc'], label='accuracy')\n",
        "# plt.plot(history.history['val_masked_acc'], label='val_accuracy')\n",
        "plt.ylim([0, max(plt.ylim())])\n",
        "plt.xlabel('Epoch #')\n",
        "plt.ylabel('CE/token')\n",
        "plt.legend()"
      ]
    },
    {
      "cell_type": "code",
      "execution_count": null,
      "metadata": {
        "id": "nbmAh9W70sgO"
      },
      "outputs": [],
      "source": []
    },
    {
      "cell_type": "code",
      "execution_count": null,
      "metadata": {
        "id": "sDETfmnw0sdp"
      },
      "outputs": [],
      "source": [
        "result = model.translate(['She loves me']) \n",
        "result[0].numpy().decode()"
      ]
    },
    {
      "cell_type": "code",
      "execution_count": null,
      "metadata": {
        "id": "Ty6op_uUjFxl"
      },
      "outputs": [],
      "source": [
        "plt.plot(history.history['masked_acc'], label='accuracy')\n",
        "plt.ylim([0, max(plt.ylim())])\n",
        "plt.title('accuracy vs epochs')\n",
        "plt.legend()"
      ]
    },
    {
      "cell_type": "code",
      "execution_count": null,
      "metadata": {
        "id": "EfnUjWD_jFxl"
      },
      "outputs": [],
      "source": []
    }
  ],
  "metadata": {
    "colab": {
      "provenance": [],
      "toc_visible": true,
      "include_colab_link": true
    },
    "kernelspec": {
      "display_name": "Python 3 (ipykernel)",
      "language": "python",
      "name": "python3"
    },
    "language_info": {
      "codemirror_mode": {
        "name": "ipython",
        "version": 3
      },
      "file_extension": ".py",
      "mimetype": "text/x-python",
      "name": "python",
      "nbconvert_exporter": "python",
      "pygments_lexer": "ipython3",
      "version": "3.9.16"
    },
    "accelerator": "GPU",
    "gpuClass": "standard"
  },
  "nbformat": 4,
  "nbformat_minor": 0
}